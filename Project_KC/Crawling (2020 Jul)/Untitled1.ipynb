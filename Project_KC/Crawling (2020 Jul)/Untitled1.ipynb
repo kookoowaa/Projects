{
 "cells": [
  {
   "cell_type": "code",
   "execution_count": 1,
   "metadata": {},
   "outputs": [],
   "source": [
    "from selenium import webdriver\n",
    "import pandas as pd\n",
    "import numpy as np\n",
    "import re\n",
    "import time\n",
    "import datetime\n",
    "import os\n",
    "from bs4 import BeautifulSoup as bs"
   ]
  },
  {
   "cell_type": "code",
   "execution_count": 2,
   "metadata": {},
   "outputs": [],
   "source": [
    "#driver = webdriver.Chrome(r\"C:\\Users\\chpar10\\OneDrive - IKEA\\DA\\chromedriver.exe\")\n",
    "driver = webdriver.Chrome(r\"D:\\Git\\chromedriver.exe\")"
   ]
  },
  {
   "cell_type": "code",
   "execution_count": 3,
   "metadata": {},
   "outputs": [],
   "source": [
    "driver.get('http://kyochon.revelup.com')\n",
    "\n"
   ]
  },
  {
   "cell_type": "code",
   "execution_count": 70,
   "metadata": {},
   "outputs": [],
   "source": [
    "revel_id = \"\"\n",
    "driver.find_element_by_xpath('//*[@id=\"auth0-lock-container-1\"]/div/div[2]/form/div/div/div/div[2]/div[2]/span/div/div/div/div/div/div/div/div/div/div/div[1]/div/input').send_keys(revel_id)\n",
    "print()\n",
    "passwd = input(\"password for {}: \".format(revel_id))\n",
    "print()\n",
    "driver.find_element_by_xpath('//*[@id=\"auth0-lock-container-1\"]/div/div[2]/form/div/div/div/div[2]/div[2]/span/div/div/div/div/div/div/div/div/div/div/div[2]/div[1]/div/input').send_keys(passwd)\n",
    "driver.find_element_by_xpath('//*[@id=\"auth0-lock-container-1\"]/div/div[2]/form/div/div/div/button').click()"
   ]
  },
  {
   "cell_type": "code",
   "execution_count": 71,
   "metadata": {},
   "outputs": [],
   "source": [
    "def sto_summary():\n",
    "    # Stores\n",
    "    sto = driver.find_element_by_xpath('//*[@id=\"header\"]/div[2]/div[5]/div[2]/span').text\n",
    "\n",
    "    now = datetime.datetime.now()\n",
    "\n",
    "    # Dates\n",
    "    now_date = str(now.year) + '-' + ('0' + str(now.month))[-2:] + '-' + ('0' + str(now.day))[-2:]\n",
    "    # Time\n",
    "    now_hour = str(now.hour)\n",
    "\n",
    "    # Net sales\n",
    "    acc_sales = driver.find_element_by_xpath('//*[@id=\"table_data_place\"]/div[1]/div[1]/ul/li[1]/ul/li[1]/div/div[2]').text\n",
    "    # Net transaction\n",
    "    acc_transaction = driver.find_element_by_xpath('//*[@id=\"table_data_place\"]/div[1]/div[2]/ul/li[1]/ul/li[1]/div/div[2]').text\n",
    "    # avg check (calculated)\n",
    "    try:\n",
    "        avg_check = float(acc_sales)/float(acc_transaction)\n",
    "    except ZeroDivisionError:\n",
    "        avg_check = 0\n",
    "\n",
    "    table1 = pd.DataFrame([sto, now_date, now_hour, acc_sales, acc_transaction, avg_check], \n",
    "                          index = ['Store', 'Date', 'Hour', 'Sales', 'Transaction', 'Avg. check'],\n",
    "                          columns = ['Summary'])\n",
    "    table1 = table1.reset_index()\n",
    "    return table1"
   ]
  },
  {
   "cell_type": "code",
   "execution_count": 72,
   "metadata": {},
   "outputs": [],
   "source": [
    "def prod_mix():\n",
    "    tbl_len = len(driver.find_elements_by_class_name('last-matrix-element'))\n",
    "    table2 = {}\n",
    "    for i in range(tbl_len):\n",
    "        table2[driver.find_elements_by_class_name('product-description-container')[i].text] = {'Qty': driver.find_elements_by_class_name('n_items')[i+1].text, \n",
    "                                                                                              'Sales': driver.find_elements_by_class_name('price')[i+1].text}\n",
    "    table2 = pd.DataFrame(table2).T.reset_index()\n",
    "    table2 = table2.iloc[:len(table2)-2]\n",
    "    return table2"
   ]
  },
  {
   "cell_type": "code",
   "execution_count": 81,
   "metadata": {},
   "outputs": [
    {
     "name": "stdout",
     "output_type": "stream",
     "text": [
      "Element Fresh (Pavillion)\n",
      "Midvalley Southkey\n",
      "R&F Mall\n",
      "TOPPEN\n",
      "Arcoris\n",
      "MyTown\n",
      "Pavilion\n",
      "Pearl\n",
      "The Gardens Mall\n",
      "Wisma Central (D.K)\n",
      "AEON Nilai\n",
      "Genting\n",
      "IOI City Mall\n",
      "1 Utama\n",
      "D. Perdana (D.K)\n",
      "D. Uptown (D.K)\n",
      "IPC\n",
      "SS2\n",
      "Central i-City\n",
      "Petronas (Jln Plumbum)\n",
      "Setia City\n",
      "IOI Puchong\n",
      "Sunway Pyramid\n"
     ]
    }
   ],
   "source": [
    "#for loop\n",
    "driver.find_element_by_xpath('//*[@id=\"header\"]/div[2]/div[5]/div[2]/span').click()\n",
    "time.sleep(5)\n",
    "driver.find_element_by_xpath('//*[@id=\"establishments-tree\"]/div/div[2]/div[2]/div[2]/span[1]').click()\n",
    "n_sto = len(driver.find_elements_by_class_name('fancytree-title.disabled'))\n",
    "\n",
    "summ = []\n",
    "range_mix = []\n",
    "#for i in range(3):\n",
    "for i in range(n_sto):\n",
    "        \n",
    "    \n",
    "    if i!=0:\n",
    "        driver.find_element_by_xpath('//*[@id=\"header\"]/div[2]/div[5]/div[2]/span').click()\n",
    "        time.sleep(5)\n",
    "        driver.find_element_by_xpath('//*[@id=\"establishments-tree\"]/div/div[2]/div[2]/div[2]/span[1]').click()\n",
    "    time.sleep(3)\n",
    "    driver.find_elements_by_class_name('fancytree-title.disabled')[i].click()\n",
    "    time.sleep(7)\n",
    "    driver.find_element_by_xpath('//*[@id=\"navigation\"]/div/ul/li[2]/a/span').click()\n",
    "    time.sleep(10)\n",
    "    summ.append(sto_summary())\n",
    "    driver.find_element_by_xpath('//*[@id=\"report_sub_nav\"]/li[4]/a').click()\n",
    "    time.sleep(10)\n",
    "    range_mix.append(prod_mix())\n",
    "\n",
    " \n",
    "    \n",
    "    print(driver.find_element_by_xpath('//*[@id=\"header\"]/div[2]/div[5]/div[2]/span').text)"
   ]
  },
  {
   "cell_type": "code",
   "execution_count": 80,
   "metadata": {},
   "outputs": [
    {
     "data": {
      "text/plain": [
       "0"
      ]
     },
     "execution_count": 80,
     "metadata": {},
     "output_type": "execute_result"
    }
   ],
   "source": [
    "n_sto"
   ]
  },
  {
   "cell_type": "code",
   "execution_count": 26,
   "metadata": {},
   "outputs": [],
   "source": [
    "\n",
    "from openpyxl import Workbook\n"
   ]
  },
  {
   "cell_type": "code",
   "execution_count": 105,
   "metadata": {},
   "outputs": [],
   "source": []
  },
  {
   "cell_type": "code",
   "execution_count": 106,
   "metadata": {},
   "outputs": [],
   "source": []
  },
  {
   "cell_type": "code",
   "execution_count": null,
   "metadata": {},
   "outputs": [],
   "source": [
    "wb = Workbook()\n",
    "for i in range(len(summ)):\n",
    "    ws = wb.create_sheet()\n",
    "    nrow, ncol = summ[i].shape\n",
    "    for r in range(nrow):\n",
    "        for c in range(ncol):\n",
    "            ws.cell(r+1,c+1, value = summ[1].iloc[r,c])\n",
    "    ws.title = ws.cell(1,2).value\n",
    "    \n",
    "    nrow, ncol = range_mix[i].shape\n",
    "    for r in range(nrow):\n",
    "        for c in range(ncol):\n",
    "            ws.cell(r+1,c+4, value = range_mix[i].iloc[r,c])\n",
    "wb.remove(wb['Sheet'])\n",
    "\n",
    "now = datetime.datetime.now()\n",
    "wb.save(\"Summary {y}{m}{d}.xlsx\".format(y=now.year, m=('0' + str(now.month))[-2:], d=('0' + str(now.day))[-2:]))"
   ]
  },
  {
   "cell_type": "code",
   "execution_count": 93,
   "metadata": {},
   "outputs": [],
   "source": [
    "nrow, ncol = summ[0].shape"
   ]
  },
  {
   "cell_type": "code",
   "execution_count": 94,
   "metadata": {
    "scrolled": true
   },
   "outputs": [
    {
     "name": "stdout",
     "output_type": "stream",
     "text": [
      "0 0\n",
      "0 1\n",
      "1 0\n",
      "1 1\n",
      "2 0\n",
      "2 1\n",
      "3 0\n",
      "3 1\n",
      "4 0\n",
      "4 1\n",
      "5 0\n",
      "5 1\n"
     ]
    }
   ],
   "source": [
    "for r in range(nrow):\n",
    "    for c in range(ncol):\n",
    "        print(r,c)\n",
    "        ws.cell(r+1,c+1, value = summ[1].iloc[r,c])"
   ]
  },
  {
   "cell_type": "code",
   "execution_count": 95,
   "metadata": {},
   "outputs": [],
   "source": [
    "ws.title = ws.cell(1,2).value"
   ]
  },
  {
   "cell_type": "code",
   "execution_count": 96,
   "metadata": {},
   "outputs": [],
   "source": [
    "nrow, ncol = range_mix[1].shape"
   ]
  },
  {
   "cell_type": "code",
   "execution_count": 97,
   "metadata": {},
   "outputs": [
    {
     "name": "stdout",
     "output_type": "stream",
     "text": [
      "0 0\n",
      "0 1\n",
      "0 2\n",
      "1 0\n",
      "1 1\n",
      "1 2\n",
      "2 0\n",
      "2 1\n",
      "2 2\n",
      "3 0\n",
      "3 1\n",
      "3 2\n",
      "4 0\n",
      "4 1\n",
      "4 2\n",
      "5 0\n",
      "5 1\n",
      "5 2\n",
      "6 0\n",
      "6 1\n",
      "6 2\n",
      "7 0\n",
      "7 1\n",
      "7 2\n",
      "8 0\n",
      "8 1\n",
      "8 2\n",
      "9 0\n",
      "9 1\n",
      "9 2\n",
      "10 0\n",
      "10 1\n",
      "10 2\n",
      "11 0\n",
      "11 1\n",
      "11 2\n",
      "12 0\n",
      "12 1\n",
      "12 2\n",
      "13 0\n",
      "13 1\n",
      "13 2\n",
      "14 0\n",
      "14 1\n",
      "14 2\n",
      "15 0\n",
      "15 1\n",
      "15 2\n"
     ]
    }
   ],
   "source": [
    "for r in range(nrow):\n",
    "    for c in range(ncol):\n",
    "        print(r,c)\n",
    "        ws.cell(r+1,c+4, value = range_mix[1].iloc[r,c])"
   ]
  },
  {
   "cell_type": "code",
   "execution_count": 103,
   "metadata": {},
   "outputs": [],
   "source": [
    "wb.remove(wb['Sheet'])"
   ]
  },
  {
   "cell_type": "code",
   "execution_count": 104,
   "metadata": {},
   "outputs": [],
   "source": [
    "now = datetime.datetime.now()\n",
    "wb.save(\"Summary {y}{m}{d}.xlsx\".format(y=now.year, m=('0' + str(now.month))[-2:], d=('0' + str(now.day))[-2:]))"
   ]
  },
  {
   "cell_type": "code",
   "execution_count": 62,
   "metadata": {},
   "outputs": [
    {
     "data": {
      "text/plain": [
       "'d:\\\\Git\\\\Projects\\\\Project_KC\\\\Crawling (2020 Jul)'"
      ]
     },
     "execution_count": 62,
     "metadata": {},
     "output_type": "execute_result"
    }
   ],
   "source": [
    "os.getcwd()"
   ]
  },
  {
   "cell_type": "code",
   "execution_count": 34,
   "metadata": {},
   "outputs": [],
   "source": [
    "ws.title = summ[0].iloc[0,0]"
   ]
  },
  {
   "cell_type": "code",
   "execution_count": null,
   "metadata": {},
   "outputs": [],
   "source": [
    "ws"
   ]
  },
  {
   "cell_type": "code",
   "execution_count": 65,
   "metadata": {},
   "outputs": [
    {
     "data": {
      "text/html": [
       "<div>\n",
       "<style scoped>\n",
       "    .dataframe tbody tr th:only-of-type {\n",
       "        vertical-align: middle;\n",
       "    }\n",
       "\n",
       "    .dataframe tbody tr th {\n",
       "        vertical-align: top;\n",
       "    }\n",
       "\n",
       "    .dataframe thead th {\n",
       "        text-align: right;\n",
       "    }\n",
       "</style>\n",
       "<table border=\"1\" class=\"dataframe\">\n",
       "  <thead>\n",
       "    <tr style=\"text-align: right;\">\n",
       "      <th></th>\n",
       "      <th>index</th>\n",
       "      <th>Qty</th>\n",
       "      <th>Sales</th>\n",
       "    </tr>\n",
       "  </thead>\n",
       "  <tbody>\n",
       "    <tr>\n",
       "      <th>0</th>\n",
       "      <td>Ala Carte</td>\n",
       "      <td>2.00</td>\n",
       "      <td>41.50</td>\n",
       "    </tr>\n",
       "    <tr>\n",
       "      <th>1</th>\n",
       "      <td>Bottled Water</td>\n",
       "      <td>4.00</td>\n",
       "      <td>15.11</td>\n",
       "    </tr>\n",
       "    <tr>\n",
       "      <th>2</th>\n",
       "      <td>Combo</td>\n",
       "      <td>28.00</td>\n",
       "      <td>-0.02</td>\n",
       "    </tr>\n",
       "    <tr>\n",
       "      <th>3</th>\n",
       "      <td>Crispy Series</td>\n",
       "      <td>3.00</td>\n",
       "      <td>83.01</td>\n",
       "    </tr>\n",
       "    <tr>\n",
       "      <th>4</th>\n",
       "      <td>Honey</td>\n",
       "      <td>19.00</td>\n",
       "      <td>494.29</td>\n",
       "    </tr>\n",
       "    <tr>\n",
       "      <th>5</th>\n",
       "      <td>Hot / Cold Teas</td>\n",
       "      <td>7.00</td>\n",
       "      <td>42.47</td>\n",
       "    </tr>\n",
       "    <tr>\n",
       "      <th>6</th>\n",
       "      <td>Mixed</td>\n",
       "      <td>25.00</td>\n",
       "      <td>834.00</td>\n",
       "    </tr>\n",
       "    <tr>\n",
       "      <th>7</th>\n",
       "      <td>Original / Red</td>\n",
       "      <td>9.00</td>\n",
       "      <td>186.79</td>\n",
       "    </tr>\n",
       "    <tr>\n",
       "      <th>8</th>\n",
       "      <td>Packaging</td>\n",
       "      <td>5.00</td>\n",
       "      <td>8.49</td>\n",
       "    </tr>\n",
       "    <tr>\n",
       "      <th>9</th>\n",
       "      <td>Red Pepper</td>\n",
       "      <td>15.00</td>\n",
       "      <td>366.99</td>\n",
       "    </tr>\n",
       "    <tr>\n",
       "      <th>10</th>\n",
       "      <td>Rice</td>\n",
       "      <td>44.00</td>\n",
       "      <td>261.29</td>\n",
       "    </tr>\n",
       "    <tr>\n",
       "      <th>11</th>\n",
       "      <td>Salads</td>\n",
       "      <td>1.00</td>\n",
       "      <td>14.15</td>\n",
       "    </tr>\n",
       "    <tr>\n",
       "      <th>12</th>\n",
       "      <td>SalSal</td>\n",
       "      <td>6.00</td>\n",
       "      <td>83.03</td>\n",
       "    </tr>\n",
       "    <tr>\n",
       "      <th>13</th>\n",
       "      <td>Sides</td>\n",
       "      <td>3.00</td>\n",
       "      <td>17.47</td>\n",
       "    </tr>\n",
       "    <tr>\n",
       "      <th>14</th>\n",
       "      <td>Soft Drinks</td>\n",
       "      <td>39.00</td>\n",
       "      <td>181.16</td>\n",
       "    </tr>\n",
       "    <tr>\n",
       "      <th>15</th>\n",
       "      <td>Totals</td>\n",
       "      <td>210.00</td>\n",
       "      <td>2629.73</td>\n",
       "    </tr>\n",
       "  </tbody>\n",
       "</table>\n",
       "</div>"
      ],
      "text/plain": [
       "              index     Qty    Sales\n",
       "0         Ala Carte    2.00    41.50\n",
       "1     Bottled Water    4.00    15.11\n",
       "2             Combo   28.00    -0.02\n",
       "3     Crispy Series    3.00    83.01\n",
       "4             Honey   19.00   494.29\n",
       "5   Hot / Cold Teas    7.00    42.47\n",
       "6             Mixed   25.00   834.00\n",
       "7    Original / Red    9.00   186.79\n",
       "8         Packaging    5.00     8.49\n",
       "9        Red Pepper   15.00   366.99\n",
       "10             Rice   44.00   261.29\n",
       "11           Salads    1.00    14.15\n",
       "12           SalSal    6.00    83.03\n",
       "13            Sides    3.00    17.47\n",
       "14      Soft Drinks   39.00   181.16\n",
       "15           Totals  210.00  2629.73"
      ]
     },
     "execution_count": 65,
     "metadata": {},
     "output_type": "execute_result"
    }
   ],
   "source": [
    "range_mix[1].reset_index().iloc[:len(range_mix[1])-2]"
   ]
  },
  {
   "cell_type": "code",
   "execution_count": 18,
   "metadata": {},
   "outputs": [
    {
     "data": {
      "text/html": [
       "<div>\n",
       "<style scoped>\n",
       "    .dataframe tbody tr th:only-of-type {\n",
       "        vertical-align: middle;\n",
       "    }\n",
       "\n",
       "    .dataframe tbody tr th {\n",
       "        vertical-align: top;\n",
       "    }\n",
       "\n",
       "    .dataframe thead th {\n",
       "        text-align: right;\n",
       "    }\n",
       "</style>\n",
       "<table border=\"1\" class=\"dataframe\">\n",
       "  <thead>\n",
       "    <tr style=\"text-align: right;\">\n",
       "      <th></th>\n",
       "      <th>Summary</th>\n",
       "    </tr>\n",
       "  </thead>\n",
       "  <tbody>\n",
       "    <tr>\n",
       "      <th>Store</th>\n",
       "      <td>Element Fresh (Pavillion)</td>\n",
       "    </tr>\n",
       "    <tr>\n",
       "      <th>Date</th>\n",
       "      <td>2020-08-11</td>\n",
       "    </tr>\n",
       "    <tr>\n",
       "      <th>Hour</th>\n",
       "      <td>21</td>\n",
       "    </tr>\n",
       "    <tr>\n",
       "      <th>Sales</th>\n",
       "      <td>1588.21</td>\n",
       "    </tr>\n",
       "    <tr>\n",
       "      <th>Transaction</th>\n",
       "      <td>21</td>\n",
       "    </tr>\n",
       "    <tr>\n",
       "      <th>Avg. check</th>\n",
       "      <td>75.629</td>\n",
       "    </tr>\n",
       "  </tbody>\n",
       "</table>\n",
       "</div>"
      ],
      "text/plain": [
       "                               Summary\n",
       "Store        Element Fresh (Pavillion)\n",
       "Date                        2020-08-11\n",
       "Hour                                21\n",
       "Sales                          1588.21\n",
       "Transaction                         21\n",
       "Avg. check                      75.629"
      ]
     },
     "execution_count": 18,
     "metadata": {},
     "output_type": "execute_result"
    }
   ],
   "source": [
    "summ[0]"
   ]
  },
  {
   "cell_type": "code",
   "execution_count": 32,
   "metadata": {},
   "outputs": [
    {
     "data": {
      "text/plain": [
       "[                               Summary\n",
       " Store        Element Fresh (Pavillion)\n",
       " Date                        2020-07-31\n",
       " Hour                                16\n",
       " Sales                          1451.21\n",
       " Transaction                         17\n",
       " Avg. check                     85.3653,\n",
       "                         Summary\n",
       " Store        Midvalley Southkey\n",
       " Date                 2020-07-31\n",
       " Hour                         16\n",
       " Sales                   1645.01\n",
       " Transaction                  26\n",
       " Avg. check              63.2696,\n",
       "                 Summary\n",
       " Store          R&F Mall\n",
       " Date         2020-07-31\n",
       " Hour                 16\n",
       " Sales            516.03\n",
       " Transaction           9\n",
       " Avg. check      57.3367,\n",
       "                 Summary\n",
       " Store            TOPPEN\n",
       " Date         2020-07-31\n",
       " Hour                 16\n",
       " Sales           1532.03\n",
       " Transaction          30\n",
       " Avg. check      51.0677,\n",
       "                 Summary\n",
       " Store           Arcoris\n",
       " Date         2020-07-31\n",
       " Hour                 16\n",
       " Sales           1937.74\n",
       " Transaction          31\n",
       " Avg. check      62.5077,\n",
       "                 Summary\n",
       " Store            MyTown\n",
       " Date         2020-07-31\n",
       " Hour                 16\n",
       " Sales           6301.16\n",
       " Transaction          99\n",
       " Avg. check      63.6481,\n",
       "                 Summary\n",
       " Store          Pavilion\n",
       " Date         2020-07-31\n",
       " Hour                 16\n",
       " Sales           3164.56\n",
       " Transaction          57\n",
       " Avg. check      55.5186,\n",
       "                 Summary\n",
       " Store             Pearl\n",
       " Date         2020-07-31\n",
       " Hour                 16\n",
       " Sales           3676.04\n",
       " Transaction          62\n",
       " Avg. check       59.291,\n",
       "                       Summary\n",
       " Store        The Gardens Mall\n",
       " Date               2020-07-31\n",
       " Hour                       16\n",
       " Sales                 4969.73\n",
       " Transaction                84\n",
       " Avg. check            59.1635,\n",
       "                          Summary\n",
       " Store        Wisma Central (D.K)\n",
       " Date                  2020-07-31\n",
       " Hour                          16\n",
       " Sales                     371.71\n",
       " Transaction                    7\n",
       " Avg. check               53.1014,\n",
       "                 Summary\n",
       " Store        AEON Nilai\n",
       " Date         2020-07-31\n",
       " Hour                 16\n",
       " Sales           2191.64\n",
       " Transaction          32\n",
       " Avg. check      68.4887,\n",
       "                 Summary\n",
       " Store           Genting\n",
       " Date         2020-07-31\n",
       " Hour                 16\n",
       " Sales           4009.26\n",
       " Transaction          51\n",
       " Avg. check      78.6129,\n",
       "                    Summary\n",
       " Store        IOI City Mall\n",
       " Date            2020-07-31\n",
       " Hour                    16\n",
       " Sales              3058.23\n",
       " Transaction             46\n",
       " Avg. check         66.4833,\n",
       "                 Summary\n",
       " Store           1 Utama\n",
       " Date         2020-07-31\n",
       " Hour                 16\n",
       " Sales           7890.30\n",
       " Transaction         119\n",
       " Avg. check       66.305]"
      ]
     },
     "execution_count": 32,
     "metadata": {},
     "output_type": "execute_result"
    }
   ],
   "source": [
    "//*[@id=\"establishments-tree\"]/div/div[3]/ul/li[1]/ul/li[2]/ul/li[6]/ul/li[1]/ul/li[2]/span[5]/span[3]"
   ]
  },
  {
   "cell_type": "code",
   "execution_count": 44,
   "metadata": {},
   "outputs": [
    {
     "data": {
      "text/html": [
       "<div>\n",
       "<style scoped>\n",
       "    .dataframe tbody tr th:only-of-type {\n",
       "        vertical-align: middle;\n",
       "    }\n",
       "\n",
       "    .dataframe tbody tr th {\n",
       "        vertical-align: top;\n",
       "    }\n",
       "\n",
       "    .dataframe thead th {\n",
       "        text-align: right;\n",
       "    }\n",
       "</style>\n",
       "<table border=\"1\" class=\"dataframe\">\n",
       "  <thead>\n",
       "    <tr style=\"text-align: right;\">\n",
       "      <th></th>\n",
       "      <th>Summary</th>\n",
       "      <th>Summary</th>\n",
       "      <th>Summary</th>\n",
       "      <th>Summary</th>\n",
       "      <th>Summary</th>\n",
       "      <th>Summary</th>\n",
       "      <th>Summary</th>\n",
       "      <th>Summary</th>\n",
       "      <th>Summary</th>\n",
       "      <th>Summary</th>\n",
       "      <th>Summary</th>\n",
       "      <th>Summary</th>\n",
       "      <th>Summary</th>\n",
       "      <th>Summary</th>\n",
       "    </tr>\n",
       "  </thead>\n",
       "  <tbody>\n",
       "    <tr>\n",
       "      <th>Store</th>\n",
       "      <td>Element Fresh (Pavillion)</td>\n",
       "      <td>Midvalley Southkey</td>\n",
       "      <td>R&amp;F Mall</td>\n",
       "      <td>TOPPEN</td>\n",
       "      <td>Arcoris</td>\n",
       "      <td>MyTown</td>\n",
       "      <td>Pavilion</td>\n",
       "      <td>Pearl</td>\n",
       "      <td>The Gardens Mall</td>\n",
       "      <td>Wisma Central (D.K)</td>\n",
       "      <td>AEON Nilai</td>\n",
       "      <td>Genting</td>\n",
       "      <td>IOI City Mall</td>\n",
       "      <td>1 Utama</td>\n",
       "    </tr>\n",
       "    <tr>\n",
       "      <th>Date</th>\n",
       "      <td>2020-07-31</td>\n",
       "      <td>2020-07-31</td>\n",
       "      <td>2020-07-31</td>\n",
       "      <td>2020-07-31</td>\n",
       "      <td>2020-07-31</td>\n",
       "      <td>2020-07-31</td>\n",
       "      <td>2020-07-31</td>\n",
       "      <td>2020-07-31</td>\n",
       "      <td>2020-07-31</td>\n",
       "      <td>2020-07-31</td>\n",
       "      <td>2020-07-31</td>\n",
       "      <td>2020-07-31</td>\n",
       "      <td>2020-07-31</td>\n",
       "      <td>2020-07-31</td>\n",
       "    </tr>\n",
       "    <tr>\n",
       "      <th>Hour</th>\n",
       "      <td>16</td>\n",
       "      <td>16</td>\n",
       "      <td>16</td>\n",
       "      <td>16</td>\n",
       "      <td>16</td>\n",
       "      <td>16</td>\n",
       "      <td>16</td>\n",
       "      <td>16</td>\n",
       "      <td>16</td>\n",
       "      <td>16</td>\n",
       "      <td>16</td>\n",
       "      <td>16</td>\n",
       "      <td>16</td>\n",
       "      <td>16</td>\n",
       "    </tr>\n",
       "    <tr>\n",
       "      <th>Sales</th>\n",
       "      <td>1549.12</td>\n",
       "      <td>1783.85</td>\n",
       "      <td>516.03</td>\n",
       "      <td>1551.84</td>\n",
       "      <td>2026.42</td>\n",
       "      <td>7033.15</td>\n",
       "      <td>3657.77</td>\n",
       "      <td>3711.89</td>\n",
       "      <td>5143.03</td>\n",
       "      <td>371.71</td>\n",
       "      <td>2351.45</td>\n",
       "      <td>4266.72</td>\n",
       "      <td>3320.12</td>\n",
       "      <td>8087.48</td>\n",
       "    </tr>\n",
       "    <tr>\n",
       "      <th>Transaction</th>\n",
       "      <td>18</td>\n",
       "      <td>29</td>\n",
       "      <td>9</td>\n",
       "      <td>31</td>\n",
       "      <td>33</td>\n",
       "      <td>111</td>\n",
       "      <td>63</td>\n",
       "      <td>63</td>\n",
       "      <td>89</td>\n",
       "      <td>7</td>\n",
       "      <td>35</td>\n",
       "      <td>53</td>\n",
       "      <td>49</td>\n",
       "      <td>121</td>\n",
       "    </tr>\n",
       "    <tr>\n",
       "      <th>Avg. check</th>\n",
       "      <td>86.0622</td>\n",
       "      <td>61.5121</td>\n",
       "      <td>57.3367</td>\n",
       "      <td>50.0594</td>\n",
       "      <td>61.4067</td>\n",
       "      <td>63.3617</td>\n",
       "      <td>58.0598</td>\n",
       "      <td>58.9189</td>\n",
       "      <td>57.7869</td>\n",
       "      <td>53.1014</td>\n",
       "      <td>67.1843</td>\n",
       "      <td>80.5042</td>\n",
       "      <td>67.7576</td>\n",
       "      <td>66.8387</td>\n",
       "    </tr>\n",
       "  </tbody>\n",
       "</table>\n",
       "</div>"
      ],
      "text/plain": [
       "                               Summary             Summary     Summary  \\\n",
       "Store        Element Fresh (Pavillion)  Midvalley Southkey    R&F Mall   \n",
       "Date                        2020-07-31          2020-07-31  2020-07-31   \n",
       "Hour                                16                  16          16   \n",
       "Sales                          1549.12             1783.85      516.03   \n",
       "Transaction                         18                  29           9   \n",
       "Avg. check                     86.0622             61.5121     57.3367   \n",
       "\n",
       "                Summary     Summary     Summary     Summary     Summary  \\\n",
       "Store            TOPPEN     Arcoris      MyTown    Pavilion       Pearl   \n",
       "Date         2020-07-31  2020-07-31  2020-07-31  2020-07-31  2020-07-31   \n",
       "Hour                 16          16          16          16          16   \n",
       "Sales           1551.84     2026.42     7033.15     3657.77     3711.89   \n",
       "Transaction          31          33         111          63          63   \n",
       "Avg. check      50.0594     61.4067     63.3617     58.0598     58.9189   \n",
       "\n",
       "                      Summary              Summary     Summary     Summary  \\\n",
       "Store        The Gardens Mall  Wisma Central (D.K)  AEON Nilai     Genting   \n",
       "Date               2020-07-31           2020-07-31  2020-07-31  2020-07-31   \n",
       "Hour                       16                   16          16          16   \n",
       "Sales                 5143.03               371.71     2351.45     4266.72   \n",
       "Transaction                89                    7          35          53   \n",
       "Avg. check            57.7869              53.1014     67.1843     80.5042   \n",
       "\n",
       "                   Summary     Summary  \n",
       "Store        IOI City Mall     1 Utama  \n",
       "Date            2020-07-31  2020-07-31  \n",
       "Hour                    16          16  \n",
       "Sales              3320.12     8087.48  \n",
       "Transaction             49         121  \n",
       "Avg. check         67.7576     66.8387  "
      ]
     },
     "execution_count": 44,
     "metadata": {},
     "output_type": "execute_result"
    }
   ],
   "source": [
    "pd.concat(summ, axis=1)"
   ]
  },
  {
   "cell_type": "code",
   "execution_count": 45,
   "metadata": {},
   "outputs": [
    {
     "data": {
      "text/plain": [
       "22"
      ]
     },
     "execution_count": 45,
     "metadata": {},
     "output_type": "execute_result"
    }
   ],
   "source": [
    "i"
   ]
  },
  {
   "cell_type": "code",
   "execution_count": null,
   "metadata": {},
   "outputs": [],
   "source": []
  },
  {
   "cell_type": "code",
   "execution_count": null,
   "metadata": {},
   "outputs": [],
   "source": []
  },
  {
   "cell_type": "code",
   "execution_count": null,
   "metadata": {},
   "outputs": [],
   "source": []
  },
  {
   "cell_type": "code",
   "execution_count": 4,
   "metadata": {},
   "outputs": [],
   "source": [
    "driver.find_element_by_xpath('//*[@id=\"table_data_place\"]/div[1]/div[1]/ul/li[1]/ul/li[1]/div/div[1]').click()\n",
    "driver.find_element_by_xpath('//*[@id=\"table_data_place\"]/div[1]/div[1]/ul/li[1]/ul/li[1]/ul/li[1]/div/div[1]').click()\n",
    "driver.find_element_by_xpath('//*[@id=\"table_data_place\"]/div[1]/div[1]/ul/li[1]/ul/li[1]/ul/li[1]/ul/li[1]/div/div[1]').click()\n",
    "driver.find_element_by_xpath('//*[@id=\"table_data_place\"]/div[1]/div[1]/ul/li[1]/ul/li[1]/ul/li[1]/ul/li[1]/ul/li[1]/div/div[2]').text"
   ]
  },
  {
   "cell_type": "code",
   "execution_count": 5,
   "metadata": {},
   "outputs": [],
   "source": []
  },
  {
   "cell_type": "code",
   "execution_count": 6,
   "metadata": {},
   "outputs": [],
   "source": []
  },
  {
   "cell_type": "code",
   "execution_count": 8,
   "metadata": {},
   "outputs": [
    {
     "data": {
      "text/plain": [
       "'116'"
      ]
     },
     "execution_count": 8,
     "metadata": {},
     "output_type": "execute_result"
    }
   ],
   "source": []
  }
 ],
 "metadata": {
  "kernelspec": {
   "display_name": "Python 3",
   "language": "python",
   "name": "python3"
  },
  "language_info": {
   "codemirror_mode": {
    "name": "ipython",
    "version": 3
   },
   "file_extension": ".py",
   "mimetype": "text/x-python",
   "name": "python",
   "nbconvert_exporter": "python",
   "pygments_lexer": "ipython3",
   "version": "3.8.3"
  }
 },
 "nbformat": 4,
 "nbformat_minor": 4
}
