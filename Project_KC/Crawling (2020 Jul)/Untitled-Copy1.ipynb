{
 "cells": [
  {
   "cell_type": "code",
   "execution_count": 2,
   "metadata": {},
   "outputs": [],
   "source": [
    "from selenium import webdriver\n",
    "import pandas as pd\n",
    "import numpy as np\n",
    "import re\n",
    "import time\n",
    "import datetime\n",
    "import os"
   ]
  },
  {
   "cell_type": "code",
   "execution_count": 3,
   "metadata": {},
   "outputs": [],
   "source": [
    "driver = webdriver.Chrome(\"chromedriver.exe\")"
   ]
  },
  {
   "cell_type": "code",
   "execution_count": 5,
   "metadata": {},
   "outputs": [],
   "source": [
    "driver.get('http://kyochon.revelup.com')"
   ]
  },
  {
   "cell_type": "code",
   "execution_count": 7,
   "metadata": {},
   "outputs": [],
   "source": [
    "driver.find_element_by_xpath('//*[@id=\"auth0-lock-container-1\"]/div/div[2]/form/div/div/div/div[2]/div[2]/span/div/div/div/div/div/div/div/div/div/div/div[1]/div/input').send_keys(\"gyutae\")\n",
    "driver.find_element_by_xpath('//*[@id=\"auth0-lock-container-1\"]/div/div[2]/form/div/div/div/div[2]/div[2]/span/div/div/div/div/div/div/div/div/div/div/div[2]/div[1]/div/input').send_keys(\"Kim850212!\")\n",
    "driver.find_element_by_xpath('//*[@id=\"auth0-lock-container-1\"]/div/div[2]/form/div/div/div/button').click()"
   ]
  },
  {
   "cell_type": "code",
   "execution_count": 11,
   "metadata": {},
   "outputs": [],
   "source": [
    "driver.find_element_by_xpath('//*[@id=\"header\"]/div[2]/div[5]/div[2]/span').click()\n",
    "\n"
   ]
  },
  {
   "cell_type": "code",
   "execution_count": 12,
   "metadata": {},
   "outputs": [],
   "source": [
    "driver.find_element_by_xpath('//*[@id=\"establishments-tree\"]/div/div[2]/div[2]/div[2]/span[1]').click()"
   ]
  },
  {
   "cell_type": "code",
   "execution_count": 41,
   "metadata": {
    "scrolled": true
   },
   "outputs": [
    {
     "data": {
      "text/plain": [
       "[<selenium.webdriver.remote.webelement.WebElement (session=\"552e1db9636e17b4b57b481cda8799e3\", element=\"529e9ede-391f-4e11-bcd7-1c83321ac8c6\")>,\n",
       " <selenium.webdriver.remote.webelement.WebElement (session=\"552e1db9636e17b4b57b481cda8799e3\", element=\"73c12fbb-6202-46fc-b4f8-35b92d5121a7\")>,\n",
       " <selenium.webdriver.remote.webelement.WebElement (session=\"552e1db9636e17b4b57b481cda8799e3\", element=\"2770d8a5-8279-4a9b-8de5-dc5e07e50bdd\")>,\n",
       " <selenium.webdriver.remote.webelement.WebElement (session=\"552e1db9636e17b4b57b481cda8799e3\", element=\"cf4bef99-f9fd-463b-8b08-ff594ed84eab\")>,\n",
       " <selenium.webdriver.remote.webelement.WebElement (session=\"552e1db9636e17b4b57b481cda8799e3\", element=\"fdb8e071-b56d-445d-aa01-1fef8594ef47\")>,\n",
       " <selenium.webdriver.remote.webelement.WebElement (session=\"552e1db9636e17b4b57b481cda8799e3\", element=\"f20cba8c-b400-42ad-a39b-9acd28170373\")>,\n",
       " <selenium.webdriver.remote.webelement.WebElement (session=\"552e1db9636e17b4b57b481cda8799e3\", element=\"bc9ce7a3-0679-4062-a548-dec1f1c7921f\")>,\n",
       " <selenium.webdriver.remote.webelement.WebElement (session=\"552e1db9636e17b4b57b481cda8799e3\", element=\"f4bd18a6-48f2-4585-b279-addc68a2ae86\")>,\n",
       " <selenium.webdriver.remote.webelement.WebElement (session=\"552e1db9636e17b4b57b481cda8799e3\", element=\"f9e87200-65a5-4567-b69d-0b541615eed3\")>,\n",
       " <selenium.webdriver.remote.webelement.WebElement (session=\"552e1db9636e17b4b57b481cda8799e3\", element=\"020bafe7-8743-4717-bed0-835e9981f433\")>,\n",
       " <selenium.webdriver.remote.webelement.WebElement (session=\"552e1db9636e17b4b57b481cda8799e3\", element=\"cde4875d-7fdc-429e-b511-494794e66405\")>,\n",
       " <selenium.webdriver.remote.webelement.WebElement (session=\"552e1db9636e17b4b57b481cda8799e3\", element=\"aec72277-3e55-4924-9813-30cd20bdaf05\")>,\n",
       " <selenium.webdriver.remote.webelement.WebElement (session=\"552e1db9636e17b4b57b481cda8799e3\", element=\"2a174b70-2204-40b8-8eb9-9bb4b1c5f478\")>,\n",
       " <selenium.webdriver.remote.webelement.WebElement (session=\"552e1db9636e17b4b57b481cda8799e3\", element=\"520524f6-5cfd-4ff9-9e2c-ccfcf560e1c3\")>,\n",
       " <selenium.webdriver.remote.webelement.WebElement (session=\"552e1db9636e17b4b57b481cda8799e3\", element=\"4415a053-e555-4054-82e4-311cd51b2da3\")>,\n",
       " <selenium.webdriver.remote.webelement.WebElement (session=\"552e1db9636e17b4b57b481cda8799e3\", element=\"4754dc86-9194-4888-9ea3-8efebf32614c\")>,\n",
       " <selenium.webdriver.remote.webelement.WebElement (session=\"552e1db9636e17b4b57b481cda8799e3\", element=\"6f2fb1e8-020b-4552-86dc-a28c9822c67b\")>,\n",
       " <selenium.webdriver.remote.webelement.WebElement (session=\"552e1db9636e17b4b57b481cda8799e3\", element=\"63fa0640-5f99-49d0-95c3-b7f5964c9ce7\")>,\n",
       " <selenium.webdriver.remote.webelement.WebElement (session=\"552e1db9636e17b4b57b481cda8799e3\", element=\"f81208b2-2415-4cc6-a458-c688f568a4dd\")>,\n",
       " <selenium.webdriver.remote.webelement.WebElement (session=\"552e1db9636e17b4b57b481cda8799e3\", element=\"66b4f1c7-8b8c-486a-b321-8cff02dfc50d\")>,\n",
       " <selenium.webdriver.remote.webelement.WebElement (session=\"552e1db9636e17b4b57b481cda8799e3\", element=\"712f4a9f-e743-402b-af62-be051b3cc2b9\")>,\n",
       " <selenium.webdriver.remote.webelement.WebElement (session=\"552e1db9636e17b4b57b481cda8799e3\", element=\"13c1316d-e07e-4167-bfe8-506e309123d0\")>,\n",
       " <selenium.webdriver.remote.webelement.WebElement (session=\"552e1db9636e17b4b57b481cda8799e3\", element=\"dbf8047b-8180-4997-a5a1-690dc49ed144\")>]"
      ]
     },
     "execution_count": 41,
     "metadata": {},
     "output_type": "execute_result"
    }
   ],
   "source": [
    "driver.find_elements_by_class_name('disabled')"
   ]
  },
  {
   "cell_type": "code",
   "execution_count": 43,
   "metadata": {},
   "outputs": [],
   "source": [
    "driver.find_elements_by_class_name('disabled')[0].click()"
   ]
  },
  {
   "cell_type": "code",
   "execution_count": null,
   "metadata": {},
   "outputs": [],
   "source": []
  },
  {
   "cell_type": "code",
   "execution_count": null,
   "metadata": {},
   "outputs": [],
   "source": []
  },
  {
   "cell_type": "code",
   "execution_count": null,
   "metadata": {},
   "outputs": [],
   "source": []
  },
  {
   "cell_type": "code",
   "execution_count": 18,
   "metadata": {},
   "outputs": [],
   "source": [
    "from bs4 import BeautifulSoup as bs"
   ]
  },
  {
   "cell_type": "code",
   "execution_count": 19,
   "metadata": {},
   "outputs": [],
   "source": [
    "tmp = bs(driver.page_source, 'html.parser')"
   ]
  },
  {
   "cell_type": "code",
   "execution_count": 39,
   "metadata": {},
   "outputs": [
    {
     "data": {
      "text/plain": [
       "23"
      ]
     },
     "execution_count": 39,
     "metadata": {},
     "output_type": "execute_result"
    }
   ],
   "source": [
    "len(tmp.find_all('span', attrs={'class':'fancytree-title disabled'}))"
   ]
  },
  {
   "cell_type": "code",
   "execution_count": 26,
   "metadata": {},
   "outputs": [
    {
     "data": {
      "text/plain": [
       "[]"
      ]
     },
     "execution_count": 26,
     "metadata": {},
     "output_type": "execute_result"
    }
   ],
   "source": []
  },
  {
   "cell_type": "code",
   "execution_count": null,
   "metadata": {},
   "outputs": [],
   "source": []
  }
 ],
 "metadata": {
  "kernelspec": {
   "display_name": "Python 3",
   "language": "python",
   "name": "python3"
  },
  "language_info": {
   "codemirror_mode": {
    "name": "ipython",
    "version": 3
   },
   "file_extension": ".py",
   "mimetype": "text/x-python",
   "name": "python",
   "nbconvert_exporter": "python",
   "pygments_lexer": "ipython3",
   "version": "3.8.3"
  }
 },
 "nbformat": 4,
 "nbformat_minor": 4
}
