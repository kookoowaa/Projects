{
 "cells": [
  {
   "cell_type": "code",
   "execution_count": 1,
   "metadata": {},
   "outputs": [],
   "source": [
    "import sys\n",
    "\n",
    "from google.api_core.client_options import ClientOptions\n",
    "from google.cloud import automl_v1\n",
    "from google.cloud.automl_v1.proto import service_pb2\n",
    "\n"
   ]
  },
  {
   "cell_type": "code",
   "execution_count": 2,
   "metadata": {},
   "outputs": [],
   "source": [
    "import os\n",
    "os.environ['GOOGLE_APPLICATION_CREDENTIALs'] = 'c:/automatic-honor-251707-2a0c46fd7736.json'"
   ]
  },
  {
   "cell_type": "code",
   "execution_count": 3,
   "metadata": {},
   "outputs": [],
   "source": [
    "\n",
    "def inline_text_payload(file_path):\n",
    "    with open(file_path, 'rb') as ff:\n",
    "        content = ff.read()\n",
    "    return {'text_snippet': {'content': content, 'mime_type': 'text/plain'} }\n",
    "\n",
    "def pdf_payload(file_path):\n",
    "    return {'document': {'input_config': {'gcs_source': {'input_uris': [file_path] } } } }\n",
    "\n",
    "def get_prediction(file_path, model_name):\n",
    "    options = ClientOptions(api_endpoint='automl.googleapis.com' )\n",
    "    prediction_client = automl_v1.PredictionServiceClient(client_options=options)\n",
    "\n",
    "    payload = inline_text_payload(file_path)\n",
    "  # Uncomment the following line (and comment the above line) if want to predict on PDFs.\n",
    "  # payload = pdf_payload(file_path)\n",
    "\n",
    "    params = {}\n",
    "    request = prediction_client.predict(model_name, payload, params)\n",
    "    return request  # waits until request is returned\n",
    "\n",
    "if __name__ == '__main__':\n",
    "    file_path = sys.argv[0]\n",
    "    model_name = sys.argv[1]\n",
    "\n"
   ]
  },
  {
   "cell_type": "code",
   "execution_count": 5,
   "metadata": {},
   "outputs": [],
   "source": [
    "tmp = get_prediction('text_classification/ShoppingToneNManner/text45.txt', 'projects/721541100077/locations/us-central1/models/TCN5423015648563298304')"
   ]
  },
  {
   "cell_type": "code",
   "execution_count": null,
   "metadata": {},
   "outputs": [],
   "source": [
    "tmp.payloa"
   ]
  },
  {
   "cell_type": "code",
   "execution_count": null,
   "metadata": {},
   "outputs": [],
   "source": []
  }
 ],
 "metadata": {
  "kernelspec": {
   "display_name": "Python 3",
   "language": "python",
   "name": "python3"
  },
  "language_info": {
   "codemirror_mode": {
    "name": "ipython",
    "version": 3
   },
   "file_extension": ".py",
   "mimetype": "text/x-python",
   "name": "python",
   "nbconvert_exporter": "python",
   "pygments_lexer": "ipython3",
   "version": "3.7.1"
  }
 },
 "nbformat": 4,
 "nbformat_minor": 2
}
