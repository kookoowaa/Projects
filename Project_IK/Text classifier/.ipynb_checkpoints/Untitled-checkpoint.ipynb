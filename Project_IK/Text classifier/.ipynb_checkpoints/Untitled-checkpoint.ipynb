{
 "cells": [
  {
   "cell_type": "code",
   "execution_count": 1,
   "metadata": {},
   "outputs": [],
   "source": [
    "import pandas as pd\n",
    "import os"
   ]
  },
  {
   "cell_type": "code",
   "execution_count": 6,
   "metadata": {},
   "outputs": [
    {
     "data": {
      "text/html": [
       "<div>\n",
       "<style scoped>\n",
       "    .dataframe tbody tr th:only-of-type {\n",
       "        vertical-align: middle;\n",
       "    }\n",
       "\n",
       "    .dataframe tbody tr th {\n",
       "        vertical-align: top;\n",
       "    }\n",
       "\n",
       "    .dataframe thead th {\n",
       "        text-align: right;\n",
       "    }\n",
       "</style>\n",
       "<table border=\"1\" class=\"dataframe\">\n",
       "  <thead>\n",
       "    <tr style=\"text-align: right;\">\n",
       "      <th></th>\n",
       "      <th>Feedback</th>\n",
       "      <th>Category</th>\n",
       "      <th>New_cat</th>\n",
       "    </tr>\n",
       "  </thead>\n",
       "  <tbody>\n",
       "    <tr>\n",
       "      <th>0</th>\n",
       "      <td>이천에도 조립서비스를 해주세요 ㅠㅠ</td>\n",
       "      <td>Service Capacity</td>\n",
       "      <td>Service - Quality</td>\n",
       "    </tr>\n",
       "    <tr>\n",
       "      <th>1</th>\n",
       "      <td>부품재고 보관기간을 늘리고 내구성이 약한 부품은 상품에 여분을 넣어주세요.</td>\n",
       "      <td>Product Spare parts</td>\n",
       "      <td>Product - Quality</td>\n",
       "    </tr>\n",
       "    <tr>\n",
       "      <th>2</th>\n",
       "      <td>배송과 환불 관련 배송이 따로 잡혀있는게 굉장히 불편하네요...</td>\n",
       "      <td>Service Capacity</td>\n",
       "      <td>Service - Quality</td>\n",
       "    </tr>\n",
       "    <tr>\n",
       "      <th>3</th>\n",
       "      <td>품절상품에대한 서비스가 너무 열약합니다 이용에 상당한 불편이 있네요 품절상품은 아예...</td>\n",
       "      <td>Product Stock Availability</td>\n",
       "      <td>Product - Availability</td>\n",
       "    </tr>\n",
       "    <tr>\n",
       "      <th>4</th>\n",
       "      <td>지금까지 구입한 상품 중 대다수에서 나사가 결합되지 않은 경우가 발생했습니다. 설명...</td>\n",
       "      <td>Product Quality</td>\n",
       "      <td>Product - Quality</td>\n",
       "    </tr>\n",
       "  </tbody>\n",
       "</table>\n",
       "</div>"
      ],
      "text/plain": [
       "                                            Feedback  \\\n",
       "0                                이천에도 조립서비스를 해주세요 ㅠㅠ   \n",
       "1          부품재고 보관기간을 늘리고 내구성이 약한 부품은 상품에 여분을 넣어주세요.   \n",
       "2                배송과 환불 관련 배송이 따로 잡혀있는게 굉장히 불편하네요...   \n",
       "3  품절상품에대한 서비스가 너무 열약합니다 이용에 상당한 불편이 있네요 품절상품은 아예...   \n",
       "4  지금까지 구입한 상품 중 대다수에서 나사가 결합되지 않은 경우가 발생했습니다. 설명...   \n",
       "\n",
       "                     Category                 New_cat  \n",
       "0            Service Capacity       Service - Quality  \n",
       "1         Product Spare parts       Product - Quality  \n",
       "2            Service Capacity       Service - Quality  \n",
       "3  Product Stock Availability  Product - Availability  \n",
       "4             Product Quality       Product - Quality  "
      ]
     },
     "execution_count": 6,
     "metadata": {},
     "output_type": "execute_result"
    }
   ],
   "source": [
    "tmp = pd.read_excel(\"NPS Freetext.xlsx\")\n",
    "tmp = tmp[~tmp.New_cat.isna()]\n",
    "tmp.head()"
   ]
  },
  {
   "cell_type": "code",
   "execution_count": 7,
   "metadata": {},
   "outputs": [
    {
     "name": "stdout",
     "output_type": "stream",
     "text": [
      "이천에도 조립서비스를 해주세요 ㅠㅠ\n",
      "부품재고 보관기간을 늘리고 내구성이 약한 부품은 상품에 여분을 넣어주세요.\n",
      "배송과 환불 관련 배송이 따로 잡혀있는게 굉장히 불편하네요...\n",
      "품절상품에대한 서비스가 너무 열약합니다 이용에 상당한 불편이 있네요 품절상품은 아예 예약조차 되지않는 시스템 너무 답답하네요\n",
      "지금까지 구입한 상품 중 대다수에서 나사가 결합되지 않은 경우가 발생했습니다. 설명서대로 만드는데 나사가 왜 조여지디 않습니까? 검증된 제품들로 판매하는건지 의문스럽네요.\n"
     ]
    }
   ],
   "source": [
    "for i in range(5):\n",
    "    print(tmp.iloc[i,0])"
   ]
  },
  {
   "cell_type": "code",
   "execution_count": 8,
   "metadata": {},
   "outputs": [],
   "source": [
    "os.mkdir('text_classification')"
   ]
  },
  {
   "cell_type": "code",
   "execution_count": 9,
   "metadata": {},
   "outputs": [],
   "source": [
    "for i in set(tmp.New_cat):\n",
    "    os.mkdir('text_classification/{}'.format(i))"
   ]
  },
  {
   "cell_type": "code",
   "execution_count": 10,
   "metadata": {},
   "outputs": [],
   "source": [
    "for i in range(len(tmp)):\n",
    "    with open(\"text_classification/{cat}/text{file}.txt\".format(cat = tmp.iloc[i,2], file=i), \"w\", encoding = 'utf-8') as f:\n",
    "        f.write(tmp.iloc[i,0])"
   ]
  }
 ],
 "metadata": {
  "kernelspec": {
   "display_name": "Python 3",
   "language": "python",
   "name": "python3"
  },
  "language_info": {
   "codemirror_mode": {
    "name": "ipython",
    "version": 3
   },
   "file_extension": ".py",
   "mimetype": "text/x-python",
   "name": "python",
   "nbconvert_exporter": "python",
   "pygments_lexer": "ipython3",
   "version": "3.7.1"
  }
 },
 "nbformat": 4,
 "nbformat_minor": 2
}
