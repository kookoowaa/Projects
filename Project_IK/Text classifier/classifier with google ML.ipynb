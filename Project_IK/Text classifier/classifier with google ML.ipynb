{
 "cells": [
  {
   "cell_type": "code",
   "execution_count": 176,
   "metadata": {},
   "outputs": [],
   "source": [
    "\n",
    "import sys\n",
    "\n",
    "from google.api_core.client_options import ClientOptions\n",
    "from google.cloud import automl_v1\n",
    "from google.cloud.automl_v1.proto import service_pb2\n",
    "\n",
    "import re\n",
    "import pandas as pd"
   ]
  },
  {
   "cell_type": "code",
   "execution_count": 7,
   "metadata": {},
   "outputs": [],
   "source": [
    "import os\n",
    "os.environ['GOOGLE_APPLICATION_CREDENTIALs'] = 'C:/Users/chpar10/OneDrive - IKEA/DA/service_key.json'"
   ]
  },
  {
   "cell_type": "code",
   "execution_count": 5,
   "metadata": {},
   "outputs": [],
   "source": [
    "def inline_text_payload(file_path):\n",
    "    with open(file_path, 'rb') as ff:\n",
    "        content = ff.read()\n",
    "    return {'text_snippet': {'content': content, 'mime_type': 'text/plain'} }\n",
    "\n",
    "def pdf_payload(file_path):\n",
    "    return {'document': {'input_config': {'gcs_source': {'input_uris': [file_path] } } } }\n",
    "\n",
    "def get_prediction(file_path, model_name):\n",
    "    options = ClientOptions(api_endpoint='automl.googleapis.com' )\n",
    "    prediction_client = automl_v1.PredictionServiceClient(client_options=options)\n",
    "\n",
    "    payload = inline_text_payload(file_path)\n",
    "  # Uncomment the following line (and comment the above line) if want to predict on PDFs.\n",
    "  # payload = pdf_payload(file_path)\n",
    "\n",
    "    params = {}\n",
    "    request = prediction_client.predict(model_name, payload, params)\n",
    "    return request  # waits until request is returned\n",
    "\n",
    "if __name__ == '__main__':\n",
    "    file_path = sys.argv[0]\n",
    "    model_name = sys.argv[1]"
   ]
  },
  {
   "cell_type": "code",
   "execution_count": 57,
   "metadata": {},
   "outputs": [],
   "source": []
  },
  {
   "cell_type": "code",
   "execution_count": 104,
   "metadata": {},
   "outputs": [],
   "source": [
    "flist = os.listdir()\n",
    "flist = [os.getcwd()+'/'+i for i in flist if recomp.search(i)]"
   ]
  },
  {
   "cell_type": "code",
   "execution_count": 120,
   "metadata": {},
   "outputs": [
    {
     "data": {
      "text/plain": [
       "['$Recycle.Bin',\n",
       " '0ABD25F26AB8',\n",
       " 'db',\n",
       " 'Documents and Settings',\n",
       " 'drivers10',\n",
       " 'Drv',\n",
       " 'hiberfil.sys',\n",
       " 'IKEALogs',\n",
       " 'inetpub',\n",
       " 'Intel',\n",
       " 'javalog',\n",
       " 'OneDriveTemp',\n",
       " 'orarun',\n",
       " 'pagefile.sys',\n",
       " 'PerfLogs',\n",
       " 'Program Files',\n",
       " 'Program Files (x86)',\n",
       " 'ProgramData',\n",
       " 'Recovery',\n",
       " 'swapfile.sys',\n",
       " 'System Volume Information',\n",
       " 'Users',\n",
       " 'Windows']"
      ]
     },
     "execution_count": 120,
     "metadata": {},
     "output_type": "execute_result"
    }
   ],
   "source": [
    "os.listdir('c:/')"
   ]
  },
  {
   "cell_type": "code",
   "execution_count": 94,
   "metadata": {},
   "outputs": [
    {
     "data": {
      "text/plain": [
       "<re.Match object; span=(18, 22), match='.txt'>"
      ]
     },
     "execution_count": 94,
     "metadata": {},
     "output_type": "execute_result"
    }
   ],
   "source": [
    "recomp = re.compile('[.]txt')\n",
    "recomp.search('.ipynb_checkpoints.txt')"
   ]
  },
  {
   "cell_type": "code",
   "execution_count": null,
   "metadata": {},
   "outputs": [],
   "source": []
  },
  {
   "cell_type": "code",
   "execution_count": 188,
   "metadata": {},
   "outputs": [],
   "source": [
    "def get_result(directory=None):\n",
    "    flist = os.listdir(directory)\n",
    "    flist = [directory+'/'+i for i in flist if recomp.search(i)]\n",
    "    tmp_dict = {'comment':[], 'cat1':[], 'cat2':[]}\n",
    "    \n",
    "    for file in flist:\n",
    "        tmp = get_prediction(file, 'projects/721541100077/locations/us-central1/models/TCN5423015648563298304')\n",
    "        \n",
    "        with open(file, 'r', encoding = 'utf-8') as f:\n",
    "            tmp_dict['comment'].append(re.sub('\\ufeff',\"\",f.read()))\n",
    "        cat = re.findall(\"[A-Z][^A-Z]*\",tmp.payload[0].display_name)\n",
    "        tmp_dict['cat1'].append(cat[0])\n",
    "        tmp_dict['cat2'].append(''.join(cat[1:]))\n",
    "                               \n",
    "    return tmp_dict"
   ]
  },
  {
   "cell_type": "code",
   "execution_count": 170,
   "metadata": {},
   "outputs": [],
   "source": [
    "outcome = get_result(\"C:/Users/chpar10/OneDrive - IKEA/DA/Text Analysis on freetext/sample\")"
   ]
  },
  {
   "cell_type": "code",
   "execution_count": 172,
   "metadata": {},
   "outputs": [
    {
     "data": {
      "text/plain": [
       "{'comment': ['배송 지연 때문에 맘이 상했네요',\n",
       "  'Malm 침대 조립 중 드는 생각은. 합판의 강도를 높일 필요성이 있습니다. 나사를 4개를 장착하면 그중에 하나는 헛도는 느낌이 좀 나네요.\\n'],\n",
       " 'cat1': ['Service', 'Product'],\n",
       " 'cat2': ['Quality', 'Quality']}"
      ]
     },
     "execution_count": 172,
     "metadata": {},
     "output_type": "execute_result"
    }
   ],
   "source": [
    "outcome"
   ]
  },
  {
   "cell_type": "code",
   "execution_count": 174,
   "metadata": {},
   "outputs": [],
   "source": [
    "import pandas as pd"
   ]
  },
  {
   "cell_type": "code",
   "execution_count": 175,
   "metadata": {},
   "outputs": [
    {
     "data": {
      "text/html": [
       "<div>\n",
       "<style scoped>\n",
       "    .dataframe tbody tr th:only-of-type {\n",
       "        vertical-align: middle;\n",
       "    }\n",
       "\n",
       "    .dataframe tbody tr th {\n",
       "        vertical-align: top;\n",
       "    }\n",
       "\n",
       "    .dataframe thead th {\n",
       "        text-align: right;\n",
       "    }\n",
       "</style>\n",
       "<table border=\"1\" class=\"dataframe\">\n",
       "  <thead>\n",
       "    <tr style=\"text-align: right;\">\n",
       "      <th></th>\n",
       "      <th>comment</th>\n",
       "      <th>cat1</th>\n",
       "      <th>cat2</th>\n",
       "    </tr>\n",
       "  </thead>\n",
       "  <tbody>\n",
       "    <tr>\n",
       "      <th>0</th>\n",
       "      <td>배송 지연 때문에 맘이 상했네요</td>\n",
       "      <td>Service</td>\n",
       "      <td>Quality</td>\n",
       "    </tr>\n",
       "    <tr>\n",
       "      <th>1</th>\n",
       "      <td>Malm 침대 조립 중 드는 생각은. 합판의 강도를 높일 필요성이 있습니다. 나사를...</td>\n",
       "      <td>Product</td>\n",
       "      <td>Quality</td>\n",
       "    </tr>\n",
       "  </tbody>\n",
       "</table>\n",
       "</div>"
      ],
      "text/plain": [
       "                                             comment     cat1     cat2\n",
       "0                                  배송 지연 때문에 맘이 상했네요  Service  Quality\n",
       "1  Malm 침대 조립 중 드는 생각은. 합판의 강도를 높일 필요성이 있습니다. 나사를...  Product  Quality"
      ]
     },
     "execution_count": 175,
     "metadata": {},
     "output_type": "execute_result"
    }
   ],
   "source": [
    "pd.DataFrame(outcome)"
   ]
  },
  {
   "cell_type": "code",
   "execution_count": null,
   "metadata": {},
   "outputs": [],
   "source": []
  },
  {
   "cell_type": "code",
   "execution_count": null,
   "metadata": {},
   "outputs": [],
   "source": []
  },
  {
   "cell_type": "code",
   "execution_count": null,
   "metadata": {},
   "outputs": [],
   "source": []
  },
  {
   "cell_type": "code",
   "execution_count": null,
   "metadata": {},
   "outputs": [],
   "source": []
  },
  {
   "cell_type": "code",
   "execution_count": null,
   "metadata": {},
   "outputs": [],
   "source": []
  },
  {
   "cell_type": "code",
   "execution_count": null,
   "metadata": {},
   "outputs": [],
   "source": []
  },
  {
   "cell_type": "code",
   "execution_count": null,
   "metadata": {},
   "outputs": [],
   "source": []
  },
  {
   "cell_type": "code",
   "execution_count": null,
   "metadata": {},
   "outputs": [],
   "source": []
  },
  {
   "cell_type": "code",
   "execution_count": null,
   "metadata": {},
   "outputs": [],
   "source": []
  }
 ],
 "metadata": {
  "kernelspec": {
   "display_name": "Python 3",
   "language": "python",
   "name": "python3"
  },
  "language_info": {
   "codemirror_mode": {
    "name": "ipython",
    "version": 3
   },
   "file_extension": ".py",
   "mimetype": "text/x-python",
   "name": "python",
   "nbconvert_exporter": "python",
   "pygments_lexer": "ipython3",
   "version": "3.7.4"
  }
 },
 "nbformat": 4,
 "nbformat_minor": 2
}
