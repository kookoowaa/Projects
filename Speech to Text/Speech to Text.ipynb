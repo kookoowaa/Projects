{
 "cells": [
  {
   "cell_type": "markdown",
   "metadata": {},
   "source": [
    "# Google Speech API 활용기 (Speech-to-Text)\n",
    "\n",
    ">- **원하는 정확도가 나오지 않아 잠정 보류**\n",
    ">- 사유는 한국어의 정확도 문제, 음원 파일의 음질문제가 (잡음 및 소리크기) 복합적으로 있었던 것으로 보임\n",
    ">- 참조: https://blueriver97.tistory.com/36"
   ]
  },
  {
   "cell_type": "markdown",
   "metadata": {},
   "source": [
    "# 1. 사전 준비\n",
    "\n",
    "## API 사용 준비\n",
    "- [Google Cloud Platform](https://cloud.google.com/)에서 계정 및 프로젝트 생성\n",
    "- **\"Cloud Speech to Text\"** 검색하여 API 사용 설정\n",
    "- **\"서비스 계정\"**에서 API 사용 가능하도록 권한 설정 (소유자, JSON키 만들어 내려받기)\n",
    "- **JSON**키는 API를 호출하고 비용을 청구하는 데 사용되니 **보안에 주의하고 절대 공개 금지**\n",
    "\n",
    "## package 및 분석 환경\n",
    "- Cloud SDK를 활용해서 분석하는 사례들은 많으나, 로컬 환경을 활용하기로 함\n",
    "- Python 3.7, Jupyter Notebook 사용\n",
    "- 필수 package: `os`, `google-cloud-speech` (`pip install google-cloud-speech`)"
   ]
  },
  {
   "cell_type": "markdown",
   "metadata": {},
   "source": [
    "# 2. 분석 코드\n",
    "\n",
    "## 가. 환경 세팅\n",
    "\n",
    "- Package 호출\n",
    "- 사용자 인증 (JSON키 지정)"
   ]
  },
  {
   "cell_type": "code",
   "execution_count": 5,
   "metadata": {},
   "outputs": [],
   "source": [
    "import io\n",
    "import os\n",
    "from google.cloud import speech\n",
    "from google.cloud.speech import enums\n",
    "from google.cloud.speech import types\n",
    "\n",
    "os.environ[\"GOOGLE_APPLICATION_CREDENTIALS\"]=\"<JSON 파일 위치>\"\n",
    "\n",
    "# API 클라이언트 실행\n",
    "client = speech.SpeechClient()"
   ]
  },
  {
   "cell_type": "markdown",
   "metadata": {},
   "source": [
    "## 나. 1분 미만의 음성파일\n",
    "\n",
    "- 1분 미만의 음성파일은 로컬환경에서 바로 API 적용 가능\n",
    "- 1분 이상의 경우 함수도 다를 뿐더러, 로컬 파일 사용 불가\n",
    "- 대신 Google Storage의 URI<sup>Uniform Resource Identifier</sup> 입력 필요"
   ]
  },
  {
   "cell_type": "code",
   "execution_count": 15,
   "metadata": {},
   "outputs": [],
   "source": [
    "# 파일 불러오기\n",
    "file_name = '<파일 위치>'\n",
    "\n",
    "with io.open(file_name, 'rb') as audio_file:\n",
    "    content = audio_file.read()\n",
    "    audio = types.RecognitionAudio(content=content)"
   ]
  },
  {
   "cell_type": "markdown",
   "metadata": {},
   "source": [
    "- **파라미터 설정** `types.RecognitionConfig()`:\n",
    "> `encoding`:**현재 FLAC 또는 WAV**만 사용 가능함에 따라 `ffmpeg` 사용하여 파일 변환 필요  \n",
    "> `language_code`: 기본적으로 `en-US`가 가장 빈번하게 활용되며, 한국어는 `ko-KR` 사용  \n",
    "> `sample_rate_hertz`: 음성 파일의 샘플레이트  \n",
    "> 위 3개의 파라미터가 가장 중요하고, `enable_word_time_offsets` 외 기타 파라미터는 https://googleapis.dev/python/speech/latest/index.html 에서 reference 참조"
   ]
  },
  {
   "cell_type": "code",
   "execution_count": 18,
   "metadata": {},
   "outputs": [],
   "source": [
    "config = types.RecognitionConfig(\n",
    "    encoding=enums.RecognitionConfig.AudioEncoding.LINEAR16,\n",
    "    sample_rate_hertz=16000,\n",
    "    language_code='en-US',\n",
    "    enable_word_time_offsets=True)"
   ]
  },
  {
   "cell_type": "markdown",
   "metadata": {},
   "source": [
    "- 연산 및 정확도 반환"
   ]
  },
  {
   "cell_type": "code",
   "execution_count": 19,
   "metadata": {},
   "outputs": [
    {
     "name": "stdout",
     "output_type": "stream",
     "text": [
      "Transcript: OK Google stream stranger things from Netflix to my TV okay stranger things from Netflix from the people that brought you Google home comes the next evolution of a smart home and it's just outside your window me Google Now by how can I help okay he's right okay no turn on the hose I'm holding sure\n",
      "Confidence: 0.9460911750793457\n",
      "Transcript:  okay now I'm can I eat this lemon tree leaf yes what are the daisy yes but I wouldn't recommend it but I could eat it to my shopping list I'm sorry that sounds like an indoor request I keep doing that sorry you do keep doing that\n",
      "Confidence: 0.9545512795448303\n",
      "Transcript:  okay now is this compost really we're all compost if you think about it pretty much everything is made up of organic matter and will return\n",
      "Confidence: 0.9341952204704285\n"
     ]
    }
   ],
   "source": [
    "response = client.recognize(config, audio)\n",
    "\n",
    "for result in response.results:\n",
    "    for alt in result.alternatives:\n",
    "        print('Transcript: {}'.format(alt.transcript))\n",
    "        print('Confidence: {}'.format(alt.confidence))"
   ]
  },
  {
   "cell_type": "markdown",
   "metadata": {},
   "source": [
    "## 다. 1분 이상의 음성파일\n",
    "\n",
    "- 파라미터 설정은 '1분 미만의 음성파일' 분석과 동일\n",
    "- 차이가 나는 부분은 1)**Google Storage**에 올라가 있는 파일을 사용해야 하며, 2)`client.recognize()` 대신 `client.long_running_recognize()`를 사용"
   ]
  },
  {
   "cell_type": "markdown",
   "metadata": {},
   "source": [
    "- 파일 불러오는 방법은 `uri` 파라미터를 전달하면서 훨씬 간편하게 호출 가능"
   ]
  },
  {
   "cell_type": "code",
   "execution_count": null,
   "metadata": {},
   "outputs": [],
   "source": [
    "audio = types.RecognitionAudio(uri = \"gs://<파일 uri>\")\n",
    "\n",
    "### 이하 1분 미만의 음성파일 호출 방식\n",
    "'''\n",
    "file_name = \"<분석용 파일 위치>\"\n",
    "\n",
    "with io.open(file_name, 'rb') as audio_file:\n",
    "    content = audio_file.read()\n",
    "    audio = types.RecognitionAudio(content=content)\n",
    "'''"
   ]
  },
  {
   "cell_type": "markdown",
   "metadata": {},
   "source": [
    "- 파라미터 설정"
   ]
  },
  {
   "cell_type": "code",
   "execution_count": 11,
   "metadata": {},
   "outputs": [],
   "source": [
    "config = types.RecognitionConfig(\n",
    "    encoding=enums.RecognitionConfig.AudioEncoding.FLAC,\n",
    "    sample_rate_hertz=8000,\n",
    "    audio_channel_count = 2,\n",
    "    language_code='ko-KR',\n",
    "    enable_word_time_offsets=True)"
   ]
  },
  {
   "cell_type": "markdown",
   "metadata": {},
   "source": [
    "- STT 구현에 `client.long_running_recognize()`를 사용하고, 실제 연산을 시키는 `.result()` 함수까지 추가됨"
   ]
  },
  {
   "cell_type": "code",
   "execution_count": 12,
   "metadata": {},
   "outputs": [],
   "source": [
    "recognize = client.long_running_recognize(config, audio)\n",
    "response = recognize.result(timeout = 600)"
   ]
  },
  {
   "cell_type": "markdown",
   "metadata": {},
   "source": [
    "- 최종 결과 및 정확도를 확인 하는 방법은 동일"
   ]
  },
  {
   "cell_type": "code",
   "execution_count": 13,
   "metadata": {},
   "outputs": [
    {
     "name": "stdout",
     "output_type": "stream",
     "text": [
      "Transcript: 안녕하세요 이케아 총무입니다 네네 물건을 했거든네 언니 이거 받았는데 혹시 손님 환불 하시는 이유를 좀 여쭤봐도 될까요 아 물건을 조금 주문해 가지고 아 그러세요 혹시 주문서를 제가 좀 열어 볼 수 있을까요 주문 전화번호 좀 알려주세요 잠시만요\n",
      "Confidence: 0.911100447177887\n",
      "Transcript: 1 6 1 9 3 1 4 7 2\n",
      "Confidence: 0.6827082633972168\n",
      "Transcript:  혹시 홍시만 힘드시나요 잠시만요\n",
      "Confidence: 0.7154927849769592\n",
      "Transcript:  지금 행 거 하나하고 옷걸이 하나를 구매를 하셨네요 그 기억이 안 받으시는 건가요 아니시면 뭐 하시는 건가요 안 맞는 것도 있고 이거를 아예 이런 거 말고\n",
      "Confidence: 0.8112572431564331\n",
      "Transcript:  기둥으로 돼 있어 갖고 그런 걸로 했어야 되는데 아네\n",
      "Confidence: 0.7575836777687073\n",
      "Transcript:  내가 자꾸 혹시 그러면 손님 그 저희 매장으로 방문해 주실 수 있으세요\n",
      "Confidence: 0.82477867603302\n",
      "Transcript:  지역이 대전역 가지고 아 그러시네요 죄송합니다 열심히 해요 그러시면 요거는 손님께서 부니까 10월 15일 저희 같은 경우는 교환 환불 가능 하세요 가능하시고요 그런데 지금 혹시 박스를 개봉하였거나 뭐 설치를 하셨습니까\n",
      "Confidence: 0.8618425726890564\n",
      "Transcript:  옥수수는 대공원에서 버렸거든요 언제 박스가 없으세요 그러시군요 저 제품 모두 다요 설치는 안 하시고 개봉하신 상태곡선 없다 레드 사무실에서 주문했는데 외환 사고 한번 가능한데 지금 포장상태는 저희가 아니면 결제로 이렇게 취소해서 환불 가능하지만 박수림 이게 그 맛이 없는 상태 면은 저희가 우선은 그 저희 그 쪽으로 그 물품이 들어와서 육안으로 어느 정도의 판별이 이후에 손님께 요것을 좋아하는 걸로 해 드릴 거예요\n",
      "Confidence: 0.8524311184883118\n",
      "Transcript:  그런데 이제 그런 경우에는 이제 원격 실시간으로 뭐 그거 환불이 안 되는 경우도 있어요 신용카드 그렇게 되면 이제 이미 박스를 개봉하였고 어느 정도 그 상태다 저희가 다시 가져 와도 문제가 있을 수 있는 부분이기 때문에 우선 가지고 와서\n",
      "Confidence: 0.9084820747375488\n",
      "Transcript:  저도 이제 환전 카드로 환불해 드릴 수도 있어요\n",
      "Confidence: 0.7774414420127869\n",
      "Transcript:  환불 카드야네 저희가 이제 손님께 다시 발행을 해 드리는 건데 요거는 그 대신 매장으로 오셔서 만수 수가 있어\n",
      "Confidence: 0.8506484031677246\n",
      "Transcript:  이게 근데 원래 일산으로 환불이 안 되는 경우는 어떤 그게 지금 그 저기가 이게 아 지금 꼭 안 된다는 얘기는 아니구요 손님 가지고 와서 지금 박스가 없는 상태이기 때문에 가지고 와서 저희가 이제 이제 아무래도 물건이 다시 또 그것도 이제 그 보는 부자가 따로 있지 않습니까 이제 그쪽 부서에서 판단을 해서 이제 분위기로 제품에도 불가능하고 오늘 스케줄은 문제가 있다 이런 경우에는 신용카드취소 보다는 이제 그 카드는 환불해 주는 경우가 있고 예배드리면 박스 포장 그대로 단순변심으로 다시 물품이 들어오는 경우에는 그 저희가 그\n",
      "Confidence: 0.8759417533874512\n",
      "Transcript:  싱크대 자체를 이제 취소를 해 드리면 그런 그 방식 방침을 하고 있어요 제가 많이 안아 제품이 들어왔는데이 부분에 있어서 그 환불 가지고 나갈 수도 있습니다 지금 안내를 해 드리는 거예요 보내드리는데 그 나중에 매장에 오셔서 쓸 수 있으세요 온라인이나 이런 데서 사용이 불가능 하시고 그리고 손님은 지금 보니까 배송 서비스 받으셨어요 예 그런 경우 만약에 또 반품을 하시게 되면 저희 배송차량이 또 가서 그거 수거를 해 가지고 와야 되지 않습니다 그렇게 되면 자동 9천원이 그 서비스 비용을 다시 또 그 부담을 하셔야 될 거예요 손님께서\n",
      "Confidence: 0.9008651375770569\n",
      "Transcript:  제가 다른 제품을 구매하게 되면 지금 배송 비용 있었겠다 배송 서비스 이용을 하면 지금 이미 배송서비스를 받으실 반품을 하시게 되면이 제품은 택배로 올 수가 없어요\n",
      "Confidence: 0.8806777596473694\n",
      "Transcript:  일반택배만가능 못 보면 저희가 이제 오는 과정에서 파손도 많이 되고 또 규격 자체가 지금 택배로 놀 수가 없기 때문에 지금 담궜어요 요거는 다시 또 저희가 수거를 해요 그러면 기사님이 가셔서 제품을 들고 와야 되는데 그렇게 하고 이제 또 49,000원이라고 하는 하셔야 돼요\n",
      "Confidence: 0.888557493686676\n",
      "Transcript:  아 제가 한 번에 신청을 하면 되는데 그렇지요 59,000 배송 서비스 비용이 갈 때는 59,000원이 어떤 것이 왜 그러냐면 픽업서비스를 만원이다 붙어 있는 거예요 근데 반품하실 저희가 픽업 판단하기보다는 그 배송만 받아오는 거기 때문에 4만 9천 원 드리는 겁니다\n",
      "Confidence: 0.8569602966308594\n",
      "Transcript:  제품이 보다 더 많이 나오고 있는데요\n",
      "Confidence: 0.6797154545783997\n",
      "Transcript:  만약에 매장으로 직접 좀 가져가게 되면 만약에 가서 오시면 바로 이제 저희 매장에서 코너에서 제품의 상태를 보고 바로 그 원래 결제하셨던 카드로 환불을 해 줄이거나 아니면은 약간의 문제가 있다 그러면 병원 가지고 둘이 그 환불 카드로 가루 매장에 가셔서 또 다른 제품은 구매 하실 수가 있잖아요 훨씬 좋은 거죠 예 가능합니다 손님 안 되지는 않습니다 그렇지만 원 결제 수단으로 취소가 바로 되지는 않고 선불카드로 드릴 수도 있다는 거기 때문에 손님께서 만약에 시간 내셔서 한번 매장을 방문해 주신다면 가장 좋은 방법이죠 오셔서 그 현대카드 봐주셔서 동일한 이제 다른 사람이 제품을 그 자리에서 또 구매를 하실 수가 있으니까 그렇게 하셔도 되고 서비스비용 배송을 또 그 수고해\n",
      "Confidence: 0.8946957588195801\n",
      "Transcript:  배송 병을 따로 지급을 안 하셔도 되고 훨씬 좋은 거죠 지금\n",
      "Confidence: 0.7436444163322449\n",
      "Transcript:  다시 제 수고하는 그걸로 해서 아니면 배송비는 - 수원 세류 주문하실 거예요 아니면 지금 환불할때 가시나 그렇게 되면은\n",
      "Confidence: 0.8078222274780273\n",
      "Transcript:  만약에 새로운 주문을 안 하시고\n",
      "Confidence: 0.8466065526008606\n",
      "Transcript:  예리\n",
      "Confidence: 0.5445220470428467\n",
      "Transcript:  아 지금\n",
      "Confidence: 0.8982129096984863\n",
      "Transcript:  그냥 한 번만 다시 님이 왜요 제품을 반품은 안 하시고 환불하실 수는 없지 않습니까 지금 보내고네네네네이 금액 전체 이상이 없다라고네 아 그렇죠네 정체가 환불 되고 손님께서는 저희한테 그 물품은 보내 저희가 수거해가는 비용 그 또 부담을 하셔야 되는 거죠\n",
      "Confidence: 0.9129501581192017\n",
      "Transcript:  찜질 좀 해 보시겠어요 손님네 알겠습니다 형님 감사합니다네 좋은 하루 보내십시오네\n",
      "Confidence: 0.8316822052001953\n"
     ]
    }
   ],
   "source": [
    "for result in response.results:\n",
    "    for alt in result.alternatives:\n",
    "        print('Transcript: {}'.format(alt.transcript))\n",
    "        print('Confidence: {}'.format(alt.confidence))"
   ]
  },
  {
   "cell_type": "markdown",
   "metadata": {},
   "source": [
    "___\n",
    "# 3. 참조사항\n",
    "## 1) 음성 파일이 mp3라 진행이 안되요\n",
    "- 아직까지 지원 포맷은 **wav**, 또는 **FLAC**이기 때문에 변환이 필요\n",
    "- 변환은 [**ffmpeg**](http://www.ffmpeg.org/) 설치 시 cmd나 패키지를 통해 손쉽게 가능 (패키지 아님, 설치 후 path 설정 필요)\n",
    "- 음성파일을 FLAC으로 변환하는 방법은 cmd에서 다음과 커맨드 실행: `ffmpeg -i sample.wav -ac 2 -c flac test.flac`\n",
    ">- `-i`: 불러올 파일\n",
    ">- `-ac`: 채널 갯수\n",
    ">- `-c`: 코덱 설정\n",
    ">- 제일 마지막에는 출력할 파일명\n"
   ]
  },
  {
   "cell_type": "markdown",
   "metadata": {},
   "source": [
    "## 2) 음성파일이 1분을 넘어서요\n",
    "- 음성파일이 1분을 초과하는데, `client.recognize()`를 사용하게 되면 `400 Inline audio exceeds duration limit. Please use a GCS URI.` 에러가 발생하게 됨\n",
    "- 위에서 언급한 바와 같이 파일은 Google Storage에 업로드 한 상태로 진행 가능\n",
    "- 이때 URI 주소와 `client.long_running_recognize().result()`를 사용할 필요가 있음"
   ]
  }
 ],
 "metadata": {
  "kernelspec": {
   "display_name": "Python 3",
   "language": "python",
   "name": "python3"
  },
  "language_info": {
   "codemirror_mode": {
    "name": "ipython",
    "version": 3
   },
   "file_extension": ".py",
   "mimetype": "text/x-python",
   "name": "python",
   "nbconvert_exporter": "python",
   "pygments_lexer": "ipython3",
   "version": "3.7.4"
  }
 },
 "nbformat": 4,
 "nbformat_minor": 2
}
