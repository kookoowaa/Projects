{
  "nbformat": 4,
  "nbformat_minor": 0,
  "metadata": {
    "colab": {
      "name": "EDA_cwp.ipynb",
      "version": "0.3.2",
      "provenance": [],
      "collapsed_sections": [],
      "include_colab_link": true
    }
  },
  "cells": [
    {
      "cell_type": "markdown",
      "metadata": {
        "id": "view-in-github",
        "colab_type": "text"
      },
      "source": [
        "[View in Colaboratory](https://colab.research.google.com/github/kookoowaa/Projects/blob/master/Churn_with_Online_game/EDA_cwp.ipynb)"
      ]
    },
    {
      "metadata": {
        "id": "PJ_3GH1JhTuh",
        "colab_type": "code",
        "colab": {
          "base_uri": "https://localhost:8080/",
          "height": 35
        },
        "outputId": "40fd4a4b-993e-4e99-efea-8d86811ddc74"
      },
      "cell_type": "code",
      "source": [
        "#### configuring inline figure size\n",
        "\n",
        "%pylab  inline\n",
        "pylab.rcParams ['figure.figsize'] = (24, 10)"
      ],
      "execution_count": 2,
      "outputs": [
        {
          "output_type": "stream",
          "text": [
            "Populating the interactive namespace from numpy and matplotlib\n"
          ],
          "name": "stdout"
        }
      ]
    },
    {
      "metadata": {
        "id": "1NjwV1culqvc",
        "colab_type": "code",
        "colab": {}
      },
      "cell_type": "code",
      "source": [
        "#### import dataset from the google drive\n",
        "\n",
        "!pip install -U -q PyDrive\n",
        " \n",
        "from pydrive.auth import GoogleAuth\n",
        "from pydrive.drive import GoogleDrive\n",
        "from google.colab import auth\n",
        "from oauth2client.client import GoogleCredentials \n",
        " \n",
        "auth.authenticate_user()\n",
        "gauth = GoogleAuth()\n",
        "gauth.credentials = GoogleCredentials.get_application_default()\n",
        "drive = GoogleDrive(gauth)"
      ],
      "execution_count": 0,
      "outputs": []
    },
    {
      "metadata": {
        "id": "MYhQkAzdczEQ",
        "colab_type": "code",
        "colab": {
          "base_uri": "https://localhost:8080/",
          "height": 323
        },
        "outputId": "0d2ce5d2-b017-47de-8a9f-aa3bf8d5716d"
      },
      "cell_type": "code",
      "source": [
        "!pip install --upgrade seaborn\n",
        "!pip install --upgrade pandas\n",
        "import pandas as pd\n",
        "import seaborn as sns"
      ],
      "execution_count": 3,
      "outputs": [
        {
          "output_type": "stream",
          "text": [
            "Requirement already up-to-date: seaborn in /usr/local/lib/python2.7/dist-packages (0.9.0)\r\n",
            "Requirement already satisfied, skipping upgrade: pandas>=0.15.2 in /usr/local/lib/python2.7/dist-packages (from seaborn) (0.23.4)\r\n",
            "Requirement already satisfied, skipping upgrade: scipy>=0.14.0 in /usr/local/lib/python2.7/dist-packages (from seaborn) (0.19.1)\r\n",
            "Requirement already satisfied, skipping upgrade: matplotlib>=1.4.3 in /usr/local/lib/python2.7/dist-packages (from seaborn) (2.1.2)\r\n",
            "Requirement already satisfied, skipping upgrade: numpy>=1.9.3 in /usr/local/lib/python2.7/dist-packages (from seaborn) (1.14.5)\r\n",
            "Requirement already satisfied, skipping upgrade: pytz>=2011k in /usr/local/lib/python2.7/dist-packages (from pandas>=0.15.2->seaborn) (2018.5)\r\n",
            "Requirement already satisfied, skipping upgrade: python-dateutil>=2.5.0 in /usr/local/lib/python2.7/dist-packages (from pandas>=0.15.2->seaborn) (2.5.3)\r\n",
            "Requirement already satisfied, skipping upgrade: cycler>=0.10 in /usr/local/lib/python2.7/dist-packages (from matplotlib>=1.4.3->seaborn) (0.10.0)\r\n",
            "Requirement already satisfied, skipping upgrade: backports.functools-lru-cache in /usr/local/lib/python2.7/dist-packages (from matplotlib>=1.4.3->seaborn) (1.5)\r\n",
            "Requirement already satisfied, skipping upgrade: subprocess32 in /usr/local/lib/python2.7/dist-packages (from matplotlib>=1.4.3->seaborn) (3.5.2)\r\n",
            "Requirement already satisfied, skipping upgrade: six>=1.10 in /usr/local/lib/python2.7/dist-packages (from matplotlib>=1.4.3->seaborn) (1.11.0)\n",
            "Requirement already satisfied, skipping upgrade: pyparsing!=2.0.4,!=2.1.2,!=2.1.6,>=2.0.1 in /usr/local/lib/python2.7/dist-packages (from matplotlib>=1.4.3->seaborn) (2.2.0)\n",
            "Requirement already up-to-date: pandas in /usr/local/lib/python2.7/dist-packages (0.23.4)\n",
            "Requirement already satisfied, skipping upgrade: pytz>=2011k in /usr/local/lib/python2.7/dist-packages (from pandas) (2018.5)\n",
            "Requirement already satisfied, skipping upgrade: numpy>=1.9.0 in /usr/local/lib/python2.7/dist-packages (from pandas) (1.14.5)\n",
            "Requirement already satisfied, skipping upgrade: python-dateutil>=2.5.0 in /usr/local/lib/python2.7/dist-packages (from pandas) (2.5.3)\n",
            "Requirement already satisfied, skipping upgrade: six>=1.5 in /usr/local/lib/python2.7/dist-packages (from python-dateutil>=2.5.0->pandas) (1.11.0)\n"
          ],
          "name": "stdout"
        }
      ]
    },
    {
      "metadata": {
        "id": "2LaE7Ix_YScL",
        "colab_type": "code",
        "colab": {
          "base_uri": "https://localhost:8080/",
          "height": 204
        },
        "outputId": "6aecf3b4-fa7d-4b66-8159-ff64df0ba1c8"
      },
      "cell_type": "code",
      "source": [
        "file_id = '1UKQ6pt47ogMjOi3bsyIuFWf5Bw8Epont'\n",
        "downloaded = drive.CreateFile({'id': file_id})\n",
        "downloaded.GetContentFile('label')\n",
        "label = pd.read_csv('label')\n",
        "label.head()"
      ],
      "execution_count": 4,
      "outputs": [
        {
          "output_type": "execute_result",
          "data": {
            "text/html": [
              "<div>\n",
              "<style scoped>\n",
              "    .dataframe tbody tr th:only-of-type {\n",
              "        vertical-align: middle;\n",
              "    }\n",
              "\n",
              "    .dataframe tbody tr th {\n",
              "        vertical-align: top;\n",
              "    }\n",
              "\n",
              "    .dataframe thead th {\n",
              "        text-align: right;\n",
              "    }\n",
              "</style>\n",
              "<table border=\"1\" class=\"dataframe\">\n",
              "  <thead>\n",
              "    <tr style=\"text-align: right;\">\n",
              "      <th></th>\n",
              "      <th>acc_id</th>\n",
              "      <th>label</th>\n",
              "    </tr>\n",
              "  </thead>\n",
              "  <tbody>\n",
              "    <tr>\n",
              "      <th>0</th>\n",
              "      <td>b8fbf3f6a70e3f36843bffc70c18ff51a0d755a87616ec...</td>\n",
              "      <td>week</td>\n",
              "    </tr>\n",
              "    <tr>\n",
              "      <th>1</th>\n",
              "      <td>ed500c4957956b3e99dc3985666850b582f812405eefb6...</td>\n",
              "      <td>week</td>\n",
              "    </tr>\n",
              "    <tr>\n",
              "      <th>2</th>\n",
              "      <td>acc6afa23a6bf15e18151e4794c7789225ef9d682f473c...</td>\n",
              "      <td>week</td>\n",
              "    </tr>\n",
              "    <tr>\n",
              "      <th>3</th>\n",
              "      <td>34095a3c9a2937ced3ea3fd75e22ce177dc5879d2a53f7...</td>\n",
              "      <td>week</td>\n",
              "    </tr>\n",
              "    <tr>\n",
              "      <th>4</th>\n",
              "      <td>26f3db6e8817a93c4ceda9a16f0832945e43d950b95882...</td>\n",
              "      <td>week</td>\n",
              "    </tr>\n",
              "  </tbody>\n",
              "</table>\n",
              "</div>"
            ],
            "text/plain": [
              "                                              acc_id label\n",
              "0  b8fbf3f6a70e3f36843bffc70c18ff51a0d755a87616ec...  week\n",
              "1  ed500c4957956b3e99dc3985666850b582f812405eefb6...  week\n",
              "2  acc6afa23a6bf15e18151e4794c7789225ef9d682f473c...  week\n",
              "3  34095a3c9a2937ced3ea3fd75e22ce177dc5879d2a53f7...  week\n",
              "4  26f3db6e8817a93c4ceda9a16f0832945e43d950b95882...  week"
            ]
          },
          "metadata": {
            "tags": []
          },
          "execution_count": 4
        }
      ]
    },
    {
      "metadata": {
        "id": "TifsC4Kib0fm",
        "colab_type": "code",
        "colab": {
          "base_uri": "https://localhost:8080/",
          "height": 253
        },
        "outputId": "db2771e4-d244-4ed4-eb16-4a7dc1eadccb"
      },
      "cell_type": "code",
      "source": [
        "file_id = '1bsa0jiYWjdLkVV5-ax4h5Hhu9Ev6znhU'\n",
        "downloaded = drive.CreateFile({'id': file_id})\n",
        "downloaded.GetContentFile('activity')\n",
        "activity = pd.read_csv('activity')\n",
        "activity.head()"
      ],
      "execution_count": 5,
      "outputs": [
        {
          "output_type": "execute_result",
          "data": {
            "text/html": [
              "<div>\n",
              "<style scoped>\n",
              "    .dataframe tbody tr th:only-of-type {\n",
              "        vertical-align: middle;\n",
              "    }\n",
              "\n",
              "    .dataframe tbody tr th {\n",
              "        vertical-align: top;\n",
              "    }\n",
              "\n",
              "    .dataframe thead th {\n",
              "        text-align: right;\n",
              "    }\n",
              "</style>\n",
              "<table border=\"1\" class=\"dataframe\">\n",
              "  <thead>\n",
              "    <tr style=\"text-align: right;\">\n",
              "      <th></th>\n",
              "      <th>wk</th>\n",
              "      <th>acc_id</th>\n",
              "      <th>cnt_dt</th>\n",
              "      <th>play_time</th>\n",
              "      <th>npc_exp</th>\n",
              "      <th>npc_hongmun</th>\n",
              "      <th>quest_exp</th>\n",
              "      <th>quest_hongmun</th>\n",
              "      <th>item_hongmun</th>\n",
              "      <th>game_combat_time</th>\n",
              "      <th>...</th>\n",
              "      <th>cnt_clear_bam</th>\n",
              "      <th>normal_chat</th>\n",
              "      <th>whisper_chat</th>\n",
              "      <th>district_chat</th>\n",
              "      <th>party_chat</th>\n",
              "      <th>guild_chat</th>\n",
              "      <th>faction_chat</th>\n",
              "      <th>cnt_use_buffitem</th>\n",
              "      <th>gathering_cnt</th>\n",
              "      <th>making_cnt</th>\n",
              "    </tr>\n",
              "  </thead>\n",
              "  <tbody>\n",
              "    <tr>\n",
              "      <th>0</th>\n",
              "      <td>7</td>\n",
              "      <td>3dc6f2875dc6e6f35b9e2bdb25b391a8003386ff23becd...</td>\n",
              "      <td>4</td>\n",
              "      <td>2.088814</td>\n",
              "      <td>4.405057</td>\n",
              "      <td>-0.245477</td>\n",
              "      <td>4.454059</td>\n",
              "      <td>3.009797</td>\n",
              "      <td>-0.306354</td>\n",
              "      <td>1.184011</td>\n",
              "      <td>...</td>\n",
              "      <td>-0.03313</td>\n",
              "      <td>-0.034038</td>\n",
              "      <td>-0.231827</td>\n",
              "      <td>-0.016574</td>\n",
              "      <td>-0.275174</td>\n",
              "      <td>-0.343293</td>\n",
              "      <td>-0.024028</td>\n",
              "      <td>3.466939</td>\n",
              "      <td>-0.027758</td>\n",
              "      <td>-0.365536</td>\n",
              "    </tr>\n",
              "    <tr>\n",
              "      <th>1</th>\n",
              "      <td>8</td>\n",
              "      <td>3dc6f2875dc6e6f35b9e2bdb25b391a8003386ff23becd...</td>\n",
              "      <td>5</td>\n",
              "      <td>2.673460</td>\n",
              "      <td>4.760178</td>\n",
              "      <td>-0.222527</td>\n",
              "      <td>6.107479</td>\n",
              "      <td>4.758528</td>\n",
              "      <td>-0.306354</td>\n",
              "      <td>1.709534</td>\n",
              "      <td>...</td>\n",
              "      <td>-0.03313</td>\n",
              "      <td>-0.034038</td>\n",
              "      <td>-0.231827</td>\n",
              "      <td>-0.016574</td>\n",
              "      <td>-0.275174</td>\n",
              "      <td>-0.343293</td>\n",
              "      <td>-0.024028</td>\n",
              "      <td>5.070359</td>\n",
              "      <td>-0.027758</td>\n",
              "      <td>-0.365536</td>\n",
              "    </tr>\n",
              "    <tr>\n",
              "      <th>2</th>\n",
              "      <td>3</td>\n",
              "      <td>b8856358ff62e596fa07e3e40b8e7fd4b7729263c72b44...</td>\n",
              "      <td>2</td>\n",
              "      <td>-0.649522</td>\n",
              "      <td>-0.231021</td>\n",
              "      <td>-0.290803</td>\n",
              "      <td>-0.245978</td>\n",
              "      <td>-0.487666</td>\n",
              "      <td>-0.306354</td>\n",
              "      <td>-0.566706</td>\n",
              "      <td>...</td>\n",
              "      <td>-0.03313</td>\n",
              "      <td>-0.034038</td>\n",
              "      <td>-0.231827</td>\n",
              "      <td>-0.016574</td>\n",
              "      <td>-0.275174</td>\n",
              "      <td>-0.343293</td>\n",
              "      <td>-0.024028</td>\n",
              "      <td>-0.498275</td>\n",
              "      <td>-0.027758</td>\n",
              "      <td>-0.365536</td>\n",
              "    </tr>\n",
              "    <tr>\n",
              "      <th>3</th>\n",
              "      <td>4</td>\n",
              "      <td>b8856358ff62e596fa07e3e40b8e7fd4b7729263c72b44...</td>\n",
              "      <td>2</td>\n",
              "      <td>-0.658235</td>\n",
              "      <td>-0.231874</td>\n",
              "      <td>-0.290803</td>\n",
              "      <td>-0.250423</td>\n",
              "      <td>-0.487666</td>\n",
              "      <td>-0.306354</td>\n",
              "      <td>-0.569842</td>\n",
              "      <td>...</td>\n",
              "      <td>-0.03313</td>\n",
              "      <td>-0.034038</td>\n",
              "      <td>-0.231827</td>\n",
              "      <td>-0.016574</td>\n",
              "      <td>-0.275174</td>\n",
              "      <td>-0.343293</td>\n",
              "      <td>-0.024028</td>\n",
              "      <td>-0.503692</td>\n",
              "      <td>-0.027758</td>\n",
              "      <td>-0.365536</td>\n",
              "    </tr>\n",
              "    <tr>\n",
              "      <th>4</th>\n",
              "      <td>5</td>\n",
              "      <td>b8856358ff62e596fa07e3e40b8e7fd4b7729263c72b44...</td>\n",
              "      <td>4</td>\n",
              "      <td>-0.654734</td>\n",
              "      <td>-0.231874</td>\n",
              "      <td>-0.290803</td>\n",
              "      <td>-0.250423</td>\n",
              "      <td>-0.487666</td>\n",
              "      <td>-0.306354</td>\n",
              "      <td>-0.569842</td>\n",
              "      <td>...</td>\n",
              "      <td>-0.03313</td>\n",
              "      <td>-0.034038</td>\n",
              "      <td>-0.231827</td>\n",
              "      <td>-0.016574</td>\n",
              "      <td>-0.275174</td>\n",
              "      <td>-0.343293</td>\n",
              "      <td>-0.024028</td>\n",
              "      <td>-0.503692</td>\n",
              "      <td>-0.027758</td>\n",
              "      <td>-0.365536</td>\n",
              "    </tr>\n",
              "  </tbody>\n",
              "</table>\n",
              "<p>5 rows × 38 columns</p>\n",
              "</div>"
            ],
            "text/plain": [
              "   wk                                             acc_id  cnt_dt  play_time  \\\n",
              "0   7  3dc6f2875dc6e6f35b9e2bdb25b391a8003386ff23becd...       4   2.088814   \n",
              "1   8  3dc6f2875dc6e6f35b9e2bdb25b391a8003386ff23becd...       5   2.673460   \n",
              "2   3  b8856358ff62e596fa07e3e40b8e7fd4b7729263c72b44...       2  -0.649522   \n",
              "3   4  b8856358ff62e596fa07e3e40b8e7fd4b7729263c72b44...       2  -0.658235   \n",
              "4   5  b8856358ff62e596fa07e3e40b8e7fd4b7729263c72b44...       4  -0.654734   \n",
              "\n",
              "    npc_exp  npc_hongmun  quest_exp  quest_hongmun  item_hongmun  \\\n",
              "0  4.405057    -0.245477   4.454059       3.009797     -0.306354   \n",
              "1  4.760178    -0.222527   6.107479       4.758528     -0.306354   \n",
              "2 -0.231021    -0.290803  -0.245978      -0.487666     -0.306354   \n",
              "3 -0.231874    -0.290803  -0.250423      -0.487666     -0.306354   \n",
              "4 -0.231874    -0.290803  -0.250423      -0.487666     -0.306354   \n",
              "\n",
              "   game_combat_time     ...      cnt_clear_bam  normal_chat  whisper_chat  \\\n",
              "0          1.184011     ...           -0.03313    -0.034038     -0.231827   \n",
              "1          1.709534     ...           -0.03313    -0.034038     -0.231827   \n",
              "2         -0.566706     ...           -0.03313    -0.034038     -0.231827   \n",
              "3         -0.569842     ...           -0.03313    -0.034038     -0.231827   \n",
              "4         -0.569842     ...           -0.03313    -0.034038     -0.231827   \n",
              "\n",
              "   district_chat  party_chat  guild_chat  faction_chat  cnt_use_buffitem  \\\n",
              "0      -0.016574   -0.275174   -0.343293     -0.024028          3.466939   \n",
              "1      -0.016574   -0.275174   -0.343293     -0.024028          5.070359   \n",
              "2      -0.016574   -0.275174   -0.343293     -0.024028         -0.498275   \n",
              "3      -0.016574   -0.275174   -0.343293     -0.024028         -0.503692   \n",
              "4      -0.016574   -0.275174   -0.343293     -0.024028         -0.503692   \n",
              "\n",
              "   gathering_cnt  making_cnt  \n",
              "0      -0.027758   -0.365536  \n",
              "1      -0.027758   -0.365536  \n",
              "2      -0.027758   -0.365536  \n",
              "3      -0.027758   -0.365536  \n",
              "4      -0.027758   -0.365536  \n",
              "\n",
              "[5 rows x 38 columns]"
            ]
          },
          "metadata": {
            "tags": []
          },
          "execution_count": 5
        }
      ]
    },
    {
      "metadata": {
        "id": "Es1wajp3YdXD",
        "colab_type": "code",
        "colab": {
          "base_uri": "https://localhost:8080/",
          "height": 253
        },
        "outputId": "b7b93db5-caee-4767-8e86-9822bae2097b"
      },
      "cell_type": "code",
      "source": [
        "rd = pd.merge(label, activity)\n",
        "rd.head()"
      ],
      "execution_count": 6,
      "outputs": [
        {
          "output_type": "execute_result",
          "data": {
            "text/html": [
              "<div>\n",
              "<style scoped>\n",
              "    .dataframe tbody tr th:only-of-type {\n",
              "        vertical-align: middle;\n",
              "    }\n",
              "\n",
              "    .dataframe tbody tr th {\n",
              "        vertical-align: top;\n",
              "    }\n",
              "\n",
              "    .dataframe thead th {\n",
              "        text-align: right;\n",
              "    }\n",
              "</style>\n",
              "<table border=\"1\" class=\"dataframe\">\n",
              "  <thead>\n",
              "    <tr style=\"text-align: right;\">\n",
              "      <th></th>\n",
              "      <th>acc_id</th>\n",
              "      <th>label</th>\n",
              "      <th>wk</th>\n",
              "      <th>cnt_dt</th>\n",
              "      <th>play_time</th>\n",
              "      <th>npc_exp</th>\n",
              "      <th>npc_hongmun</th>\n",
              "      <th>quest_exp</th>\n",
              "      <th>quest_hongmun</th>\n",
              "      <th>item_hongmun</th>\n",
              "      <th>...</th>\n",
              "      <th>cnt_clear_bam</th>\n",
              "      <th>normal_chat</th>\n",
              "      <th>whisper_chat</th>\n",
              "      <th>district_chat</th>\n",
              "      <th>party_chat</th>\n",
              "      <th>guild_chat</th>\n",
              "      <th>faction_chat</th>\n",
              "      <th>cnt_use_buffitem</th>\n",
              "      <th>gathering_cnt</th>\n",
              "      <th>making_cnt</th>\n",
              "    </tr>\n",
              "  </thead>\n",
              "  <tbody>\n",
              "    <tr>\n",
              "      <th>0</th>\n",
              "      <td>b8fbf3f6a70e3f36843bffc70c18ff51a0d755a87616ec...</td>\n",
              "      <td>week</td>\n",
              "      <td>8</td>\n",
              "      <td>3</td>\n",
              "      <td>1.519815</td>\n",
              "      <td>2.910685</td>\n",
              "      <td>-0.268110</td>\n",
              "      <td>2.852241</td>\n",
              "      <td>2.332910</td>\n",
              "      <td>-0.306354</td>\n",
              "      <td>...</td>\n",
              "      <td>-0.03313</td>\n",
              "      <td>-0.034038</td>\n",
              "      <td>-0.231827</td>\n",
              "      <td>-0.016574</td>\n",
              "      <td>-0.275174</td>\n",
              "      <td>-0.343293</td>\n",
              "      <td>-0.024028</td>\n",
              "      <td>2.161452</td>\n",
              "      <td>-0.027758</td>\n",
              "      <td>-0.365536</td>\n",
              "    </tr>\n",
              "    <tr>\n",
              "      <th>1</th>\n",
              "      <td>ed500c4957956b3e99dc3985666850b582f812405eefb6...</td>\n",
              "      <td>week</td>\n",
              "      <td>5</td>\n",
              "      <td>7</td>\n",
              "      <td>4.698532</td>\n",
              "      <td>9.147854</td>\n",
              "      <td>-0.138458</td>\n",
              "      <td>8.584935</td>\n",
              "      <td>5.995250</td>\n",
              "      <td>-0.306354</td>\n",
              "      <td>...</td>\n",
              "      <td>-0.03313</td>\n",
              "      <td>0.319626</td>\n",
              "      <td>-0.231827</td>\n",
              "      <td>-0.016574</td>\n",
              "      <td>-0.275174</td>\n",
              "      <td>-0.343293</td>\n",
              "      <td>-0.024028</td>\n",
              "      <td>3.066084</td>\n",
              "      <td>-0.027758</td>\n",
              "      <td>-0.365536</td>\n",
              "    </tr>\n",
              "    <tr>\n",
              "      <th>2</th>\n",
              "      <td>ed500c4957956b3e99dc3985666850b582f812405eefb6...</td>\n",
              "      <td>week</td>\n",
              "      <td>6</td>\n",
              "      <td>3</td>\n",
              "      <td>0.632257</td>\n",
              "      <td>0.213292</td>\n",
              "      <td>-0.290501</td>\n",
              "      <td>-0.022940</td>\n",
              "      <td>0.169815</td>\n",
              "      <td>-0.306354</td>\n",
              "      <td>...</td>\n",
              "      <td>-0.03313</td>\n",
              "      <td>-0.034038</td>\n",
              "      <td>-0.231827</td>\n",
              "      <td>-0.016574</td>\n",
              "      <td>-0.275174</td>\n",
              "      <td>-0.343293</td>\n",
              "      <td>-0.024028</td>\n",
              "      <td>-0.167841</td>\n",
              "      <td>-0.027758</td>\n",
              "      <td>-0.365536</td>\n",
              "    </tr>\n",
              "    <tr>\n",
              "      <th>3</th>\n",
              "      <td>ed500c4957956b3e99dc3985666850b582f812405eefb6...</td>\n",
              "      <td>week</td>\n",
              "      <td>7</td>\n",
              "      <td>6</td>\n",
              "      <td>1.218180</td>\n",
              "      <td>1.787315</td>\n",
              "      <td>-0.159228</td>\n",
              "      <td>1.727487</td>\n",
              "      <td>1.403784</td>\n",
              "      <td>-0.198324</td>\n",
              "      <td>...</td>\n",
              "      <td>-0.03313</td>\n",
              "      <td>0.054378</td>\n",
              "      <td>-0.096277</td>\n",
              "      <td>-0.016574</td>\n",
              "      <td>-0.275174</td>\n",
              "      <td>-0.343293</td>\n",
              "      <td>-0.024028</td>\n",
              "      <td>0.937219</td>\n",
              "      <td>-0.027758</td>\n",
              "      <td>-0.365536</td>\n",
              "    </tr>\n",
              "    <tr>\n",
              "      <th>4</th>\n",
              "      <td>ed500c4957956b3e99dc3985666850b582f812405eefb6...</td>\n",
              "      <td>week</td>\n",
              "      <td>8</td>\n",
              "      <td>7</td>\n",
              "      <td>0.521166</td>\n",
              "      <td>-0.231874</td>\n",
              "      <td>-0.030257</td>\n",
              "      <td>-0.250423</td>\n",
              "      <td>-0.208689</td>\n",
              "      <td>-0.015505</td>\n",
              "      <td>...</td>\n",
              "      <td>-0.03313</td>\n",
              "      <td>-0.034038</td>\n",
              "      <td>0.187146</td>\n",
              "      <td>-0.016574</td>\n",
              "      <td>-0.275174</td>\n",
              "      <td>-0.343293</td>\n",
              "      <td>-0.024028</td>\n",
              "      <td>1.224318</td>\n",
              "      <td>-0.027758</td>\n",
              "      <td>-0.365536</td>\n",
              "    </tr>\n",
              "  </tbody>\n",
              "</table>\n",
              "<p>5 rows × 39 columns</p>\n",
              "</div>"
            ],
            "text/plain": [
              "                                              acc_id label  wk  cnt_dt  \\\n",
              "0  b8fbf3f6a70e3f36843bffc70c18ff51a0d755a87616ec...  week   8       3   \n",
              "1  ed500c4957956b3e99dc3985666850b582f812405eefb6...  week   5       7   \n",
              "2  ed500c4957956b3e99dc3985666850b582f812405eefb6...  week   6       3   \n",
              "3  ed500c4957956b3e99dc3985666850b582f812405eefb6...  week   7       6   \n",
              "4  ed500c4957956b3e99dc3985666850b582f812405eefb6...  week   8       7   \n",
              "\n",
              "   play_time   npc_exp  npc_hongmun  quest_exp  quest_hongmun  item_hongmun  \\\n",
              "0   1.519815  2.910685    -0.268110   2.852241       2.332910     -0.306354   \n",
              "1   4.698532  9.147854    -0.138458   8.584935       5.995250     -0.306354   \n",
              "2   0.632257  0.213292    -0.290501  -0.022940       0.169815     -0.306354   \n",
              "3   1.218180  1.787315    -0.159228   1.727487       1.403784     -0.198324   \n",
              "4   0.521166 -0.231874    -0.030257  -0.250423      -0.208689     -0.015505   \n",
              "\n",
              "      ...      cnt_clear_bam  normal_chat  whisper_chat  district_chat  \\\n",
              "0     ...           -0.03313    -0.034038     -0.231827      -0.016574   \n",
              "1     ...           -0.03313     0.319626     -0.231827      -0.016574   \n",
              "2     ...           -0.03313    -0.034038     -0.231827      -0.016574   \n",
              "3     ...           -0.03313     0.054378     -0.096277      -0.016574   \n",
              "4     ...           -0.03313    -0.034038      0.187146      -0.016574   \n",
              "\n",
              "   party_chat  guild_chat  faction_chat  cnt_use_buffitem  gathering_cnt  \\\n",
              "0   -0.275174   -0.343293     -0.024028          2.161452      -0.027758   \n",
              "1   -0.275174   -0.343293     -0.024028          3.066084      -0.027758   \n",
              "2   -0.275174   -0.343293     -0.024028         -0.167841      -0.027758   \n",
              "3   -0.275174   -0.343293     -0.024028          0.937219      -0.027758   \n",
              "4   -0.275174   -0.343293     -0.024028          1.224318      -0.027758   \n",
              "\n",
              "   making_cnt  \n",
              "0   -0.365536  \n",
              "1   -0.365536  \n",
              "2   -0.365536  \n",
              "3   -0.365536  \n",
              "4   -0.365536  \n",
              "\n",
              "[5 rows x 39 columns]"
            ]
          },
          "metadata": {
            "tags": []
          },
          "execution_count": 6
        }
      ]
    },
    {
      "metadata": {
        "id": "PFNTrPFaYsZy",
        "colab_type": "code",
        "colab": {
          "base_uri": "https://localhost:8080/",
          "height": 35
        },
        "outputId": "fd7eefb5-a37b-463a-985e-285fd737247b"
      },
      "cell_type": "code",
      "source": [
        "rd.shape"
      ],
      "execution_count": 7,
      "outputs": [
        {
          "output_type": "execute_result",
          "data": {
            "text/plain": [
              "(440323, 39)"
            ]
          },
          "metadata": {
            "tags": []
          },
          "execution_count": 7
        }
      ]
    },
    {
      "metadata": {
        "id": "2YRA404GaWmC",
        "colab_type": "code",
        "colab": {
          "base_uri": "https://localhost:8080/",
          "height": 809
        },
        "outputId": "76fced65-61b6-47b4-b8ec-6c3c9dfc02c6"
      },
      "cell_type": "code",
      "source": [
        "rd['label'] = rd['label'].astype('category')\n",
        "rd.info()"
      ],
      "execution_count": 8,
      "outputs": [
        {
          "output_type": "stream",
          "text": [
            "<class 'pandas.core.frame.DataFrame'>\n",
            "Int64Index: 440323 entries, 0 to 440322\n",
            "Data columns (total 39 columns):\n",
            "acc_id                      440323 non-null object\n",
            "label                       440323 non-null category\n",
            "wk                          440323 non-null int64\n",
            "cnt_dt                      440323 non-null int64\n",
            "play_time                   440323 non-null float64\n",
            "npc_exp                     440323 non-null float64\n",
            "npc_hongmun                 440323 non-null float64\n",
            "quest_exp                   440323 non-null float64\n",
            "quest_hongmun               440323 non-null float64\n",
            "item_hongmun                440323 non-null float64\n",
            "game_combat_time            440323 non-null float64\n",
            "get_money                   440323 non-null float64\n",
            "duel_cnt                    440323 non-null float64\n",
            "duel_win                    440323 non-null float64\n",
            "partybattle_cnt             440323 non-null float64\n",
            "partybattle_win             440323 non-null float64\n",
            "cnt_enter_inzone_solo       440323 non-null float64\n",
            "cnt_enter_inzone_light      440323 non-null float64\n",
            "cnt_enter_inzone_skilled    440323 non-null float64\n",
            "cnt_enter_inzone_normal     440323 non-null float64\n",
            "cnt_enter_raid              440323 non-null float64\n",
            "cnt_enter_raid_light        440323 non-null float64\n",
            "cnt_enter_bam               440323 non-null float64\n",
            "cnt_clear_inzone_solo       440323 non-null float64\n",
            "cnt_clear_inzone_light      440323 non-null float64\n",
            "cnt_clear_inzone_skilled    440323 non-null float64\n",
            "cnt_clear_inzone_normal     440323 non-null float64\n",
            "cnt_clear_raid              440323 non-null float64\n",
            "cnt_clear_raid_light        440323 non-null float64\n",
            "cnt_clear_bam               440323 non-null float64\n",
            "normal_chat                 440323 non-null float64\n",
            "whisper_chat                440323 non-null float64\n",
            "district_chat               440323 non-null float64\n",
            "party_chat                  440323 non-null float64\n",
            "guild_chat                  440323 non-null float64\n",
            "faction_chat                440323 non-null float64\n",
            "cnt_use_buffitem            440323 non-null float64\n",
            "gathering_cnt               440323 non-null float64\n",
            "making_cnt                  440323 non-null float64\n",
            "dtypes: category(1), float64(35), int64(2), object(1)\n",
            "memory usage: 131.4+ MB\n"
          ],
          "name": "stdout"
        }
      ]
    },
    {
      "metadata": {
        "id": "A1zgHjEHnlVc",
        "colab_type": "code",
        "colab": {
          "base_uri": "https://localhost:8080/",
          "height": 729
        },
        "outputId": "57cb21f5-3256-4839-f6e7-fd80bfc5ae3e"
      },
      "cell_type": "code",
      "source": [
        "rd_corr = rd.corr()\n",
        "sns.heatmap(rd_corr, cmap = 'rocket_r')"
      ],
      "execution_count": 9,
      "outputs": [
        {
          "output_type": "execute_result",
          "data": {
            "text/plain": [
              "<matplotlib.axes._subplots.AxesSubplot at 0x7fb1572e16d0>"
            ]
          },
          "metadata": {
            "tags": []
          },
          "execution_count": 9
        },
        {
          "output_type": "display_data",
          "data": {
            "image/png": "[encoded data removed]",
            "text/plain": [
              "<matplotlib.figure.Figure at 0x7fb159d60e10>"
            ]
          },
          "metadata": {
            "tags": []
          }
        }
      ]
    },
    {
      "metadata": {
        "id": "w4PiLqvDjGd-",
        "colab_type": "text"
      },
      "cell_type": "markdown",
      "source": [
        "### - cnt_enter_raid, cnt_enter_raid_light, cnt_clear_raid 간에는 높은 상관관계\n",
        "### - duel_cnt와 duel_win은 거의 같은 지표라 해도 무방할 정도\n",
        "### - guild_chat과 party_chat 간의 높은 상관관계\n",
        "### - quest_hongmun과 quest_exp 간에는 높은 상관관계"
      ]
    },
    {
      "metadata": {
        "id": "2p6svHXBj8ad",
        "colab_type": "code",
        "colab": {
          "base_uri": "https://localhost:8080/",
          "height": 111
        },
        "outputId": "90f1dbcf-6f7d-4be6-fb21-8713bf1856a9"
      },
      "cell_type": "code",
      "source": [
        "rd.iloc[:, 12:14].corr()"
      ],
      "execution_count": 10,
      "outputs": [
        {
          "output_type": "execute_result",
          "data": {
            "text/html": [
              "<div>\n",
              "<style scoped>\n",
              "    .dataframe tbody tr th:only-of-type {\n",
              "        vertical-align: middle;\n",
              "    }\n",
              "\n",
              "    .dataframe tbody tr th {\n",
              "        vertical-align: top;\n",
              "    }\n",
              "\n",
              "    .dataframe thead th {\n",
              "        text-align: right;\n",
              "    }\n",
              "</style>\n",
              "<table border=\"1\" class=\"dataframe\">\n",
              "  <thead>\n",
              "    <tr style=\"text-align: right;\">\n",
              "      <th></th>\n",
              "      <th>duel_cnt</th>\n",
              "      <th>duel_win</th>\n",
              "    </tr>\n",
              "  </thead>\n",
              "  <tbody>\n",
              "    <tr>\n",
              "      <th>duel_cnt</th>\n",
              "      <td>1.000000</td>\n",
              "      <td>0.985314</td>\n",
              "    </tr>\n",
              "    <tr>\n",
              "      <th>duel_win</th>\n",
              "      <td>0.985314</td>\n",
              "      <td>1.000000</td>\n",
              "    </tr>\n",
              "  </tbody>\n",
              "</table>\n",
              "</div>"
            ],
            "text/plain": [
              "          duel_cnt  duel_win\n",
              "duel_cnt  1.000000  0.985314\n",
              "duel_win  0.985314  1.000000"
            ]
          },
          "metadata": {
            "tags": []
          },
          "execution_count": 10
        }
      ]
    },
    {
      "metadata": {
        "id": "P3rRTidIfeY2",
        "colab_type": "code",
        "colab": {
          "base_uri": "https://localhost:8080/",
          "height": 628
        },
        "outputId": "1bca3472-e045-4ae3-aab0-47fac2338282"
      },
      "cell_type": "code",
      "source": [
        "sns.scatterplot(x = 'duel_cnt', y = 'duel_win', hue = 'label', data = rd)"
      ],
      "execution_count": 11,
      "outputs": [
        {
          "output_type": "execute_result",
          "data": {
            "text/plain": [
              "<matplotlib.axes._subplots.AxesSubplot at 0x7fb1550e2b90>"
            ]
          },
          "metadata": {
            "tags": []
          },
          "execution_count": 11
        },
        {
          "output_type": "display_data",
          "data": {
            "image/png": "[encoded data removed]",
            "text/plain": [
              "<matplotlib.figure.Figure at 0x7fb1550e2650>"
            ]
          },
          "metadata": {
            "tags": []
          }
        }
      ]
    },
    {
      "metadata": {
        "id": "J9Ftad6irXJb",
        "colab_type": "code",
        "colab": {
          "base_uri": "https://localhost:8080/",
          "height": 142
        },
        "outputId": "ec4caa11-c7da-436e-dded-d6e07536d22c"
      },
      "cell_type": "code",
      "source": [
        "rd.loc[:, ['cnt_enter_raid', 'cnt_enter_raid_light', 'cnt_clear_raid']].corr()"
      ],
      "execution_count": 12,
      "outputs": [
        {
          "output_type": "execute_result",
          "data": {
            "text/html": [
              "<div>\n",
              "<style scoped>\n",
              "    .dataframe tbody tr th:only-of-type {\n",
              "        vertical-align: middle;\n",
              "    }\n",
              "\n",
              "    .dataframe tbody tr th {\n",
              "        vertical-align: top;\n",
              "    }\n",
              "\n",
              "    .dataframe thead th {\n",
              "        text-align: right;\n",
              "    }\n",
              "</style>\n",
              "<table border=\"1\" class=\"dataframe\">\n",
              "  <thead>\n",
              "    <tr style=\"text-align: right;\">\n",
              "      <th></th>\n",
              "      <th>cnt_enter_raid</th>\n",
              "      <th>cnt_enter_raid_light</th>\n",
              "      <th>cnt_clear_raid</th>\n",
              "    </tr>\n",
              "  </thead>\n",
              "  <tbody>\n",
              "    <tr>\n",
              "      <th>cnt_enter_raid</th>\n",
              "      <td>1.000000</td>\n",
              "      <td>0.704731</td>\n",
              "      <td>0.966273</td>\n",
              "    </tr>\n",
              "    <tr>\n",
              "      <th>cnt_enter_raid_light</th>\n",
              "      <td>0.704731</td>\n",
              "      <td>1.000000</td>\n",
              "      <td>0.730706</td>\n",
              "    </tr>\n",
              "    <tr>\n",
              "      <th>cnt_clear_raid</th>\n",
              "      <td>0.966273</td>\n",
              "      <td>0.730706</td>\n",
              "      <td>1.000000</td>\n",
              "    </tr>\n",
              "  </tbody>\n",
              "</table>\n",
              "</div>"
            ],
            "text/plain": [
              "                      cnt_enter_raid  cnt_enter_raid_light  cnt_clear_raid\n",
              "cnt_enter_raid              1.000000              0.704731        0.966273\n",
              "cnt_enter_raid_light        0.704731              1.000000        0.730706\n",
              "cnt_clear_raid              0.966273              0.730706        1.000000"
            ]
          },
          "metadata": {
            "tags": []
          },
          "execution_count": 12
        }
      ]
    },
    {
      "metadata": {
        "id": "fS4ctxzZsgqH",
        "colab_type": "code",
        "colab": {
          "base_uri": "https://localhost:8080/",
          "height": 424
        },
        "outputId": "1f020c60-2c82-4d15-9500-483d55f8a63c"
      },
      "cell_type": "code",
      "source": [
        "rd.loc[:, ['label', 'cnt_enter_raid', 'cnt_enter_raid_light', 'cnt_clear_raid']].stack(level = ['cnt_enter_raid', 'cnt_enter_raid_light', 'cnt_clear_raid', 'label'])"
      ],
      "execution_count": 20,
      "outputs": [
        {
          "output_type": "error",
          "ename": "ValueError",
          "evalue": "ignored",
          "traceback": [
            "\u001b[0;31m\u001b[0m",
            "\u001b[0;31mValueError\u001b[0mTraceback (most recent call last)",
            "\u001b[0;32m<ipython-input-20-ecb4a0e4423f>\u001b[0m in \u001b[0;36m<module>\u001b[0;34m()\u001b[0m\n\u001b[0;32m----> 1\u001b[0;31m \u001b[0mrd\u001b[0m\u001b[0;34m.\u001b[0m\u001b[0mloc\u001b[0m\u001b[0;34m[\u001b[0m\u001b[0;34m:\u001b[0m\u001b[0;34m,\u001b[0m \u001b[0;34m[\u001b[0m\u001b[0;34m'label'\u001b[0m\u001b[0;34m,\u001b[0m \u001b[0;34m'cnt_enter_raid'\u001b[0m\u001b[0;34m,\u001b[0m \u001b[0;34m'cnt_enter_raid_light'\u001b[0m\u001b[0;34m,\u001b[0m \u001b[0;34m'cnt_clear_raid'\u001b[0m\u001b[0;34m]\u001b[0m\u001b[0;34m]\u001b[0m\u001b[0;34m.\u001b[0m\u001b[0mstack\u001b[0m\u001b[0;34m(\u001b[0m\u001b[0mlevel\u001b[0m \u001b[0;34m=\u001b[0m \u001b[0;34m[\u001b[0m\u001b[0;34m'cnt_enter_raid'\u001b[0m\u001b[0;34m,\u001b[0m \u001b[0;34m'cnt_enter_raid_light'\u001b[0m\u001b[0;34m,\u001b[0m \u001b[0;34m'cnt_clear_raid'\u001b[0m\u001b[0;34m,\u001b[0m \u001b[0;34m'label'\u001b[0m\u001b[0;34m]\u001b[0m\u001b[0;34m)\u001b[0m\u001b[0;34m\u001b[0m\u001b[0m\n\u001b[0m",
            "\u001b[0;32m/usr/local/lib/python2.7/dist-packages/pandas/core/frame.pyc\u001b[0m in \u001b[0;36mstack\u001b[0;34m(self, level, dropna)\u001b[0m\n\u001b[1;32m   5469\u001b[0m \u001b[0;34m\u001b[0m\u001b[0m\n\u001b[1;32m   5470\u001b[0m         \u001b[0;32mif\u001b[0m \u001b[0misinstance\u001b[0m\u001b[0;34m(\u001b[0m\u001b[0mlevel\u001b[0m\u001b[0;34m,\u001b[0m \u001b[0;34m(\u001b[0m\u001b[0mtuple\u001b[0m\u001b[0;34m,\u001b[0m \u001b[0mlist\u001b[0m\u001b[0;34m)\u001b[0m\u001b[0;34m)\u001b[0m\u001b[0;34m:\u001b[0m\u001b[0;34m\u001b[0m\u001b[0m\n\u001b[0;32m-> 5471\u001b[0;31m             \u001b[0;32mreturn\u001b[0m \u001b[0mstack_multiple\u001b[0m\u001b[0;34m(\u001b[0m\u001b[0mself\u001b[0m\u001b[0;34m,\u001b[0m \u001b[0mlevel\u001b[0m\u001b[0;34m,\u001b[0m \u001b[0mdropna\u001b[0m\u001b[0;34m=\u001b[0m\u001b[0mdropna\u001b[0m\u001b[0;34m)\u001b[0m\u001b[0;34m\u001b[0m\u001b[0m\n\u001b[0m\u001b[1;32m   5472\u001b[0m         \u001b[0;32melse\u001b[0m\u001b[0;34m:\u001b[0m\u001b[0;34m\u001b[0m\u001b[0m\n\u001b[1;32m   5473\u001b[0m             \u001b[0;32mreturn\u001b[0m \u001b[0mstack\u001b[0m\u001b[0;34m(\u001b[0m\u001b[0mself\u001b[0m\u001b[0;34m,\u001b[0m \u001b[0mlevel\u001b[0m\u001b[0;34m,\u001b[0m \u001b[0mdropna\u001b[0m\u001b[0;34m=\u001b[0m\u001b[0mdropna\u001b[0m\u001b[0;34m)\u001b[0m\u001b[0;34m\u001b[0m\u001b[0m\n",
            "\u001b[0;32m/usr/local/lib/python2.7/dist-packages/pandas/core/reshape/reshape.pyc\u001b[0m in \u001b[0;36mstack_multiple\u001b[0;34m(frame, level, dropna)\u001b[0m\n\u001b[1;32m    608\u001b[0m \u001b[0;34m\u001b[0m\u001b[0m\n\u001b[1;32m    609\u001b[0m     \u001b[0;32melse\u001b[0m\u001b[0;34m:\u001b[0m\u001b[0;34m\u001b[0m\u001b[0m\n\u001b[0;32m--> 610\u001b[0;31m         raise ValueError(\"level should contain all level names or all level \"\n\u001b[0m\u001b[1;32m    611\u001b[0m                          \"numbers, not a mixture of the two.\")\n\u001b[1;32m    612\u001b[0m \u001b[0;34m\u001b[0m\u001b[0m\n",
            "\u001b[0;31mValueError\u001b[0m: level should contain all level names or all level numbers, not a mixture of the two."
          ]
        }
      ]
    },
    {
      "metadata": {
        "id": "7fnQqeKYsgJ7",
        "colab_type": "code",
        "colab": {
          "base_uri": "https://localhost:8080/",
          "height": 1128
        },
        "outputId": "5141855c-f7ff-4903-fe7c-54b5d848e999"
      },
      "cell_type": "code",
      "source": [
        "\n",
        "\n",
        "\n",
        "raid_facet = sns.FacetGrid(data = rd, col = 3)\n",
        "raid_facet.map(sns.scatterplot, )\n",
        "#sns.scatterplot(x = 'duel_cnt', y = 'duel_win', hue = 'label', data = rd)"
      ],
      "execution_count": 0,
      "outputs": [
        {
          "output_type": "error",
          "ename": "KeyError",
          "evalue": "ignored",
          "traceback": [
            "\u001b[0;31m\u001b[0m",
            "\u001b[0;31mKeyError\u001b[0mTraceback (most recent call last)",
            "\u001b[0;32m<ipython-input-27-892f9dbbed06>\u001b[0m in \u001b[0;36m<module>\u001b[0;34m()\u001b[0m\n\u001b[0;32m----> 1\u001b[0;31m \u001b[0mraid_facet\u001b[0m \u001b[0;34m=\u001b[0m \u001b[0msns\u001b[0m\u001b[0;34m.\u001b[0m\u001b[0mFacetGrid\u001b[0m\u001b[0;34m(\u001b[0m\u001b[0mdata\u001b[0m \u001b[0;34m=\u001b[0m \u001b[0mrd\u001b[0m\u001b[0;34m,\u001b[0m \u001b[0mcol\u001b[0m \u001b[0;34m=\u001b[0m \u001b[0;36m3\u001b[0m\u001b[0;34m)\u001b[0m\u001b[0;34m\u001b[0m\u001b[0m\n\u001b[0m\u001b[1;32m      2\u001b[0m \u001b[0mraid_facet\u001b[0m\u001b[0;34m.\u001b[0m\u001b[0mmap\u001b[0m\u001b[0;34m(\u001b[0m\u001b[0msns\u001b[0m\u001b[0;34m.\u001b[0m\u001b[0mscatterplot\u001b[0m\u001b[0;34m)\u001b[0m\u001b[0;34m\u001b[0m\u001b[0m\n\u001b[1;32m      3\u001b[0m \u001b[0;31m#sns.scatterplot(x = 'duel_cnt', y = 'duel_win', hue = 'label', data = rd)\u001b[0m\u001b[0;34m\u001b[0m\u001b[0;34m\u001b[0m\u001b[0m\n",
            "\u001b[0;32m/usr/local/lib/python2.7/dist-packages/seaborn/axisgrid.pyc\u001b[0m in \u001b[0;36m__init__\u001b[0;34m(self, data, row, col, hue, col_wrap, sharex, sharey, height, aspect, palette, row_order, col_order, hue_order, hue_kws, dropna, legend_out, despine, margin_titles, xlim, ylim, subplot_kws, gridspec_kws, size)\u001b[0m\n\u001b[1;32m    248\u001b[0m             \u001b[0mcol_names\u001b[0m \u001b[0;34m=\u001b[0m \u001b[0;34m[\u001b[0m\u001b[0;34m]\u001b[0m\u001b[0;34m\u001b[0m\u001b[0m\n\u001b[1;32m    249\u001b[0m         \u001b[0;32melse\u001b[0m\u001b[0;34m:\u001b[0m\u001b[0;34m\u001b[0m\u001b[0m\n\u001b[0;32m--> 250\u001b[0;31m             \u001b[0mcol_names\u001b[0m \u001b[0;34m=\u001b[0m \u001b[0mutils\u001b[0m\u001b[0;34m.\u001b[0m\u001b[0mcategorical_order\u001b[0m\u001b[0;34m(\u001b[0m\u001b[0mdata\u001b[0m\u001b[0;34m[\u001b[0m\u001b[0mcol\u001b[0m\u001b[0;34m]\u001b[0m\u001b[0;34m,\u001b[0m \u001b[0mcol_order\u001b[0m\u001b[0;34m)\u001b[0m\u001b[0;34m\u001b[0m\u001b[0m\n\u001b[0m\u001b[1;32m    251\u001b[0m \u001b[0;34m\u001b[0m\u001b[0m\n\u001b[1;32m    252\u001b[0m         \u001b[0;31m# Additional dict of kwarg -> list of values for mapping the hue var\u001b[0m\u001b[0;34m\u001b[0m\u001b[0;34m\u001b[0m\u001b[0m\n",
            "\u001b[0;32m/usr/local/lib/python2.7/dist-packages/pandas/core/frame.pyc\u001b[0m in \u001b[0;36m__getitem__\u001b[0;34m(self, key)\u001b[0m\n\u001b[1;32m   2137\u001b[0m             \u001b[0;32mreturn\u001b[0m \u001b[0mself\u001b[0m\u001b[0;34m.\u001b[0m\u001b[0m_getitem_multilevel\u001b[0m\u001b[0;34m(\u001b[0m\u001b[0mkey\u001b[0m\u001b[0;34m)\u001b[0m\u001b[0;34m\u001b[0m\u001b[0m\n\u001b[1;32m   2138\u001b[0m         \u001b[0;32melse\u001b[0m\u001b[0;34m:\u001b[0m\u001b[0;34m\u001b[0m\u001b[0m\n\u001b[0;32m-> 2139\u001b[0;31m             \u001b[0;32mreturn\u001b[0m \u001b[0mself\u001b[0m\u001b[0;34m.\u001b[0m\u001b[0m_getitem_column\u001b[0m\u001b[0;34m(\u001b[0m\u001b[0mkey\u001b[0m\u001b[0;34m)\u001b[0m\u001b[0;34m\u001b[0m\u001b[0m\n\u001b[0m\u001b[1;32m   2140\u001b[0m \u001b[0;34m\u001b[0m\u001b[0m\n\u001b[1;32m   2141\u001b[0m     \u001b[0;32mdef\u001b[0m \u001b[0m_getitem_column\u001b[0m\u001b[0;34m(\u001b[0m\u001b[0mself\u001b[0m\u001b[0;34m,\u001b[0m \u001b[0mkey\u001b[0m\u001b[0;34m)\u001b[0m\u001b[0;34m:\u001b[0m\u001b[0;34m\u001b[0m\u001b[0m\n",
            "\u001b[0;32m/usr/local/lib/python2.7/dist-packages/pandas/core/frame.pyc\u001b[0m in \u001b[0;36m_getitem_column\u001b[0;34m(self, key)\u001b[0m\n\u001b[1;32m   2144\u001b[0m         \u001b[0;31m# get column\u001b[0m\u001b[0;34m\u001b[0m\u001b[0;34m\u001b[0m\u001b[0m\n\u001b[1;32m   2145\u001b[0m         \u001b[0;32mif\u001b[0m \u001b[0mself\u001b[0m\u001b[0;34m.\u001b[0m\u001b[0mcolumns\u001b[0m\u001b[0;34m.\u001b[0m\u001b[0mis_unique\u001b[0m\u001b[0;34m:\u001b[0m\u001b[0;34m\u001b[0m\u001b[0m\n\u001b[0;32m-> 2146\u001b[0;31m             \u001b[0;32mreturn\u001b[0m \u001b[0mself\u001b[0m\u001b[0;34m.\u001b[0m\u001b[0m_get_item_cache\u001b[0m\u001b[0;34m(\u001b[0m\u001b[0mkey\u001b[0m\u001b[0;34m)\u001b[0m\u001b[0;34m\u001b[0m\u001b[0m\n\u001b[0m\u001b[1;32m   2147\u001b[0m \u001b[0;34m\u001b[0m\u001b[0m\n\u001b[1;32m   2148\u001b[0m         \u001b[0;31m# duplicate columns & possible reduce dimensionality\u001b[0m\u001b[0;34m\u001b[0m\u001b[0;34m\u001b[0m\u001b[0m\n",
            "\u001b[0;32m/usr/local/lib/python2.7/dist-packages/pandas/core/generic.pyc\u001b[0m in \u001b[0;36m_get_item_cache\u001b[0;34m(self, item)\u001b[0m\n\u001b[1;32m   1840\u001b[0m         \u001b[0mres\u001b[0m \u001b[0;34m=\u001b[0m \u001b[0mcache\u001b[0m\u001b[0;34m.\u001b[0m\u001b[0mget\u001b[0m\u001b[0;34m(\u001b[0m\u001b[0mitem\u001b[0m\u001b[0;34m)\u001b[0m\u001b[0;34m\u001b[0m\u001b[0m\n\u001b[1;32m   1841\u001b[0m         \u001b[0;32mif\u001b[0m \u001b[0mres\u001b[0m \u001b[0;32mis\u001b[0m \u001b[0mNone\u001b[0m\u001b[0;34m:\u001b[0m\u001b[0;34m\u001b[0m\u001b[0m\n\u001b[0;32m-> 1842\u001b[0;31m             \u001b[0mvalues\u001b[0m \u001b[0;34m=\u001b[0m \u001b[0mself\u001b[0m\u001b[0;34m.\u001b[0m\u001b[0m_data\u001b[0m\u001b[0;34m.\u001b[0m\u001b[0mget\u001b[0m\u001b[0;34m(\u001b[0m\u001b[0mitem\u001b[0m\u001b[0;34m)\u001b[0m\u001b[0;34m\u001b[0m\u001b[0m\n\u001b[0m\u001b[1;32m   1843\u001b[0m             \u001b[0mres\u001b[0m \u001b[0;34m=\u001b[0m \u001b[0mself\u001b[0m\u001b[0;34m.\u001b[0m\u001b[0m_box_item_values\u001b[0m\u001b[0;34m(\u001b[0m\u001b[0mitem\u001b[0m\u001b[0;34m,\u001b[0m \u001b[0mvalues\u001b[0m\u001b[0;34m)\u001b[0m\u001b[0;34m\u001b[0m\u001b[0m\n\u001b[1;32m   1844\u001b[0m             \u001b[0mcache\u001b[0m\u001b[0;34m[\u001b[0m\u001b[0mitem\u001b[0m\u001b[0;34m]\u001b[0m \u001b[0;34m=\u001b[0m \u001b[0mres\u001b[0m\u001b[0;34m\u001b[0m\u001b[0m\n",
            "\u001b[0;32m/usr/local/lib/python2.7/dist-packages/pandas/core/internals.pyc\u001b[0m in \u001b[0;36mget\u001b[0;34m(self, item, fastpath)\u001b[0m\n\u001b[1;32m   3841\u001b[0m \u001b[0;34m\u001b[0m\u001b[0m\n\u001b[1;32m   3842\u001b[0m             \u001b[0;32mif\u001b[0m \u001b[0;32mnot\u001b[0m \u001b[0misna\u001b[0m\u001b[0;34m(\u001b[0m\u001b[0mitem\u001b[0m\u001b[0;34m)\u001b[0m\u001b[0;34m:\u001b[0m\u001b[0;34m\u001b[0m\u001b[0m\n\u001b[0;32m-> 3843\u001b[0;31m                 \u001b[0mloc\u001b[0m \u001b[0;34m=\u001b[0m \u001b[0mself\u001b[0m\u001b[0;34m.\u001b[0m\u001b[0mitems\u001b[0m\u001b[0;34m.\u001b[0m\u001b[0mget_loc\u001b[0m\u001b[0;34m(\u001b[0m\u001b[0mitem\u001b[0m\u001b[0;34m)\u001b[0m\u001b[0;34m\u001b[0m\u001b[0m\n\u001b[0m\u001b[1;32m   3844\u001b[0m             \u001b[0;32melse\u001b[0m\u001b[0;34m:\u001b[0m\u001b[0;34m\u001b[0m\u001b[0m\n\u001b[1;32m   3845\u001b[0m                 \u001b[0mindexer\u001b[0m \u001b[0;34m=\u001b[0m \u001b[0mnp\u001b[0m\u001b[0;34m.\u001b[0m\u001b[0marange\u001b[0m\u001b[0;34m(\u001b[0m\u001b[0mlen\u001b[0m\u001b[0;34m(\u001b[0m\u001b[0mself\u001b[0m\u001b[0;34m.\u001b[0m\u001b[0mitems\u001b[0m\u001b[0;34m)\u001b[0m\u001b[0;34m)\u001b[0m\u001b[0;34m[\u001b[0m\u001b[0misna\u001b[0m\u001b[0;34m(\u001b[0m\u001b[0mself\u001b[0m\u001b[0;34m.\u001b[0m\u001b[0mitems\u001b[0m\u001b[0;34m)\u001b[0m\u001b[0;34m]\u001b[0m\u001b[0;34m\u001b[0m\u001b[0m\n",
            "\u001b[0;32m/usr/local/lib/python2.7/dist-packages/pandas/core/indexes/base.pyc\u001b[0m in \u001b[0;36mget_loc\u001b[0;34m(self, key, method, tolerance)\u001b[0m\n\u001b[1;32m   2525\u001b[0m                 \u001b[0;32mreturn\u001b[0m \u001b[0mself\u001b[0m\u001b[0;34m.\u001b[0m\u001b[0m_engine\u001b[0m\u001b[0;34m.\u001b[0m\u001b[0mget_loc\u001b[0m\u001b[0;34m(\u001b[0m\u001b[0mkey\u001b[0m\u001b[0;34m)\u001b[0m\u001b[0;34m\u001b[0m\u001b[0m\n\u001b[1;32m   2526\u001b[0m             \u001b[0;32mexcept\u001b[0m \u001b[0mKeyError\u001b[0m\u001b[0;34m:\u001b[0m\u001b[0;34m\u001b[0m\u001b[0m\n\u001b[0;32m-> 2527\u001b[0;31m                 \u001b[0;32mreturn\u001b[0m \u001b[0mself\u001b[0m\u001b[0;34m.\u001b[0m\u001b[0m_engine\u001b[0m\u001b[0;34m.\u001b[0m\u001b[0mget_loc\u001b[0m\u001b[0;34m(\u001b[0m\u001b[0mself\u001b[0m\u001b[0;34m.\u001b[0m\u001b[0m_maybe_cast_indexer\u001b[0m\u001b[0;34m(\u001b[0m\u001b[0mkey\u001b[0m\u001b[0;34m)\u001b[0m\u001b[0;34m)\u001b[0m\u001b[0;34m\u001b[0m\u001b[0m\n\u001b[0m\u001b[1;32m   2528\u001b[0m \u001b[0;34m\u001b[0m\u001b[0m\n\u001b[1;32m   2529\u001b[0m         \u001b[0mindexer\u001b[0m \u001b[0;34m=\u001b[0m \u001b[0mself\u001b[0m\u001b[0;34m.\u001b[0m\u001b[0mget_indexer\u001b[0m\u001b[0;34m(\u001b[0m\u001b[0;34m[\u001b[0m\u001b[0mkey\u001b[0m\u001b[0;34m]\u001b[0m\u001b[0;34m,\u001b[0m \u001b[0mmethod\u001b[0m\u001b[0;34m=\u001b[0m\u001b[0mmethod\u001b[0m\u001b[0;34m,\u001b[0m \u001b[0mtolerance\u001b[0m\u001b[0;34m=\u001b[0m\u001b[0mtolerance\u001b[0m\u001b[0;34m)\u001b[0m\u001b[0;34m\u001b[0m\u001b[0m\n",
            "\u001b[0;32mpandas/_libs/index.pyx\u001b[0m in \u001b[0;36mpandas._libs.index.IndexEngine.get_loc\u001b[0;34m()\u001b[0m\n",
            "\u001b[0;32mpandas/_libs/index.pyx\u001b[0m in \u001b[0;36mpandas._libs.index.IndexEngine.get_loc\u001b[0;34m()\u001b[0m\n",
            "\u001b[0;32mpandas/_libs/hashtable_class_helper.pxi\u001b[0m in \u001b[0;36mpandas._libs.hashtable.PyObjectHashTable.get_item\u001b[0;34m()\u001b[0m\n",
            "\u001b[0;32mpandas/_libs/hashtable_class_helper.pxi\u001b[0m in \u001b[0;36mpandas._libs.hashtable.PyObjectHashTable.get_item\u001b[0;34m()\u001b[0m\n",
            "\u001b[0;31mKeyError\u001b[0m: 3"
          ]
        }
      ]
    },
    {
      "metadata": {
        "id": "i_q8JUiJrahQ",
        "colab_type": "code",
        "colab": {}
      },
      "cell_type": "code",
      "source": [
        ""
      ],
      "execution_count": 0,
      "outputs": []
    },
    {
      "metadata": {
        "id": "6pX0vASwt8J-",
        "colab_type": "code",
        "colab": {
          "base_uri": "https://localhost:8080/",
          "height": 35
        },
        "outputId": "e723e5a2-4423-40f0-89d7-c4f5bc02207e"
      },
      "cell_type": "code",
      "source": [
        "max(rd.groupby(['acc_id']).sum()['duel_cnt'])"
      ],
      "execution_count": 18,
      "outputs": [
        {
          "output_type": "execute_result",
          "data": {
            "text/plain": [
              "1358.6235936792089"
            ]
          },
          "metadata": {
            "tags": []
          },
          "execution_count": 18
        }
      ]
    },
    {
      "metadata": {
        "id": "yc-bznbTgxTi",
        "colab_type": "code",
        "colab": {}
      },
      "cell_type": "code",
      "source": [
        ""
      ],
      "execution_count": 0,
      "outputs": []
    },
    {
      "metadata": {
        "id": "wWO1ak6_rYmi",
        "colab_type": "code",
        "colab": {}
      },
      "cell_type": "code",
      "source": [
        ""
      ],
      "execution_count": 0,
      "outputs": []
    },
    {
      "metadata": {
        "id": "uwyOt8E0rYr-",
        "colab_type": "code",
        "colab": {}
      },
      "cell_type": "code",
      "source": [
        ""
      ],
      "execution_count": 0,
      "outputs": []
    },
    {
      "metadata": {
        "id": "nimbtj4prYux",
        "colab_type": "code",
        "colab": {}
      },
      "cell_type": "code",
      "source": [
        ""
      ],
      "execution_count": 0,
      "outputs": []
    }
  ]
}