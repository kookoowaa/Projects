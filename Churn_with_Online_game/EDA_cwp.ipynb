{
  "nbformat": 4,
  "nbformat_minor": 0,
  "metadata": {
    "colab": {
      "name": "EDA_cwp.ipynb",
      "version": "0.3.2",
      "provenance": [],
      "collapsed_sections": [],
      "include_colab_link": true
    }
  },
  "cells": [
    {
      "cell_type": "markdown",
      "metadata": {
        "id": "view-in-github",
        "colab_type": "text"
      },
      "source": [
        "[View in Colaboratory](https://colab.research.google.com/github/kookoowaa/Projects/blob/master/Churn_with_Online_game/EDA_cwp.ipynb)"
      ]
    },
    {
      "metadata": {
        "id": "yKUX5m4s8Hbx",
        "colab_type": "text"
      },
      "cell_type": "markdown",
      "source": [
        ""
      ]
    },
    {
      "metadata": {
        "id": "PJ_3GH1JhTuh",
        "colab_type": "code",
        "colab": {
          "base_uri": "https://localhost:8080/",
          "height": 35
        },
        "outputId": "d2ac25c6-4b87-4de8-d2b0-c07e7737c634"
      },
      "cell_type": "code",
      "source": [
        "#### configuring inline figure size\n",
        "\n",
        "%pylab  inline\n",
        "pylab.rcParams ['figure.figsize'] = (24, 10)"
      ],
      "execution_count": 2,
      "outputs": [
        {
          "output_type": "stream",
          "text": [
            "Populating the interactive namespace from numpy and matplotlib\n"
          ],
          "name": "stdout"
        }
      ]
    },
    {
      "metadata": {
        "id": "1NjwV1culqvc",
        "colab_type": "code",
        "colab": {}
      },
      "cell_type": "code",
      "source": [
        "#### import dataset from the google drive\n",
        "\n",
        "!pip install -U -q PyDrive\n",
        " \n",
        "from pydrive.auth import GoogleAuth\n",
        "from pydrive.drive import GoogleDrive\n",
        "from google.colab import auth\n",
        "from oauth2client.client import GoogleCredentials \n",
        " \n",
        "auth.authenticate_user()\n",
        "gauth = GoogleAuth()\n",
        "gauth.credentials = GoogleCredentials.get_application_default()\n",
        "drive = GoogleDrive(gauth)"
      ],
      "execution_count": 0,
      "outputs": []
    },
    {
      "metadata": {
        "id": "MYhQkAzdczEQ",
        "colab_type": "code",
        "colab": {}
      },
      "cell_type": "code",
      "source": [
        "import pandas as pd\n",
        "import seaborn as sns"
      ],
      "execution_count": 0,
      "outputs": []
    },
    {
      "metadata": {
        "id": "2LaE7Ix_YScL",
        "colab_type": "code",
        "colab": {
          "base_uri": "https://localhost:8080/",
          "height": 204
        },
        "outputId": "fd7bca66-6e79-4b3c-d7a9-4a4f0377a8c0"
      },
      "cell_type": "code",
      "source": [
        "file_id = '1UKQ6pt47ogMjOi3bsyIuFWf5Bw8Epont'\n",
        "downloaded = drive.CreateFile({'id': file_id})\n",
        "downloaded.GetContentFile('label')\n",
        "label = pd.read_csv('label')\n",
        "label.head()"
      ],
      "execution_count": 6,
      "outputs": [
        {
          "output_type": "execute_result",
          "data": {
            "text/html": [
              "<div>\n",
              "<style scoped>\n",
              "    .dataframe tbody tr th:only-of-type {\n",
              "        vertical-align: middle;\n",
              "    }\n",
              "\n",
              "    .dataframe tbody tr th {\n",
              "        vertical-align: top;\n",
              "    }\n",
              "\n",
              "    .dataframe thead th {\n",
              "        text-align: right;\n",
              "    }\n",
              "</style>\n",
              "<table border=\"1\" class=\"dataframe\">\n",
              "  <thead>\n",
              "    <tr style=\"text-align: right;\">\n",
              "      <th></th>\n",
              "      <th>acc_id</th>\n",
              "      <th>label</th>\n",
              "    </tr>\n",
              "  </thead>\n",
              "  <tbody>\n",
              "    <tr>\n",
              "      <th>0</th>\n",
              "      <td>b8fbf3f6a70e3f36843bffc70c18ff51a0d755a87616ec...</td>\n",
              "      <td>week</td>\n",
              "    </tr>\n",
              "    <tr>\n",
              "      <th>1</th>\n",
              "      <td>ed500c4957956b3e99dc3985666850b582f812405eefb6...</td>\n",
              "      <td>week</td>\n",
              "    </tr>\n",
              "    <tr>\n",
              "      <th>2</th>\n",
              "      <td>acc6afa23a6bf15e18151e4794c7789225ef9d682f473c...</td>\n",
              "      <td>week</td>\n",
              "    </tr>\n",
              "    <tr>\n",
              "      <th>3</th>\n",
              "      <td>34095a3c9a2937ced3ea3fd75e22ce177dc5879d2a53f7...</td>\n",
              "      <td>week</td>\n",
              "    </tr>\n",
              "    <tr>\n",
              "      <th>4</th>\n",
              "      <td>26f3db6e8817a93c4ceda9a16f0832945e43d950b95882...</td>\n",
              "      <td>week</td>\n",
              "    </tr>\n",
              "  </tbody>\n",
              "</table>\n",
              "</div>"
            ],
            "text/plain": [
              "                                              acc_id label\n",
              "0  b8fbf3f6a70e3f36843bffc70c18ff51a0d755a87616ec...  week\n",
              "1  ed500c4957956b3e99dc3985666850b582f812405eefb6...  week\n",
              "2  acc6afa23a6bf15e18151e4794c7789225ef9d682f473c...  week\n",
              "3  34095a3c9a2937ced3ea3fd75e22ce177dc5879d2a53f7...  week\n",
              "4  26f3db6e8817a93c4ceda9a16f0832945e43d950b95882...  week"
            ]
          },
          "metadata": {
            "tags": []
          },
          "execution_count": 6
        }
      ]
    },
    {
      "metadata": {
        "id": "TifsC4Kib0fm",
        "colab_type": "code",
        "colab": {
          "base_uri": "https://localhost:8080/",
          "height": 253
        },
        "outputId": "79ac9533-1ca9-427c-a210-f8d638697cfd"
      },
      "cell_type": "code",
      "source": [
        "file_id = '1bsa0jiYWjdLkVV5-ax4h5Hhu9Ev6znhU'\n",
        "downloaded = drive.CreateFile({'id': file_id})\n",
        "downloaded.GetContentFile('activity')\n",
        "activity = pd.read_csv('activity')\n",
        "activity.head()"
      ],
      "execution_count": 7,
      "outputs": [
        {
          "output_type": "execute_result",
          "data": {
            "text/html": [
              "<div>\n",
              "<style scoped>\n",
              "    .dataframe tbody tr th:only-of-type {\n",
              "        vertical-align: middle;\n",
              "    }\n",
              "\n",
              "    .dataframe tbody tr th {\n",
              "        vertical-align: top;\n",
              "    }\n",
              "\n",
              "    .dataframe thead th {\n",
              "        text-align: right;\n",
              "    }\n",
              "</style>\n",
              "<table border=\"1\" class=\"dataframe\">\n",
              "  <thead>\n",
              "    <tr style=\"text-align: right;\">\n",
              "      <th></th>\n",
              "      <th>wk</th>\n",
              "      <th>acc_id</th>\n",
              "      <th>cnt_dt</th>\n",
              "      <th>play_time</th>\n",
              "      <th>npc_exp</th>\n",
              "      <th>npc_hongmun</th>\n",
              "      <th>quest_exp</th>\n",
              "      <th>quest_hongmun</th>\n",
              "      <th>item_hongmun</th>\n",
              "      <th>game_combat_time</th>\n",
              "      <th>...</th>\n",
              "      <th>cnt_clear_bam</th>\n",
              "      <th>normal_chat</th>\n",
              "      <th>whisper_chat</th>\n",
              "      <th>district_chat</th>\n",
              "      <th>party_chat</th>\n",
              "      <th>guild_chat</th>\n",
              "      <th>faction_chat</th>\n",
              "      <th>cnt_use_buffitem</th>\n",
              "      <th>gathering_cnt</th>\n",
              "      <th>making_cnt</th>\n",
              "    </tr>\n",
              "  </thead>\n",
              "  <tbody>\n",
              "    <tr>\n",
              "      <th>0</th>\n",
              "      <td>7</td>\n",
              "      <td>3dc6f2875dc6e6f35b9e2bdb25b391a8003386ff23becd...</td>\n",
              "      <td>4</td>\n",
              "      <td>2.088814</td>\n",
              "      <td>4.405057</td>\n",
              "      <td>-0.245477</td>\n",
              "      <td>4.454059</td>\n",
              "      <td>3.009797</td>\n",
              "      <td>-0.306354</td>\n",
              "      <td>1.184011</td>\n",
              "      <td>...</td>\n",
              "      <td>-0.03313</td>\n",
              "      <td>-0.034038</td>\n",
              "      <td>-0.231827</td>\n",
              "      <td>-0.016574</td>\n",
              "      <td>-0.275174</td>\n",
              "      <td>-0.343293</td>\n",
              "      <td>-0.024028</td>\n",
              "      <td>3.466939</td>\n",
              "      <td>-0.027758</td>\n",
              "      <td>-0.365536</td>\n",
              "    </tr>\n",
              "    <tr>\n",
              "      <th>1</th>\n",
              "      <td>8</td>\n",
              "      <td>3dc6f2875dc6e6f35b9e2bdb25b391a8003386ff23becd...</td>\n",
              "      <td>5</td>\n",
              "      <td>2.673460</td>\n",
              "      <td>4.760178</td>\n",
              "      <td>-0.222527</td>\n",
              "      <td>6.107479</td>\n",
              "      <td>4.758528</td>\n",
              "      <td>-0.306354</td>\n",
              "      <td>1.709534</td>\n",
              "      <td>...</td>\n",
              "      <td>-0.03313</td>\n",
              "      <td>-0.034038</td>\n",
              "      <td>-0.231827</td>\n",
              "      <td>-0.016574</td>\n",
              "      <td>-0.275174</td>\n",
              "      <td>-0.343293</td>\n",
              "      <td>-0.024028</td>\n",
              "      <td>5.070359</td>\n",
              "      <td>-0.027758</td>\n",
              "      <td>-0.365536</td>\n",
              "    </tr>\n",
              "    <tr>\n",
              "      <th>2</th>\n",
              "      <td>3</td>\n",
              "      <td>b8856358ff62e596fa07e3e40b8e7fd4b7729263c72b44...</td>\n",
              "      <td>2</td>\n",
              "      <td>-0.649522</td>\n",
              "      <td>-0.231021</td>\n",
              "      <td>-0.290803</td>\n",
              "      <td>-0.245978</td>\n",
              "      <td>-0.487666</td>\n",
              "      <td>-0.306354</td>\n",
              "      <td>-0.566706</td>\n",
              "      <td>...</td>\n",
              "      <td>-0.03313</td>\n",
              "      <td>-0.034038</td>\n",
              "      <td>-0.231827</td>\n",
              "      <td>-0.016574</td>\n",
              "      <td>-0.275174</td>\n",
              "      <td>-0.343293</td>\n",
              "      <td>-0.024028</td>\n",
              "      <td>-0.498275</td>\n",
              "      <td>-0.027758</td>\n",
              "      <td>-0.365536</td>\n",
              "    </tr>\n",
              "    <tr>\n",
              "      <th>3</th>\n",
              "      <td>4</td>\n",
              "      <td>b8856358ff62e596fa07e3e40b8e7fd4b7729263c72b44...</td>\n",
              "      <td>2</td>\n",
              "      <td>-0.658235</td>\n",
              "      <td>-0.231874</td>\n",
              "      <td>-0.290803</td>\n",
              "      <td>-0.250423</td>\n",
              "      <td>-0.487666</td>\n",
              "      <td>-0.306354</td>\n",
              "      <td>-0.569842</td>\n",
              "      <td>...</td>\n",
              "      <td>-0.03313</td>\n",
              "      <td>-0.034038</td>\n",
              "      <td>-0.231827</td>\n",
              "      <td>-0.016574</td>\n",
              "      <td>-0.275174</td>\n",
              "      <td>-0.343293</td>\n",
              "      <td>-0.024028</td>\n",
              "      <td>-0.503692</td>\n",
              "      <td>-0.027758</td>\n",
              "      <td>-0.365536</td>\n",
              "    </tr>\n",
              "    <tr>\n",
              "      <th>4</th>\n",
              "      <td>5</td>\n",
              "      <td>b8856358ff62e596fa07e3e40b8e7fd4b7729263c72b44...</td>\n",
              "      <td>4</td>\n",
              "      <td>-0.654734</td>\n",
              "      <td>-0.231874</td>\n",
              "      <td>-0.290803</td>\n",
              "      <td>-0.250423</td>\n",
              "      <td>-0.487666</td>\n",
              "      <td>-0.306354</td>\n",
              "      <td>-0.569842</td>\n",
              "      <td>...</td>\n",
              "      <td>-0.03313</td>\n",
              "      <td>-0.034038</td>\n",
              "      <td>-0.231827</td>\n",
              "      <td>-0.016574</td>\n",
              "      <td>-0.275174</td>\n",
              "      <td>-0.343293</td>\n",
              "      <td>-0.024028</td>\n",
              "      <td>-0.503692</td>\n",
              "      <td>-0.027758</td>\n",
              "      <td>-0.365536</td>\n",
              "    </tr>\n",
              "  </tbody>\n",
              "</table>\n",
              "<p>5 rows × 38 columns</p>\n",
              "</div>"
            ],
            "text/plain": [
              "   wk                                             acc_id  cnt_dt  play_time  \\\n",
              "0   7  3dc6f2875dc6e6f35b9e2bdb25b391a8003386ff23becd...       4   2.088814   \n",
              "1   8  3dc6f2875dc6e6f35b9e2bdb25b391a8003386ff23becd...       5   2.673460   \n",
              "2   3  b8856358ff62e596fa07e3e40b8e7fd4b7729263c72b44...       2  -0.649522   \n",
              "3   4  b8856358ff62e596fa07e3e40b8e7fd4b7729263c72b44...       2  -0.658235   \n",
              "4   5  b8856358ff62e596fa07e3e40b8e7fd4b7729263c72b44...       4  -0.654734   \n",
              "\n",
              "    npc_exp  npc_hongmun  quest_exp  quest_hongmun  item_hongmun  \\\n",
              "0  4.405057    -0.245477   4.454059       3.009797     -0.306354   \n",
              "1  4.760178    -0.222527   6.107479       4.758528     -0.306354   \n",
              "2 -0.231021    -0.290803  -0.245978      -0.487666     -0.306354   \n",
              "3 -0.231874    -0.290803  -0.250423      -0.487666     -0.306354   \n",
              "4 -0.231874    -0.290803  -0.250423      -0.487666     -0.306354   \n",
              "\n",
              "   game_combat_time     ...      cnt_clear_bam  normal_chat  whisper_chat  \\\n",
              "0          1.184011     ...           -0.03313    -0.034038     -0.231827   \n",
              "1          1.709534     ...           -0.03313    -0.034038     -0.231827   \n",
              "2         -0.566706     ...           -0.03313    -0.034038     -0.231827   \n",
              "3         -0.569842     ...           -0.03313    -0.034038     -0.231827   \n",
              "4         -0.569842     ...           -0.03313    -0.034038     -0.231827   \n",
              "\n",
              "   district_chat  party_chat  guild_chat  faction_chat  cnt_use_buffitem  \\\n",
              "0      -0.016574   -0.275174   -0.343293     -0.024028          3.466939   \n",
              "1      -0.016574   -0.275174   -0.343293     -0.024028          5.070359   \n",
              "2      -0.016574   -0.275174   -0.343293     -0.024028         -0.498275   \n",
              "3      -0.016574   -0.275174   -0.343293     -0.024028         -0.503692   \n",
              "4      -0.016574   -0.275174   -0.343293     -0.024028         -0.503692   \n",
              "\n",
              "   gathering_cnt  making_cnt  \n",
              "0      -0.027758   -0.365536  \n",
              "1      -0.027758   -0.365536  \n",
              "2      -0.027758   -0.365536  \n",
              "3      -0.027758   -0.365536  \n",
              "4      -0.027758   -0.365536  \n",
              "\n",
              "[5 rows x 38 columns]"
            ]
          },
          "metadata": {
            "tags": []
          },
          "execution_count": 7
        }
      ]
    },
    {
      "metadata": {
        "id": "Es1wajp3YdXD",
        "colab_type": "code",
        "colab": {
          "base_uri": "https://localhost:8080/",
          "height": 253
        },
        "outputId": "9152f142-ddb1-48d4-ed26-415417109715"
      },
      "cell_type": "code",
      "source": [
        "rd = pd.merge(label, activity)\n",
        "rd.head()"
      ],
      "execution_count": 8,
      "outputs": [
        {
          "output_type": "execute_result",
          "data": {
            "text/html": [
              "<div>\n",
              "<style scoped>\n",
              "    .dataframe tbody tr th:only-of-type {\n",
              "        vertical-align: middle;\n",
              "    }\n",
              "\n",
              "    .dataframe tbody tr th {\n",
              "        vertical-align: top;\n",
              "    }\n",
              "\n",
              "    .dataframe thead th {\n",
              "        text-align: right;\n",
              "    }\n",
              "</style>\n",
              "<table border=\"1\" class=\"dataframe\">\n",
              "  <thead>\n",
              "    <tr style=\"text-align: right;\">\n",
              "      <th></th>\n",
              "      <th>acc_id</th>\n",
              "      <th>label</th>\n",
              "      <th>wk</th>\n",
              "      <th>cnt_dt</th>\n",
              "      <th>play_time</th>\n",
              "      <th>npc_exp</th>\n",
              "      <th>npc_hongmun</th>\n",
              "      <th>quest_exp</th>\n",
              "      <th>quest_hongmun</th>\n",
              "      <th>item_hongmun</th>\n",
              "      <th>...</th>\n",
              "      <th>cnt_clear_bam</th>\n",
              "      <th>normal_chat</th>\n",
              "      <th>whisper_chat</th>\n",
              "      <th>district_chat</th>\n",
              "      <th>party_chat</th>\n",
              "      <th>guild_chat</th>\n",
              "      <th>faction_chat</th>\n",
              "      <th>cnt_use_buffitem</th>\n",
              "      <th>gathering_cnt</th>\n",
              "      <th>making_cnt</th>\n",
              "    </tr>\n",
              "  </thead>\n",
              "  <tbody>\n",
              "    <tr>\n",
              "      <th>0</th>\n",
              "      <td>b8fbf3f6a70e3f36843bffc70c18ff51a0d755a87616ec...</td>\n",
              "      <td>week</td>\n",
              "      <td>8</td>\n",
              "      <td>3</td>\n",
              "      <td>1.519815</td>\n",
              "      <td>2.910685</td>\n",
              "      <td>-0.268110</td>\n",
              "      <td>2.852241</td>\n",
              "      <td>2.332910</td>\n",
              "      <td>-0.306354</td>\n",
              "      <td>...</td>\n",
              "      <td>-0.03313</td>\n",
              "      <td>-0.034038</td>\n",
              "      <td>-0.231827</td>\n",
              "      <td>-0.016574</td>\n",
              "      <td>-0.275174</td>\n",
              "      <td>-0.343293</td>\n",
              "      <td>-0.024028</td>\n",
              "      <td>2.161452</td>\n",
              "      <td>-0.027758</td>\n",
              "      <td>-0.365536</td>\n",
              "    </tr>\n",
              "    <tr>\n",
              "      <th>1</th>\n",
              "      <td>ed500c4957956b3e99dc3985666850b582f812405eefb6...</td>\n",
              "      <td>week</td>\n",
              "      <td>5</td>\n",
              "      <td>7</td>\n",
              "      <td>4.698532</td>\n",
              "      <td>9.147854</td>\n",
              "      <td>-0.138458</td>\n",
              "      <td>8.584935</td>\n",
              "      <td>5.995250</td>\n",
              "      <td>-0.306354</td>\n",
              "      <td>...</td>\n",
              "      <td>-0.03313</td>\n",
              "      <td>0.319626</td>\n",
              "      <td>-0.231827</td>\n",
              "      <td>-0.016574</td>\n",
              "      <td>-0.275174</td>\n",
              "      <td>-0.343293</td>\n",
              "      <td>-0.024028</td>\n",
              "      <td>3.066084</td>\n",
              "      <td>-0.027758</td>\n",
              "      <td>-0.365536</td>\n",
              "    </tr>\n",
              "    <tr>\n",
              "      <th>2</th>\n",
              "      <td>ed500c4957956b3e99dc3985666850b582f812405eefb6...</td>\n",
              "      <td>week</td>\n",
              "      <td>6</td>\n",
              "      <td>3</td>\n",
              "      <td>0.632257</td>\n",
              "      <td>0.213292</td>\n",
              "      <td>-0.290501</td>\n",
              "      <td>-0.022940</td>\n",
              "      <td>0.169815</td>\n",
              "      <td>-0.306354</td>\n",
              "      <td>...</td>\n",
              "      <td>-0.03313</td>\n",
              "      <td>-0.034038</td>\n",
              "      <td>-0.231827</td>\n",
              "      <td>-0.016574</td>\n",
              "      <td>-0.275174</td>\n",
              "      <td>-0.343293</td>\n",
              "      <td>-0.024028</td>\n",
              "      <td>-0.167841</td>\n",
              "      <td>-0.027758</td>\n",
              "      <td>-0.365536</td>\n",
              "    </tr>\n",
              "    <tr>\n",
              "      <th>3</th>\n",
              "      <td>ed500c4957956b3e99dc3985666850b582f812405eefb6...</td>\n",
              "      <td>week</td>\n",
              "      <td>7</td>\n",
              "      <td>6</td>\n",
              "      <td>1.218180</td>\n",
              "      <td>1.787315</td>\n",
              "      <td>-0.159228</td>\n",
              "      <td>1.727487</td>\n",
              "      <td>1.403784</td>\n",
              "      <td>-0.198324</td>\n",
              "      <td>...</td>\n",
              "      <td>-0.03313</td>\n",
              "      <td>0.054378</td>\n",
              "      <td>-0.096277</td>\n",
              "      <td>-0.016574</td>\n",
              "      <td>-0.275174</td>\n",
              "      <td>-0.343293</td>\n",
              "      <td>-0.024028</td>\n",
              "      <td>0.937219</td>\n",
              "      <td>-0.027758</td>\n",
              "      <td>-0.365536</td>\n",
              "    </tr>\n",
              "    <tr>\n",
              "      <th>4</th>\n",
              "      <td>ed500c4957956b3e99dc3985666850b582f812405eefb6...</td>\n",
              "      <td>week</td>\n",
              "      <td>8</td>\n",
              "      <td>7</td>\n",
              "      <td>0.521166</td>\n",
              "      <td>-0.231874</td>\n",
              "      <td>-0.030257</td>\n",
              "      <td>-0.250423</td>\n",
              "      <td>-0.208689</td>\n",
              "      <td>-0.015505</td>\n",
              "      <td>...</td>\n",
              "      <td>-0.03313</td>\n",
              "      <td>-0.034038</td>\n",
              "      <td>0.187146</td>\n",
              "      <td>-0.016574</td>\n",
              "      <td>-0.275174</td>\n",
              "      <td>-0.343293</td>\n",
              "      <td>-0.024028</td>\n",
              "      <td>1.224318</td>\n",
              "      <td>-0.027758</td>\n",
              "      <td>-0.365536</td>\n",
              "    </tr>\n",
              "  </tbody>\n",
              "</table>\n",
              "<p>5 rows × 39 columns</p>\n",
              "</div>"
            ],
            "text/plain": [
              "                                              acc_id label  wk  cnt_dt  \\\n",
              "0  b8fbf3f6a70e3f36843bffc70c18ff51a0d755a87616ec...  week   8       3   \n",
              "1  ed500c4957956b3e99dc3985666850b582f812405eefb6...  week   5       7   \n",
              "2  ed500c4957956b3e99dc3985666850b582f812405eefb6...  week   6       3   \n",
              "3  ed500c4957956b3e99dc3985666850b582f812405eefb6...  week   7       6   \n",
              "4  ed500c4957956b3e99dc3985666850b582f812405eefb6...  week   8       7   \n",
              "\n",
              "   play_time   npc_exp  npc_hongmun  quest_exp  quest_hongmun  item_hongmun  \\\n",
              "0   1.519815  2.910685    -0.268110   2.852241       2.332910     -0.306354   \n",
              "1   4.698532  9.147854    -0.138458   8.584935       5.995250     -0.306354   \n",
              "2   0.632257  0.213292    -0.290501  -0.022940       0.169815     -0.306354   \n",
              "3   1.218180  1.787315    -0.159228   1.727487       1.403784     -0.198324   \n",
              "4   0.521166 -0.231874    -0.030257  -0.250423      -0.208689     -0.015505   \n",
              "\n",
              "      ...      cnt_clear_bam  normal_chat  whisper_chat  district_chat  \\\n",
              "0     ...           -0.03313    -0.034038     -0.231827      -0.016574   \n",
              "1     ...           -0.03313     0.319626     -0.231827      -0.016574   \n",
              "2     ...           -0.03313    -0.034038     -0.231827      -0.016574   \n",
              "3     ...           -0.03313     0.054378     -0.096277      -0.016574   \n",
              "4     ...           -0.03313    -0.034038      0.187146      -0.016574   \n",
              "\n",
              "   party_chat  guild_chat  faction_chat  cnt_use_buffitem  gathering_cnt  \\\n",
              "0   -0.275174   -0.343293     -0.024028          2.161452      -0.027758   \n",
              "1   -0.275174   -0.343293     -0.024028          3.066084      -0.027758   \n",
              "2   -0.275174   -0.343293     -0.024028         -0.167841      -0.027758   \n",
              "3   -0.275174   -0.343293     -0.024028          0.937219      -0.027758   \n",
              "4   -0.275174   -0.343293     -0.024028          1.224318      -0.027758   \n",
              "\n",
              "   making_cnt  \n",
              "0   -0.365536  \n",
              "1   -0.365536  \n",
              "2   -0.365536  \n",
              "3   -0.365536  \n",
              "4   -0.365536  \n",
              "\n",
              "[5 rows x 39 columns]"
            ]
          },
          "metadata": {
            "tags": []
          },
          "execution_count": 8
        }
      ]
    },
    {
      "metadata": {
        "id": "PFNTrPFaYsZy",
        "colab_type": "code",
        "colab": {
          "base_uri": "https://localhost:8080/",
          "height": 35
        },
        "outputId": "e33db05a-16e4-4e0f-b5cf-8d381d4973fa"
      },
      "cell_type": "code",
      "source": [
        "rd.shape"
      ],
      "execution_count": 9,
      "outputs": [
        {
          "output_type": "execute_result",
          "data": {
            "text/plain": [
              "(440323, 39)"
            ]
          },
          "metadata": {
            "tags": []
          },
          "execution_count": 9
        }
      ]
    },
    {
      "metadata": {
        "id": "2YRA404GaWmC",
        "colab_type": "code",
        "colab": {
          "base_uri": "https://localhost:8080/",
          "height": 809
        },
        "outputId": "74f89fc6-8a61-4763-87f2-53fe878a838b"
      },
      "cell_type": "code",
      "source": [
        "rd['label'] = rd['label'].astype('category')\n",
        "rd.info()"
      ],
      "execution_count": 10,
      "outputs": [
        {
          "output_type": "stream",
          "text": [
            "<class 'pandas.core.frame.DataFrame'>\n",
            "Int64Index: 440323 entries, 0 to 440322\n",
            "Data columns (total 39 columns):\n",
            "acc_id                      440323 non-null object\n",
            "label                       440323 non-null category\n",
            "wk                          440323 non-null int64\n",
            "cnt_dt                      440323 non-null int64\n",
            "play_time                   440323 non-null float64\n",
            "npc_exp                     440323 non-null float64\n",
            "npc_hongmun                 440323 non-null float64\n",
            "quest_exp                   440323 non-null float64\n",
            "quest_hongmun               440323 non-null float64\n",
            "item_hongmun                440323 non-null float64\n",
            "game_combat_time            440323 non-null float64\n",
            "get_money                   440323 non-null float64\n",
            "duel_cnt                    440323 non-null float64\n",
            "duel_win                    440323 non-null float64\n",
            "partybattle_cnt             440323 non-null float64\n",
            "partybattle_win             440323 non-null float64\n",
            "cnt_enter_inzone_solo       440323 non-null float64\n",
            "cnt_enter_inzone_light      440323 non-null float64\n",
            "cnt_enter_inzone_skilled    440323 non-null float64\n",
            "cnt_enter_inzone_normal     440323 non-null float64\n",
            "cnt_enter_raid              440323 non-null float64\n",
            "cnt_enter_raid_light        440323 non-null float64\n",
            "cnt_enter_bam               440323 non-null float64\n",
            "cnt_clear_inzone_solo       440323 non-null float64\n",
            "cnt_clear_inzone_light      440323 non-null float64\n",
            "cnt_clear_inzone_skilled    440323 non-null float64\n",
            "cnt_clear_inzone_normal     440323 non-null float64\n",
            "cnt_clear_raid              440323 non-null float64\n",
            "cnt_clear_raid_light        440323 non-null float64\n",
            "cnt_clear_bam               440323 non-null float64\n",
            "normal_chat                 440323 non-null float64\n",
            "whisper_chat                440323 non-null float64\n",
            "district_chat               440323 non-null float64\n",
            "party_chat                  440323 non-null float64\n",
            "guild_chat                  440323 non-null float64\n",
            "faction_chat                440323 non-null float64\n",
            "cnt_use_buffitem            440323 non-null float64\n",
            "gathering_cnt               440323 non-null float64\n",
            "making_cnt                  440323 non-null float64\n",
            "dtypes: category(1), float64(35), int64(2), object(1)\n",
            "memory usage: 131.4+ MB\n"
          ],
          "name": "stdout"
        }
      ]
    },
    {
      "metadata": {
        "id": "A1zgHjEHnlVc",
        "colab_type": "code",
        "colab": {
          "base_uri": "https://localhost:8080/",
          "height": 712
        },
        "outputId": "9fa3a82a-0c07-441c-9daa-ed321bc95447"
      },
      "cell_type": "code",
      "source": [
        "rd_corr = rd.corr()\n",
        "sns.heatmap(rd_corr)"
      ],
      "execution_count": 11,
      "outputs": [
        {
          "output_type": "execute_result",
          "data": {
            "text/plain": [
              "<matplotlib.axes._subplots.AxesSubplot at 0x7fc4ee9f6c10>"
            ]
          },
          "metadata": {
            "tags": []
          },
          "execution_count": 11
        },
        {
          "output_type": "display_data",
          "data": {
            "image/png": "[encoded data removed]",
            "text/plain": [
              "<matplotlib.figure.Figure at 0x7fc4ec32ad10>"
            ]
          },
          "metadata": {
            "tags": []
          }
        }
      ]
    },
    {
      "metadata": {
        "id": "P3rRTidIfeY2",
        "colab_type": "code",
        "colab": {
          "base_uri": "https://localhost:8080/",
          "height": 614
        },
        "outputId": "61d4419f-6ceb-4f47-b4e7-477302645c7c"
      },
      "cell_type": "code",
      "source": [
        "rd.groupby(['acc_id']).sum()[['duel_cnt', 'duel_win']].plot()s"
      ],
      "execution_count": 14,
      "outputs": [
        {
          "output_type": "execute_result",
          "data": {
            "text/plain": [
              "<matplotlib.axes._subplots.AxesSubplot at 0x7fc4ebcc2f50>"
            ]
          },
          "metadata": {
            "tags": []
          },
          "execution_count": 14
        },
        {
          "output_type": "display_data",
          "data": {
            "image/png": "[encoded data removed]",
            "text/plain": [
              "<matplotlib.figure.Figure at 0x7fc50d7936d0>"
            ]
          },
          "metadata": {
            "tags": []
          }
        }
      ]
    },
    {
      "metadata": {
        "id": "6pX0vASwt8J-",
        "colab_type": "code",
        "colab": {}
      },
      "cell_type": "code",
      "source": [
        ""
      ],
      "execution_count": 0,
      "outputs": []
    }
  ]
}