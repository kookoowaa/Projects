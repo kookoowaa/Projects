{
  "nbformat": 4,
  "nbformat_minor": 0,
  "metadata": {
    "colab": {
      "name": "Test_cwp.ipynb",
      "version": "0.3.2",
      "provenance": [],
      "include_colab_link": true
    }
  },
  "cells": [
    {
      "cell_type": "markdown",
      "metadata": {
        "id": "view-in-github",
        "colab_type": "text"
      },
      "source": [
        "[View in Colaboratory](https://colab.research.google.com/github/kookoowaa/Projects/blob/master/Churn_with_Online_game/Test_cwp.ipynb)"
      ]
    },
    {
      "metadata": {
        "id": "yKUX5m4s8Hbx",
        "colab_type": "text"
      },
      "cell_type": "markdown",
      "source": [
        ""
      ]
    },
    {
      "metadata": {
        "id": "NQkLscDKYRca",
        "colab_type": "code",
        "colab": {}
      },
      "cell_type": "code",
      "source": [
        "!pip install -U -q PyDrive\n",
        " \n",
        "from pydrive.auth import GoogleAuth\n",
        "from pydrive.drive import GoogleDrive\n",
        "from google.colab import auth\n",
        "from oauth2client.client import GoogleCredentials \n",
        " \n",
        "# 1. Authenticate and create the PyDrive client.\n",
        "auth.authenticate_user()\n",
        "gauth = GoogleAuth()\n",
        "gauth.credentials = GoogleCredentials.get_application_default()\n",
        "drive = GoogleDrive(gauth)"
      ],
      "execution_count": 0,
      "outputs": []
    },
    {
      "metadata": {
        "id": "2LaE7Ix_YScL",
        "colab_type": "code",
        "colab": {}
      },
      "cell_type": "code",
      "source": [
        "file_id = '1UKQ6pt47ogMjOi3bsyIuFWf5Bw8Epont'\n",
        "downloaded = drive.CreateFile({'id': file_id})\n",
        "downloaded.GetContentFile('train_label.csv')"
      ],
      "execution_count": 0,
      "outputs": []
    },
    {
      "metadata": {
        "id": "xKYbmT0UYbMU",
        "colab_type": "code",
        "colab": {
          "base_uri": "https://localhost:8080/",
          "height": 204
        },
        "outputId": "3788280c-b228-4649-b489-e97a4118ca54"
      },
      "cell_type": "code",
      "source": [
        "import pandas as pd\n",
        "label_data = pd.read_csv('train_label.csv')\n",
        "label_data.head()"
      ],
      "execution_count": 3,
      "outputs": [
        {
          "output_type": "execute_result",
          "data": {
            "text/html": [
              "<div>\n",
              "<style scoped>\n",
              "    .dataframe tbody tr th:only-of-type {\n",
              "        vertical-align: middle;\n",
              "    }\n",
              "\n",
              "    .dataframe tbody tr th {\n",
              "        vertical-align: top;\n",
              "    }\n",
              "\n",
              "    .dataframe thead th {\n",
              "        text-align: right;\n",
              "    }\n",
              "</style>\n",
              "<table border=\"1\" class=\"dataframe\">\n",
              "  <thead>\n",
              "    <tr style=\"text-align: right;\">\n",
              "      <th></th>\n",
              "      <th>acc_id</th>\n",
              "      <th>label</th>\n",
              "    </tr>\n",
              "  </thead>\n",
              "  <tbody>\n",
              "    <tr>\n",
              "      <th>0</th>\n",
              "      <td>b8fbf3f6a70e3f36843bffc70c18ff51a0d755a87616ec...</td>\n",
              "      <td>week</td>\n",
              "    </tr>\n",
              "    <tr>\n",
              "      <th>1</th>\n",
              "      <td>ed500c4957956b3e99dc3985666850b582f812405eefb6...</td>\n",
              "      <td>week</td>\n",
              "    </tr>\n",
              "    <tr>\n",
              "      <th>2</th>\n",
              "      <td>acc6afa23a6bf15e18151e4794c7789225ef9d682f473c...</td>\n",
              "      <td>week</td>\n",
              "    </tr>\n",
              "    <tr>\n",
              "      <th>3</th>\n",
              "      <td>34095a3c9a2937ced3ea3fd75e22ce177dc5879d2a53f7...</td>\n",
              "      <td>week</td>\n",
              "    </tr>\n",
              "    <tr>\n",
              "      <th>4</th>\n",
              "      <td>26f3db6e8817a93c4ceda9a16f0832945e43d950b95882...</td>\n",
              "      <td>week</td>\n",
              "    </tr>\n",
              "  </tbody>\n",
              "</table>\n",
              "</div>"
            ],
            "text/plain": [
              "                                              acc_id label\n",
              "0  b8fbf3f6a70e3f36843bffc70c18ff51a0d755a87616ec...  week\n",
              "1  ed500c4957956b3e99dc3985666850b582f812405eefb6...  week\n",
              "2  acc6afa23a6bf15e18151e4794c7789225ef9d682f473c...  week\n",
              "3  34095a3c9a2937ced3ea3fd75e22ce177dc5879d2a53f7...  week\n",
              "4  26f3db6e8817a93c4ceda9a16f0832945e43d950b95882...  week"
            ]
          },
          "metadata": {
            "tags": []
          },
          "execution_count": 3
        }
      ]
    },
    {
      "metadata": {
        "id": "Es1wajp3YdXD",
        "colab_type": "code",
        "colab": {}
      },
      "cell_type": "code",
      "source": [
        "file_id = '1bsa0jiYWjdLkVV5-ax4h5Hhu9Ev6znhU'\n",
        "downloaded = drive.CreateFile({'id': file_id})\n",
        "downloaded.GetContentFile('activity')\n",
        "activity = pd.read_csv('activity')\n"
      ],
      "execution_count": 0,
      "outputs": []
    },
    {
      "metadata": {
        "id": "PFNTrPFaYsZy",
        "colab_type": "code",
        "colab": {
          "base_uri": "https://localhost:8080/",
          "height": 253
        },
        "outputId": "07947d79-c74f-46a2-a391-af86fca1ebde"
      },
      "cell_type": "code",
      "source": [
        "activity_log = pd.merge(activity, label_data, on = 'acc_id')\n",
        "activity_log.head()\n"
      ],
      "execution_count": 26,
      "outputs": [
        {
          "output_type": "execute_result",
          "data": {
            "text/html": [
              "<div>\n",
              "<style scoped>\n",
              "    .dataframe tbody tr th:only-of-type {\n",
              "        vertical-align: middle;\n",
              "    }\n",
              "\n",
              "    .dataframe tbody tr th {\n",
              "        vertical-align: top;\n",
              "    }\n",
              "\n",
              "    .dataframe thead th {\n",
              "        text-align: right;\n",
              "    }\n",
              "</style>\n",
              "<table border=\"1\" class=\"dataframe\">\n",
              "  <thead>\n",
              "    <tr style=\"text-align: right;\">\n",
              "      <th></th>\n",
              "      <th>wk</th>\n",
              "      <th>acc_id</th>\n",
              "      <th>cnt_dt</th>\n",
              "      <th>play_time</th>\n",
              "      <th>npc_exp</th>\n",
              "      <th>npc_hongmun</th>\n",
              "      <th>quest_exp</th>\n",
              "      <th>quest_hongmun</th>\n",
              "      <th>item_hongmun</th>\n",
              "      <th>game_combat_time</th>\n",
              "      <th>...</th>\n",
              "      <th>normal_chat</th>\n",
              "      <th>whisper_chat</th>\n",
              "      <th>district_chat</th>\n",
              "      <th>party_chat</th>\n",
              "      <th>guild_chat</th>\n",
              "      <th>faction_chat</th>\n",
              "      <th>cnt_use_buffitem</th>\n",
              "      <th>gathering_cnt</th>\n",
              "      <th>making_cnt</th>\n",
              "      <th>label</th>\n",
              "    </tr>\n",
              "  </thead>\n",
              "  <tbody>\n",
              "    <tr>\n",
              "      <th>0</th>\n",
              "      <td>7</td>\n",
              "      <td>3dc6f2875dc6e6f35b9e2bdb25b391a8003386ff23becd...</td>\n",
              "      <td>4</td>\n",
              "      <td>2.088814</td>\n",
              "      <td>4.405057</td>\n",
              "      <td>-0.245477</td>\n",
              "      <td>4.454059</td>\n",
              "      <td>3.009797</td>\n",
              "      <td>-0.306354</td>\n",
              "      <td>1.184011</td>\n",
              "      <td>...</td>\n",
              "      <td>-0.034038</td>\n",
              "      <td>-0.231827</td>\n",
              "      <td>-0.016574</td>\n",
              "      <td>-0.275174</td>\n",
              "      <td>-0.343293</td>\n",
              "      <td>-0.024028</td>\n",
              "      <td>3.466939</td>\n",
              "      <td>-0.027758</td>\n",
              "      <td>-0.365536</td>\n",
              "      <td>month</td>\n",
              "    </tr>\n",
              "    <tr>\n",
              "      <th>1</th>\n",
              "      <td>8</td>\n",
              "      <td>3dc6f2875dc6e6f35b9e2bdb25b391a8003386ff23becd...</td>\n",
              "      <td>5</td>\n",
              "      <td>2.673460</td>\n",
              "      <td>4.760178</td>\n",
              "      <td>-0.222527</td>\n",
              "      <td>6.107479</td>\n",
              "      <td>4.758528</td>\n",
              "      <td>-0.306354</td>\n",
              "      <td>1.709534</td>\n",
              "      <td>...</td>\n",
              "      <td>-0.034038</td>\n",
              "      <td>-0.231827</td>\n",
              "      <td>-0.016574</td>\n",
              "      <td>-0.275174</td>\n",
              "      <td>-0.343293</td>\n",
              "      <td>-0.024028</td>\n",
              "      <td>5.070359</td>\n",
              "      <td>-0.027758</td>\n",
              "      <td>-0.365536</td>\n",
              "      <td>month</td>\n",
              "    </tr>\n",
              "    <tr>\n",
              "      <th>2</th>\n",
              "      <td>3</td>\n",
              "      <td>b8856358ff62e596fa07e3e40b8e7fd4b7729263c72b44...</td>\n",
              "      <td>2</td>\n",
              "      <td>-0.649522</td>\n",
              "      <td>-0.231021</td>\n",
              "      <td>-0.290803</td>\n",
              "      <td>-0.245978</td>\n",
              "      <td>-0.487666</td>\n",
              "      <td>-0.306354</td>\n",
              "      <td>-0.566706</td>\n",
              "      <td>...</td>\n",
              "      <td>-0.034038</td>\n",
              "      <td>-0.231827</td>\n",
              "      <td>-0.016574</td>\n",
              "      <td>-0.275174</td>\n",
              "      <td>-0.343293</td>\n",
              "      <td>-0.024028</td>\n",
              "      <td>-0.498275</td>\n",
              "      <td>-0.027758</td>\n",
              "      <td>-0.365536</td>\n",
              "      <td>retained</td>\n",
              "    </tr>\n",
              "    <tr>\n",
              "      <th>3</th>\n",
              "      <td>4</td>\n",
              "      <td>b8856358ff62e596fa07e3e40b8e7fd4b7729263c72b44...</td>\n",
              "      <td>2</td>\n",
              "      <td>-0.658235</td>\n",
              "      <td>-0.231874</td>\n",
              "      <td>-0.290803</td>\n",
              "      <td>-0.250423</td>\n",
              "      <td>-0.487666</td>\n",
              "      <td>-0.306354</td>\n",
              "      <td>-0.569842</td>\n",
              "      <td>...</td>\n",
              "      <td>-0.034038</td>\n",
              "      <td>-0.231827</td>\n",
              "      <td>-0.016574</td>\n",
              "      <td>-0.275174</td>\n",
              "      <td>-0.343293</td>\n",
              "      <td>-0.024028</td>\n",
              "      <td>-0.503692</td>\n",
              "      <td>-0.027758</td>\n",
              "      <td>-0.365536</td>\n",
              "      <td>retained</td>\n",
              "    </tr>\n",
              "    <tr>\n",
              "      <th>4</th>\n",
              "      <td>5</td>\n",
              "      <td>b8856358ff62e596fa07e3e40b8e7fd4b7729263c72b44...</td>\n",
              "      <td>4</td>\n",
              "      <td>-0.654734</td>\n",
              "      <td>-0.231874</td>\n",
              "      <td>-0.290803</td>\n",
              "      <td>-0.250423</td>\n",
              "      <td>-0.487666</td>\n",
              "      <td>-0.306354</td>\n",
              "      <td>-0.569842</td>\n",
              "      <td>...</td>\n",
              "      <td>-0.034038</td>\n",
              "      <td>-0.231827</td>\n",
              "      <td>-0.016574</td>\n",
              "      <td>-0.275174</td>\n",
              "      <td>-0.343293</td>\n",
              "      <td>-0.024028</td>\n",
              "      <td>-0.503692</td>\n",
              "      <td>-0.027758</td>\n",
              "      <td>-0.365536</td>\n",
              "      <td>retained</td>\n",
              "    </tr>\n",
              "  </tbody>\n",
              "</table>\n",
              "<p>5 rows × 39 columns</p>\n",
              "</div>"
            ],
            "text/plain": [
              "   wk                                             acc_id  cnt_dt  play_time  \\\n",
              "0   7  3dc6f2875dc6e6f35b9e2bdb25b391a8003386ff23becd...       4   2.088814   \n",
              "1   8  3dc6f2875dc6e6f35b9e2bdb25b391a8003386ff23becd...       5   2.673460   \n",
              "2   3  b8856358ff62e596fa07e3e40b8e7fd4b7729263c72b44...       2  -0.649522   \n",
              "3   4  b8856358ff62e596fa07e3e40b8e7fd4b7729263c72b44...       2  -0.658235   \n",
              "4   5  b8856358ff62e596fa07e3e40b8e7fd4b7729263c72b44...       4  -0.654734   \n",
              "\n",
              "    npc_exp  npc_hongmun  quest_exp  quest_hongmun  item_hongmun  \\\n",
              "0  4.405057    -0.245477   4.454059       3.009797     -0.306354   \n",
              "1  4.760178    -0.222527   6.107479       4.758528     -0.306354   \n",
              "2 -0.231021    -0.290803  -0.245978      -0.487666     -0.306354   \n",
              "3 -0.231874    -0.290803  -0.250423      -0.487666     -0.306354   \n",
              "4 -0.231874    -0.290803  -0.250423      -0.487666     -0.306354   \n",
              "\n",
              "   game_combat_time    ...     normal_chat  whisper_chat  district_chat  \\\n",
              "0          1.184011    ...       -0.034038     -0.231827      -0.016574   \n",
              "1          1.709534    ...       -0.034038     -0.231827      -0.016574   \n",
              "2         -0.566706    ...       -0.034038     -0.231827      -0.016574   \n",
              "3         -0.569842    ...       -0.034038     -0.231827      -0.016574   \n",
              "4         -0.569842    ...       -0.034038     -0.231827      -0.016574   \n",
              "\n",
              "   party_chat  guild_chat  faction_chat  cnt_use_buffitem  gathering_cnt  \\\n",
              "0   -0.275174   -0.343293     -0.024028          3.466939      -0.027758   \n",
              "1   -0.275174   -0.343293     -0.024028          5.070359      -0.027758   \n",
              "2   -0.275174   -0.343293     -0.024028         -0.498275      -0.027758   \n",
              "3   -0.275174   -0.343293     -0.024028         -0.503692      -0.027758   \n",
              "4   -0.275174   -0.343293     -0.024028         -0.503692      -0.027758   \n",
              "\n",
              "   making_cnt     label  \n",
              "0   -0.365536     month  \n",
              "1   -0.365536     month  \n",
              "2   -0.365536  retained  \n",
              "3   -0.365536  retained  \n",
              "4   -0.365536  retained  \n",
              "\n",
              "[5 rows x 39 columns]"
            ]
          },
          "metadata": {
            "tags": []
          },
          "execution_count": 26
        }
      ]
    },
    {
      "metadata": {
        "id": "bBOAm8tzbd_r",
        "colab_type": "code",
        "colab": {
          "base_uri": "https://localhost:8080/",
          "height": 53
        },
        "outputId": "7bf87700-ca20-41ce-a230-250c1ee99d2e"
      },
      "cell_type": "code",
      "source": [
        "print(activity_log.shape)\n",
        "print(len(activity_log['acc_id'].unique()))\n"
      ],
      "execution_count": 32,
      "outputs": [
        {
          "output_type": "stream",
          "text": [
            "(440323, 39)\n",
            "100000\n"
          ],
          "name": "stdout"
        }
      ]
    },
    {
      "metadata": {
        "id": "2YRA404GaWmC",
        "colab_type": "code",
        "colab": {
          "base_uri": "https://localhost:8080/",
          "height": 1384
        },
        "outputId": "462389a6-e5bd-450c-9dc0-cee219f3e7ba"
      },
      "cell_type": "code",
      "source": [
        "activity_log['label'].hist(fill = activity_log['wk'], stacked = True)"
      ],
      "execution_count": 35,
      "outputs": [
        {
          "output_type": "error",
          "ename": "ValueError",
          "evalue": "ignored",
          "traceback": [
            "\u001b[0;31m\u001b[0m",
            "\u001b[0;31mValueError\u001b[0mTraceback (most recent call last)",
            "\u001b[0;32m<ipython-input-35-102ad9dfe4e2>\u001b[0m in \u001b[0;36m<module>\u001b[0;34m()\u001b[0m\n\u001b[0;32m----> 1\u001b[0;31m \u001b[0mactivity_log\u001b[0m\u001b[0;34m[\u001b[0m\u001b[0;34m'label'\u001b[0m\u001b[0;34m]\u001b[0m\u001b[0;34m.\u001b[0m\u001b[0mhist\u001b[0m\u001b[0;34m(\u001b[0m\u001b[0mfill\u001b[0m \u001b[0;34m=\u001b[0m \u001b[0mactivity_log\u001b[0m\u001b[0;34m[\u001b[0m\u001b[0;34m'wk'\u001b[0m\u001b[0;34m]\u001b[0m\u001b[0;34m,\u001b[0m \u001b[0mstacked\u001b[0m \u001b[0;34m=\u001b[0m \u001b[0mTrue\u001b[0m\u001b[0;34m)\u001b[0m\u001b[0;34m\u001b[0m\u001b[0m\n\u001b[0m",
            "\u001b[0;32m/usr/local/lib/python2.7/dist-packages/pandas/plotting/_core.pyc\u001b[0m in \u001b[0;36mhist_series\u001b[0;34m(self, by, ax, grid, xlabelsize, xrot, ylabelsize, yrot, figsize, bins, **kwds)\u001b[0m\n\u001b[1;32m   2244\u001b[0m         \u001b[0mvalues\u001b[0m \u001b[0;34m=\u001b[0m \u001b[0mself\u001b[0m\u001b[0;34m.\u001b[0m\u001b[0mdropna\u001b[0m\u001b[0;34m(\u001b[0m\u001b[0;34m)\u001b[0m\u001b[0;34m.\u001b[0m\u001b[0mvalues\u001b[0m\u001b[0;34m\u001b[0m\u001b[0m\n\u001b[1;32m   2245\u001b[0m \u001b[0;34m\u001b[0m\u001b[0m\n\u001b[0;32m-> 2246\u001b[0;31m         \u001b[0max\u001b[0m\u001b[0;34m.\u001b[0m\u001b[0mhist\u001b[0m\u001b[0;34m(\u001b[0m\u001b[0mvalues\u001b[0m\u001b[0;34m,\u001b[0m \u001b[0mbins\u001b[0m\u001b[0;34m=\u001b[0m\u001b[0mbins\u001b[0m\u001b[0;34m,\u001b[0m \u001b[0;34m**\u001b[0m\u001b[0mkwds\u001b[0m\u001b[0;34m)\u001b[0m\u001b[0;34m\u001b[0m\u001b[0m\n\u001b[0m\u001b[1;32m   2247\u001b[0m         \u001b[0max\u001b[0m\u001b[0;34m.\u001b[0m\u001b[0mgrid\u001b[0m\u001b[0;34m(\u001b[0m\u001b[0mgrid\u001b[0m\u001b[0;34m)\u001b[0m\u001b[0;34m\u001b[0m\u001b[0m\n\u001b[1;32m   2248\u001b[0m         \u001b[0maxes\u001b[0m \u001b[0;34m=\u001b[0m \u001b[0mnp\u001b[0m\u001b[0;34m.\u001b[0m\u001b[0marray\u001b[0m\u001b[0;34m(\u001b[0m\u001b[0;34m[\u001b[0m\u001b[0max\u001b[0m\u001b[0;34m]\u001b[0m\u001b[0;34m)\u001b[0m\u001b[0;34m\u001b[0m\u001b[0m\n",
            "\u001b[0;32m/usr/local/lib/python2.7/dist-packages/matplotlib/__init__.pyc\u001b[0m in \u001b[0;36minner\u001b[0;34m(ax, *args, **kwargs)\u001b[0m\n\u001b[1;32m   1715\u001b[0m                     warnings.warn(msg % (label_namer, func.__name__),\n\u001b[1;32m   1716\u001b[0m                                   RuntimeWarning, stacklevel=2)\n\u001b[0;32m-> 1717\u001b[0;31m             \u001b[0;32mreturn\u001b[0m \u001b[0mfunc\u001b[0m\u001b[0;34m(\u001b[0m\u001b[0max\u001b[0m\u001b[0;34m,\u001b[0m \u001b[0;34m*\u001b[0m\u001b[0margs\u001b[0m\u001b[0;34m,\u001b[0m \u001b[0;34m**\u001b[0m\u001b[0mkwargs\u001b[0m\u001b[0;34m)\u001b[0m\u001b[0;34m\u001b[0m\u001b[0m\n\u001b[0m\u001b[1;32m   1718\u001b[0m         \u001b[0mpre_doc\u001b[0m \u001b[0;34m=\u001b[0m \u001b[0minner\u001b[0m\u001b[0;34m.\u001b[0m\u001b[0m__doc__\u001b[0m\u001b[0;34m\u001b[0m\u001b[0m\n\u001b[1;32m   1719\u001b[0m         \u001b[0;32mif\u001b[0m \u001b[0mpre_doc\u001b[0m \u001b[0;32mis\u001b[0m \u001b[0mNone\u001b[0m\u001b[0;34m:\u001b[0m\u001b[0;34m\u001b[0m\u001b[0m\n",
            "\u001b[0;32m/usr/local/lib/python2.7/dist-packages/matplotlib/axes/_axes.pyc\u001b[0m in \u001b[0;36mhist\u001b[0;34m(***failed resolving arguments***)\u001b[0m\n\u001b[1;32m   6351\u001b[0m             \u001b[0;32mif\u001b[0m \u001b[0mpatch\u001b[0m\u001b[0;34m:\u001b[0m\u001b[0;34m\u001b[0m\u001b[0m\n\u001b[1;32m   6352\u001b[0m                 \u001b[0mp\u001b[0m \u001b[0;34m=\u001b[0m \u001b[0mpatch\u001b[0m\u001b[0;34m[\u001b[0m\u001b[0;36m0\u001b[0m\u001b[0;34m]\u001b[0m\u001b[0;34m\u001b[0m\u001b[0m\n\u001b[0;32m-> 6353\u001b[0;31m                 \u001b[0mp\u001b[0m\u001b[0;34m.\u001b[0m\u001b[0mupdate\u001b[0m\u001b[0;34m(\u001b[0m\u001b[0mkwargs\u001b[0m\u001b[0;34m)\u001b[0m\u001b[0;34m\u001b[0m\u001b[0m\n\u001b[0m\u001b[1;32m   6354\u001b[0m                 \u001b[0;32mif\u001b[0m \u001b[0mlbl\u001b[0m \u001b[0;32mis\u001b[0m \u001b[0;32mnot\u001b[0m \u001b[0mNone\u001b[0m\u001b[0;34m:\u001b[0m\u001b[0;34m\u001b[0m\u001b[0m\n\u001b[1;32m   6355\u001b[0m                     \u001b[0mp\u001b[0m\u001b[0;34m.\u001b[0m\u001b[0mset_label\u001b[0m\u001b[0;34m(\u001b[0m\u001b[0mlbl\u001b[0m\u001b[0;34m)\u001b[0m\u001b[0;34m\u001b[0m\u001b[0m\n",
            "\u001b[0;32m/usr/local/lib/python2.7/dist-packages/matplotlib/artist.pyc\u001b[0m in \u001b[0;36mupdate\u001b[0;34m(self, props)\u001b[0m\n\u001b[1;32m    900\u001b[0m         \u001b[0;32mtry\u001b[0m\u001b[0;34m:\u001b[0m\u001b[0;34m\u001b[0m\u001b[0m\n\u001b[1;32m    901\u001b[0m             ret = [_update_property(self, k, v)\n\u001b[0;32m--> 902\u001b[0;31m                    for k, v in props.items()]\n\u001b[0m\u001b[1;32m    903\u001b[0m         \u001b[0;32mfinally\u001b[0m\u001b[0;34m:\u001b[0m\u001b[0;34m\u001b[0m\u001b[0m\n\u001b[1;32m    904\u001b[0m             \u001b[0mself\u001b[0m\u001b[0;34m.\u001b[0m\u001b[0meventson\u001b[0m \u001b[0;34m=\u001b[0m \u001b[0mstore\u001b[0m\u001b[0;34m\u001b[0m\u001b[0m\n",
            "\u001b[0;32m/usr/local/lib/python2.7/dist-packages/matplotlib/artist.pyc\u001b[0m in \u001b[0;36m_update_property\u001b[0;34m(self, k, v)\u001b[0m\n\u001b[1;32m    894\u001b[0m                 \u001b[0;32mif\u001b[0m \u001b[0;32mnot\u001b[0m \u001b[0mcallable\u001b[0m\u001b[0;34m(\u001b[0m\u001b[0mfunc\u001b[0m\u001b[0;34m)\u001b[0m\u001b[0;34m:\u001b[0m\u001b[0;34m\u001b[0m\u001b[0m\n\u001b[1;32m    895\u001b[0m                     \u001b[0;32mraise\u001b[0m \u001b[0mAttributeError\u001b[0m\u001b[0;34m(\u001b[0m\u001b[0;34m'Unknown property %s'\u001b[0m \u001b[0;34m%\u001b[0m \u001b[0mk\u001b[0m\u001b[0;34m)\u001b[0m\u001b[0;34m\u001b[0m\u001b[0m\n\u001b[0;32m--> 896\u001b[0;31m                 \u001b[0;32mreturn\u001b[0m \u001b[0mfunc\u001b[0m\u001b[0;34m(\u001b[0m\u001b[0mv\u001b[0m\u001b[0;34m)\u001b[0m\u001b[0;34m\u001b[0m\u001b[0m\n\u001b[0m\u001b[1;32m    897\u001b[0m \u001b[0;34m\u001b[0m\u001b[0m\n\u001b[1;32m    898\u001b[0m         \u001b[0mstore\u001b[0m \u001b[0;34m=\u001b[0m \u001b[0mself\u001b[0m\u001b[0;34m.\u001b[0m\u001b[0meventson\u001b[0m\u001b[0;34m\u001b[0m\u001b[0m\n",
            "\u001b[0;32m/usr/local/lib/python2.7/dist-packages/matplotlib/patches.pyc\u001b[0m in \u001b[0;36mset_fill\u001b[0;34m(self, b)\u001b[0m\n\u001b[1;32m    410\u001b[0m         \u001b[0mACCEPTS\u001b[0m\u001b[0;34m:\u001b[0m \u001b[0;34m[\u001b[0m\u001b[0mTrue\u001b[0m \u001b[0;34m|\u001b[0m \u001b[0mFalse\u001b[0m\u001b[0;34m]\u001b[0m\u001b[0;34m\u001b[0m\u001b[0m\n\u001b[1;32m    411\u001b[0m         \"\"\"\n\u001b[0;32m--> 412\u001b[0;31m         \u001b[0mself\u001b[0m\u001b[0;34m.\u001b[0m\u001b[0m_fill\u001b[0m \u001b[0;34m=\u001b[0m \u001b[0mbool\u001b[0m\u001b[0;34m(\u001b[0m\u001b[0mb\u001b[0m\u001b[0;34m)\u001b[0m\u001b[0;34m\u001b[0m\u001b[0m\n\u001b[0m\u001b[1;32m    413\u001b[0m         \u001b[0mself\u001b[0m\u001b[0;34m.\u001b[0m\u001b[0m_set_facecolor\u001b[0m\u001b[0;34m(\u001b[0m\u001b[0mself\u001b[0m\u001b[0;34m.\u001b[0m\u001b[0m_original_facecolor\u001b[0m\u001b[0;34m)\u001b[0m\u001b[0;34m\u001b[0m\u001b[0m\n\u001b[1;32m    414\u001b[0m         \u001b[0mself\u001b[0m\u001b[0;34m.\u001b[0m\u001b[0m_set_edgecolor\u001b[0m\u001b[0;34m(\u001b[0m\u001b[0mself\u001b[0m\u001b[0;34m.\u001b[0m\u001b[0m_original_edgecolor\u001b[0m\u001b[0;34m)\u001b[0m\u001b[0;34m\u001b[0m\u001b[0m\n",
            "\u001b[0;32m/usr/local/lib/python2.7/dist-packages/pandas/core/generic.pyc\u001b[0m in \u001b[0;36m__nonzero__\u001b[0;34m(self)\u001b[0m\n\u001b[1;32m   1119\u001b[0m         raise ValueError(\"The truth value of a {0} is ambiguous. \"\n\u001b[1;32m   1120\u001b[0m                          \u001b[0;34m\"Use a.empty, a.bool(), a.item(), a.any() or a.all().\"\u001b[0m\u001b[0;34m\u001b[0m\u001b[0m\n\u001b[0;32m-> 1121\u001b[0;31m                          .format(self.__class__.__name__))\n\u001b[0m\u001b[1;32m   1122\u001b[0m \u001b[0;34m\u001b[0m\u001b[0m\n\u001b[1;32m   1123\u001b[0m     \u001b[0m__bool__\u001b[0m \u001b[0;34m=\u001b[0m \u001b[0m__nonzero__\u001b[0m\u001b[0;34m\u001b[0m\u001b[0m\n",
            "\u001b[0;31mValueError\u001b[0m: The truth value of a Series is ambiguous. Use a.empty, a.bool(), a.item(), a.any() or a.all()."
          ]
        },
        {
          "output_type": "display_data",
          "data": {
            "image/png": "[encoded data removed]",
            "text/plain": [
              "<matplotlib.figure.Figure at 0x7fb3af238810>"
            ]
          },
          "metadata": {
            "tags": []
          }
        }
      ]
    },
    {
      "metadata": {
        "id": "Ruj-NJjibHgC",
        "colab_type": "code",
        "colab": {}
      },
      "cell_type": "code",
      "source": [
        ""
      ],
      "execution_count": 0,
      "outputs": []
    }
  ]
}