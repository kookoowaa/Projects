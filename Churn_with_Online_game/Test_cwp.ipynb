{
  "nbformat": 4,
  "nbformat_minor": 0,
  "metadata": {
    "colab": {
      "name": "Test_cwp.ipynb",
      "version": "0.3.2",
      "provenance": [],
      "include_colab_link": true
    }
  },
  "cells": [
    {
      "cell_type": "markdown",
      "metadata": {
        "id": "view-in-github",
        "colab_type": "text"
      },
      "source": [
        "[View in Colaboratory](https://colab.research.google.com/github/kookoowaa/Projects/blob/master/Churn_with_Online_game/Test_cwp.ipynb)"
      ]
    },
    {
      "metadata": {
        "id": "yKUX5m4s8Hbx",
        "colab_type": "text"
      },
      "cell_type": "markdown",
      "source": [
        ""
      ]
    },
    {
      "metadata": {
        "id": "1NjwV1culqvc",
        "colab_type": "code",
        "colab": {}
      },
      "cell_type": "code",
      "source": [
        "!pip install -U -q PyDrive\n",
        " \n",
        "from pydrive.auth import GoogleAuth\n",
        "from pydrive.drive import GoogleDrive\n",
        "from google.colab import auth\n",
        "from oauth2client.client import GoogleCredentials \n",
        " \n",
        "# 1. Authenticate and create the PyDrive client.\n",
        "auth.authenticate_user()\n",
        "gauth = GoogleAuth()\n",
        "gauth.credentials = GoogleCredentials.get_application_default()\n",
        "drive = GoogleDrive(gauth)"
      ],
      "execution_count": 0,
      "outputs": []
    },
    {
      "metadata": {
        "id": "2LaE7Ix_YScL",
        "colab_type": "code",
        "colab": {}
      },
      "cell_type": "code",
      "source": [
        "file_id = '1UKQ6pt47ogMjOi3bsyIuFWf5Bw8Epont'\n",
        "downloaded = drive.CreateFile({'id': file_id})\n",
        "downloaded.GetContentFile('label')"
      ],
      "execution_count": 0,
      "outputs": []
    },
    {
      "metadata": {
        "id": "xKYbmT0UYbMU",
        "colab_type": "code",
        "colab": {
          "base_uri": "https://localhost:8080/",
          "height": 204
        },
        "outputId": "7e87c7f1-a64d-4c1b-c290-a2d4067604f0"
      },
      "cell_type": "code",
      "source": [
        "import pandas as pd\n",
        "label_data = pd.read_csv('label')\n",
        "label_data.head()"
      ],
      "execution_count": 5,
      "outputs": [
        {
          "output_type": "execute_result",
          "data": {
            "text/html": [
              "<div>\n",
              "<style scoped>\n",
              "    .dataframe tbody tr th:only-of-type {\n",
              "        vertical-align: middle;\n",
              "    }\n",
              "\n",
              "    .dataframe tbody tr th {\n",
              "        vertical-align: top;\n",
              "    }\n",
              "\n",
              "    .dataframe thead th {\n",
              "        text-align: right;\n",
              "    }\n",
              "</style>\n",
              "<table border=\"1\" class=\"dataframe\">\n",
              "  <thead>\n",
              "    <tr style=\"text-align: right;\">\n",
              "      <th></th>\n",
              "      <th>acc_id</th>\n",
              "      <th>label</th>\n",
              "    </tr>\n",
              "  </thead>\n",
              "  <tbody>\n",
              "    <tr>\n",
              "      <th>0</th>\n",
              "      <td>b8fbf3f6a70e3f36843bffc70c18ff51a0d755a87616ec...</td>\n",
              "      <td>week</td>\n",
              "    </tr>\n",
              "    <tr>\n",
              "      <th>1</th>\n",
              "      <td>ed500c4957956b3e99dc3985666850b582f812405eefb6...</td>\n",
              "      <td>week</td>\n",
              "    </tr>\n",
              "    <tr>\n",
              "      <th>2</th>\n",
              "      <td>acc6afa23a6bf15e18151e4794c7789225ef9d682f473c...</td>\n",
              "      <td>week</td>\n",
              "    </tr>\n",
              "    <tr>\n",
              "      <th>3</th>\n",
              "      <td>34095a3c9a2937ced3ea3fd75e22ce177dc5879d2a53f7...</td>\n",
              "      <td>week</td>\n",
              "    </tr>\n",
              "    <tr>\n",
              "      <th>4</th>\n",
              "      <td>26f3db6e8817a93c4ceda9a16f0832945e43d950b95882...</td>\n",
              "      <td>week</td>\n",
              "    </tr>\n",
              "  </tbody>\n",
              "</table>\n",
              "</div>"
            ],
            "text/plain": [
              "                                              acc_id label\n",
              "0  b8fbf3f6a70e3f36843bffc70c18ff51a0d755a87616ec...  week\n",
              "1  ed500c4957956b3e99dc3985666850b582f812405eefb6...  week\n",
              "2  acc6afa23a6bf15e18151e4794c7789225ef9d682f473c...  week\n",
              "3  34095a3c9a2937ced3ea3fd75e22ce177dc5879d2a53f7...  week\n",
              "4  26f3db6e8817a93c4ceda9a16f0832945e43d950b95882...  week"
            ]
          },
          "metadata": {
            "tags": []
          },
          "execution_count": 5
        }
      ]
    },
    {
      "metadata": {
        "id": "Es1wajp3YdXD",
        "colab_type": "code",
        "colab": {}
      },
      "cell_type": "code",
      "source": [
        "file_id = '1bsa0jiYWjdLkVV5-ax4h5Hhu9Ev6znhU'\n",
        "downloaded = drive.CreateFile({'id': file_id})\n",
        "downloaded.GetContentFile('activity')\n",
        "activity = pd.read_csv('activity')\n"
      ],
      "execution_count": 0,
      "outputs": []
    },
    {
      "metadata": {
        "id": "PFNTrPFaYsZy",
        "colab_type": "code",
        "colab": {
          "base_uri": "https://localhost:8080/",
          "height": 253
        },
        "outputId": "6625e6fb-e5d5-488f-f4a6-750077453d61"
      },
      "cell_type": "code",
      "source": [
        "activity_log = pd.merge(activity, label_data, on = 'acc_id')\n",
        "activity_log.head()\n"
      ],
      "execution_count": 7,
      "outputs": [
        {
          "output_type": "execute_result",
          "data": {
            "text/html": [
              "<div>\n",
              "<style scoped>\n",
              "    .dataframe tbody tr th:only-of-type {\n",
              "        vertical-align: middle;\n",
              "    }\n",
              "\n",
              "    .dataframe tbody tr th {\n",
              "        vertical-align: top;\n",
              "    }\n",
              "\n",
              "    .dataframe thead th {\n",
              "        text-align: right;\n",
              "    }\n",
              "</style>\n",
              "<table border=\"1\" class=\"dataframe\">\n",
              "  <thead>\n",
              "    <tr style=\"text-align: right;\">\n",
              "      <th></th>\n",
              "      <th>wk</th>\n",
              "      <th>acc_id</th>\n",
              "      <th>cnt_dt</th>\n",
              "      <th>play_time</th>\n",
              "      <th>npc_exp</th>\n",
              "      <th>npc_hongmun</th>\n",
              "      <th>quest_exp</th>\n",
              "      <th>quest_hongmun</th>\n",
              "      <th>item_hongmun</th>\n",
              "      <th>game_combat_time</th>\n",
              "      <th>...</th>\n",
              "      <th>normal_chat</th>\n",
              "      <th>whisper_chat</th>\n",
              "      <th>district_chat</th>\n",
              "      <th>party_chat</th>\n",
              "      <th>guild_chat</th>\n",
              "      <th>faction_chat</th>\n",
              "      <th>cnt_use_buffitem</th>\n",
              "      <th>gathering_cnt</th>\n",
              "      <th>making_cnt</th>\n",
              "      <th>label</th>\n",
              "    </tr>\n",
              "  </thead>\n",
              "  <tbody>\n",
              "    <tr>\n",
              "      <th>0</th>\n",
              "      <td>7</td>\n",
              "      <td>3dc6f2875dc6e6f35b9e2bdb25b391a8003386ff23becd...</td>\n",
              "      <td>4</td>\n",
              "      <td>2.088814</td>\n",
              "      <td>4.405057</td>\n",
              "      <td>-0.245477</td>\n",
              "      <td>4.454059</td>\n",
              "      <td>3.009797</td>\n",
              "      <td>-0.306354</td>\n",
              "      <td>1.184011</td>\n",
              "      <td>...</td>\n",
              "      <td>-0.034038</td>\n",
              "      <td>-0.231827</td>\n",
              "      <td>-0.016574</td>\n",
              "      <td>-0.275174</td>\n",
              "      <td>-0.343293</td>\n",
              "      <td>-0.024028</td>\n",
              "      <td>3.466939</td>\n",
              "      <td>-0.027758</td>\n",
              "      <td>-0.365536</td>\n",
              "      <td>month</td>\n",
              "    </tr>\n",
              "    <tr>\n",
              "      <th>1</th>\n",
              "      <td>8</td>\n",
              "      <td>3dc6f2875dc6e6f35b9e2bdb25b391a8003386ff23becd...</td>\n",
              "      <td>5</td>\n",
              "      <td>2.673460</td>\n",
              "      <td>4.760178</td>\n",
              "      <td>-0.222527</td>\n",
              "      <td>6.107479</td>\n",
              "      <td>4.758528</td>\n",
              "      <td>-0.306354</td>\n",
              "      <td>1.709534</td>\n",
              "      <td>...</td>\n",
              "      <td>-0.034038</td>\n",
              "      <td>-0.231827</td>\n",
              "      <td>-0.016574</td>\n",
              "      <td>-0.275174</td>\n",
              "      <td>-0.343293</td>\n",
              "      <td>-0.024028</td>\n",
              "      <td>5.070359</td>\n",
              "      <td>-0.027758</td>\n",
              "      <td>-0.365536</td>\n",
              "      <td>month</td>\n",
              "    </tr>\n",
              "    <tr>\n",
              "      <th>2</th>\n",
              "      <td>3</td>\n",
              "      <td>b8856358ff62e596fa07e3e40b8e7fd4b7729263c72b44...</td>\n",
              "      <td>2</td>\n",
              "      <td>-0.649522</td>\n",
              "      <td>-0.231021</td>\n",
              "      <td>-0.290803</td>\n",
              "      <td>-0.245978</td>\n",
              "      <td>-0.487666</td>\n",
              "      <td>-0.306354</td>\n",
              "      <td>-0.566706</td>\n",
              "      <td>...</td>\n",
              "      <td>-0.034038</td>\n",
              "      <td>-0.231827</td>\n",
              "      <td>-0.016574</td>\n",
              "      <td>-0.275174</td>\n",
              "      <td>-0.343293</td>\n",
              "      <td>-0.024028</td>\n",
              "      <td>-0.498275</td>\n",
              "      <td>-0.027758</td>\n",
              "      <td>-0.365536</td>\n",
              "      <td>retained</td>\n",
              "    </tr>\n",
              "    <tr>\n",
              "      <th>3</th>\n",
              "      <td>4</td>\n",
              "      <td>b8856358ff62e596fa07e3e40b8e7fd4b7729263c72b44...</td>\n",
              "      <td>2</td>\n",
              "      <td>-0.658235</td>\n",
              "      <td>-0.231874</td>\n",
              "      <td>-0.290803</td>\n",
              "      <td>-0.250423</td>\n",
              "      <td>-0.487666</td>\n",
              "      <td>-0.306354</td>\n",
              "      <td>-0.569842</td>\n",
              "      <td>...</td>\n",
              "      <td>-0.034038</td>\n",
              "      <td>-0.231827</td>\n",
              "      <td>-0.016574</td>\n",
              "      <td>-0.275174</td>\n",
              "      <td>-0.343293</td>\n",
              "      <td>-0.024028</td>\n",
              "      <td>-0.503692</td>\n",
              "      <td>-0.027758</td>\n",
              "      <td>-0.365536</td>\n",
              "      <td>retained</td>\n",
              "    </tr>\n",
              "    <tr>\n",
              "      <th>4</th>\n",
              "      <td>5</td>\n",
              "      <td>b8856358ff62e596fa07e3e40b8e7fd4b7729263c72b44...</td>\n",
              "      <td>4</td>\n",
              "      <td>-0.654734</td>\n",
              "      <td>-0.231874</td>\n",
              "      <td>-0.290803</td>\n",
              "      <td>-0.250423</td>\n",
              "      <td>-0.487666</td>\n",
              "      <td>-0.306354</td>\n",
              "      <td>-0.569842</td>\n",
              "      <td>...</td>\n",
              "      <td>-0.034038</td>\n",
              "      <td>-0.231827</td>\n",
              "      <td>-0.016574</td>\n",
              "      <td>-0.275174</td>\n",
              "      <td>-0.343293</td>\n",
              "      <td>-0.024028</td>\n",
              "      <td>-0.503692</td>\n",
              "      <td>-0.027758</td>\n",
              "      <td>-0.365536</td>\n",
              "      <td>retained</td>\n",
              "    </tr>\n",
              "  </tbody>\n",
              "</table>\n",
              "<p>5 rows × 39 columns</p>\n",
              "</div>"
            ],
            "text/plain": [
              "   wk                                             acc_id  cnt_dt  play_time  \\\n",
              "0   7  3dc6f2875dc6e6f35b9e2bdb25b391a8003386ff23becd...       4   2.088814   \n",
              "1   8  3dc6f2875dc6e6f35b9e2bdb25b391a8003386ff23becd...       5   2.673460   \n",
              "2   3  b8856358ff62e596fa07e3e40b8e7fd4b7729263c72b44...       2  -0.649522   \n",
              "3   4  b8856358ff62e596fa07e3e40b8e7fd4b7729263c72b44...       2  -0.658235   \n",
              "4   5  b8856358ff62e596fa07e3e40b8e7fd4b7729263c72b44...       4  -0.654734   \n",
              "\n",
              "    npc_exp  npc_hongmun  quest_exp  quest_hongmun  item_hongmun  \\\n",
              "0  4.405057    -0.245477   4.454059       3.009797     -0.306354   \n",
              "1  4.760178    -0.222527   6.107479       4.758528     -0.306354   \n",
              "2 -0.231021    -0.290803  -0.245978      -0.487666     -0.306354   \n",
              "3 -0.231874    -0.290803  -0.250423      -0.487666     -0.306354   \n",
              "4 -0.231874    -0.290803  -0.250423      -0.487666     -0.306354   \n",
              "\n",
              "   game_combat_time    ...     normal_chat  whisper_chat  district_chat  \\\n",
              "0          1.184011    ...       -0.034038     -0.231827      -0.016574   \n",
              "1          1.709534    ...       -0.034038     -0.231827      -0.016574   \n",
              "2         -0.566706    ...       -0.034038     -0.231827      -0.016574   \n",
              "3         -0.569842    ...       -0.034038     -0.231827      -0.016574   \n",
              "4         -0.569842    ...       -0.034038     -0.231827      -0.016574   \n",
              "\n",
              "   party_chat  guild_chat  faction_chat  cnt_use_buffitem  gathering_cnt  \\\n",
              "0   -0.275174   -0.343293     -0.024028          3.466939      -0.027758   \n",
              "1   -0.275174   -0.343293     -0.024028          5.070359      -0.027758   \n",
              "2   -0.275174   -0.343293     -0.024028         -0.498275      -0.027758   \n",
              "3   -0.275174   -0.343293     -0.024028         -0.503692      -0.027758   \n",
              "4   -0.275174   -0.343293     -0.024028         -0.503692      -0.027758   \n",
              "\n",
              "   making_cnt     label  \n",
              "0   -0.365536     month  \n",
              "1   -0.365536     month  \n",
              "2   -0.365536  retained  \n",
              "3   -0.365536  retained  \n",
              "4   -0.365536  retained  \n",
              "\n",
              "[5 rows x 39 columns]"
            ]
          },
          "metadata": {
            "tags": []
          },
          "execution_count": 7
        }
      ]
    },
    {
      "metadata": {
        "id": "bBOAm8tzbd_r",
        "colab_type": "code",
        "colab": {
          "base_uri": "https://localhost:8080/",
          "height": 53
        },
        "outputId": "ab347707-fa4e-4ffe-f142-b86665c92f55"
      },
      "cell_type": "code",
      "source": [
        "print(activity_log.shape)\n",
        "print(len(activity_log['acc_id'].unique()))\n"
      ],
      "execution_count": 9,
      "outputs": [
        {
          "output_type": "stream",
          "text": [
            "(440323, 39)\n",
            "100000\n"
          ],
          "name": "stdout"
        }
      ]
    },
    {
      "metadata": {
        "id": "2YRA404GaWmC",
        "colab_type": "code",
        "colab": {
          "base_uri": "https://localhost:8080/",
          "height": 566
        },
        "outputId": "254ae009-ec7f-4305-b4ca-3569651bc755"
      },
      "cell_type": "code",
      "source": [
        "activity_log['label'].hist(by = activity_log['wk'], stacked = True)"
      ],
      "execution_count": 11,
      "outputs": [
        {
          "output_type": "execute_result",
          "data": {
            "text/plain": [
              "array([[<matplotlib.axes._subplots.AxesSubplot object at 0x7ff426ea8290>,\n",
              "        <matplotlib.axes._subplots.AxesSubplot object at 0x7ff426b52850>,\n",
              "        <matplotlib.axes._subplots.AxesSubplot object at 0x7ff426c69310>],\n",
              "       [<matplotlib.axes._subplots.AxesSubplot object at 0x7ff426be2f10>,\n",
              "        <matplotlib.axes._subplots.AxesSubplot object at 0x7ff424ab8ad0>,\n",
              "        <matplotlib.axes._subplots.AxesSubplot object at 0x7ff424af3810>],\n",
              "       [<matplotlib.axes._subplots.AxesSubplot object at 0x7ff424a3f5d0>,\n",
              "        <matplotlib.axes._subplots.AxesSubplot object at 0x7ff424a68510>,\n",
              "        <matplotlib.axes._subplots.AxesSubplot object at 0x7ff4249ccb90>]],\n",
              "      dtype=object)"
            ]
          },
          "metadata": {
            "tags": []
          },
          "execution_count": 11
        },
        {
          "output_type": "display_data",
          "data": {
            "image/png": "[encoded data removed]",
            "text/plain": [
              "<matplotlib.figure.Figure at 0x7ff426cb5f10>"
            ]
          },
          "metadata": {
            "tags": []
          }
        }
      ]
    },
    {
      "metadata": {
        "id": "A1zgHjEHnlVc",
        "colab_type": "code",
        "colab": {
          "base_uri": "https://localhost:8080/",
          "height": 629
        },
        "outputId": "593871a2-d2cf-4fd8-8e3b-804492e13cca"
      },
      "cell_type": "code",
      "source": [
        "activity_log.groupby(['wk', 'label'])['acc_id'].count()"
      ],
      "execution_count": 20,
      "outputs": [
        {
          "output_type": "execute_result",
          "data": {
            "text/plain": [
              "wk  label   \n",
              "1   2month       5260\n",
              "    month        6773\n",
              "    retained    17950\n",
              "    week         3724\n",
              "2   2month       8008\n",
              "    month        8440\n",
              "    retained    18675\n",
              "    week         7970\n",
              "3   2month      10034\n",
              "    month        9631\n",
              "    retained    20391\n",
              "    week         6066\n",
              "4   2month      12482\n",
              "    month       11039\n",
              "    retained    21122\n",
              "    week         6787\n",
              "5   2month      12867\n",
              "    month       10545\n",
              "    retained    21700\n",
              "    week         7473\n",
              "6   2month      11176\n",
              "    month       11448\n",
              "    retained    19964\n",
              "    week         7960\n",
              "7   2month      13815\n",
              "    month       14597\n",
              "    retained    22308\n",
              "    week        12118\n",
              "8   2month      25000\n",
              "    month       25000\n",
              "    retained    25000\n",
              "    week        25000\n",
              "Name: acc_id, dtype: int64"
            ]
          },
          "metadata": {
            "tags": []
          },
          "execution_count": 20
        }
      ]
    },
    {
      "metadata": {
        "id": "6RFskBlpnbMC",
        "colab_type": "code",
        "colab": {
          "base_uri": "https://localhost:8080/",
          "height": 197
        },
        "outputId": "21656d8d-7369-423d-f32d-1ba5b121959f"
      },
      "cell_type": "code",
      "source": [
        "activity_log.groupby('wk')['acc_id'].count()"
      ],
      "execution_count": 21,
      "outputs": [
        {
          "output_type": "execute_result",
          "data": {
            "text/plain": [
              "wk\n",
              "1     33707\n",
              "2     43093\n",
              "3     46122\n",
              "4     51430\n",
              "5     52585\n",
              "6     50548\n",
              "7     62838\n",
              "8    100000\n",
              "Name: acc_id, dtype: int64"
            ]
          },
          "metadata": {
            "tags": []
          },
          "execution_count": 21
        }
      ]
    },
    {
      "metadata": {
        "id": "Z9y5myDfq007",
        "colab_type": "code",
        "colab": {}
      },
      "cell_type": "code",
      "source": [
        ""
      ],
      "execution_count": 0,
      "outputs": []
    }
  ]
}