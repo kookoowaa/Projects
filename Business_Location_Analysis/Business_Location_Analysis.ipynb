{
 "cells": [
  {
   "cell_type": "markdown",
   "metadata": {},
   "source": [
    "# Business Location Analysis\n",
    "\n"
   ]
  },
  {
   "cell_type": "markdown",
   "metadata": {},
   "source": [
    "<div style=\"text-align: right\"> first drafted on 2016-07-11 </div>\n",
    "<div style=\"text-align: right\"> last updated on 2018-06-02 </div>"
   ]
  },
  {
   "cell_type": "markdown",
   "metadata": {},
   "source": [
    "*It is a critical question to many business where to open and operate its offline spaces. Especially when a business is pursuing an expansion to places not so familiar to, researching and making a decision on where to locate can be a very difficult problem. I have had a similar concerns as a strategist, and came up with a simple alternative that helped me to make reasonable data-driven decision making.*"
   ]
  },
  {
   "cell_type": "markdown",
   "metadata": {},
   "source": [
    "The logic is simple;\n",
    " \n",
    "<br> \n",
    "<b>&nbsp;&nbsp;&nbsp;&nbsp;*'You want to do business from where your customers are.'*</b>\n",
    "\n",
    "\n",
    "<br>\n",
    "In order to find such a location, the following procedure has been taken from this analysis:\n",
    "\n",
    "1. Define customers - Define sets of customers, which the business is targeting to. The purpose of business, marketing, and strategy all come in to play. If appripriate, apply STP to each set of customer.\n",
    "2. Define sets - For each heterogeneous set of customers, allocation of brand or landmark that can represent characteristics of the set. It can be popular brand(shop), public places, or anything that can be searched on google map. More specific, the better.\n",
    "3. Find on google - Google web api provides geocode for your search query. Geocode for each keyword location can be retrieved.\n",
    "4. Plot on map - Now that each location information is given, plot heatmap layer on google map with the help of package 'gmaps'. It can be done separately by each set of customers, or as a whole.\n",
    "\n",
    "<br>\n",
    "___\n",
    "For example, *a restaurant franchise seeking an international expansion* into London, UK may take the following procedure:\n",
    "\n",
    "1. Define customers\n",
    " - Curious customers seeking for new things to try with fellows, with mid-upper range income to spare on dinning experience.\n",
    "2. Define sets\n",
    " - Restaurant(restaurant) \n",
    " - Pioneers (university, waterstones, starbucks)\n",
    " - Tourist (hotel, tourist attraction) \n",
    " - Hang out (cinema, club)\n",
    "3. Find on google\n",
    "4. plot on map\n",
    "___"
   ]
  },
  {
   "cell_type": "markdown",
   "metadata": {},
   "source": [
    "The libraries used for this project are as follows;\n",
    "\n",
    "- *re* for pattern & string process\n",
    "\n",
    "- *gmaps* for Google maps API\n",
    "\n",
    "- *urllib* for Google API and data crawling\n",
    "\n"
   ]
  },
  {
   "cell_type": "code",
   "execution_count": 1,
   "metadata": {},
   "outputs": [],
   "source": [
    "from urllib.request import urlopen\n",
    "import gmaps\n",
    "import re"
   ]
  },
  {
   "cell_type": "markdown",
   "metadata": {},
   "source": [
    "Define target city and retrieve geocode using google api."
   ]
  },
  {
   "cell_type": "code",
   "execution_count": 2,
   "metadata": {
    "scrolled": true
   },
   "outputs": [],
   "source": [
    "city = 'London'\n",
    "\n",
    "city_url = 'https://maps.googleapis.com/maps/api/geocode/json?address='\n",
    "key = \"YOUR KEY HERE\""
   ]
  },
  {
   "cell_type": "code",
   "execution_count": 3,
   "metadata": {
    "scrolled": false
   },
   "outputs": [
    {
     "data": {
      "text/plain": [
       "'51.5073509, -0.1277583'"
      ]
     },
     "execution_count": 3,
     "metadata": {},
     "output_type": "execute_result"
    }
   ],
   "source": [
    "url = urlopen(city_url+city+key)\n",
    "tmp = url.readlines()\n",
    "for i in range(len(tmp)):\n",
    "    if '\"location\"' in str(tmp[i]):\n",
    "        city_coord =(float(re.sub('[a-z\\ \":\\',\\\\\\]*','',str(tmp[i+1]))), float(re.sub('[a-z\\ \":\\',\\\\\\]*','',str(tmp[i+2]))))\n",
    "str(city_coord)[1:-1]"
   ]
  },
  {
   "cell_type": "markdown",
   "metadata": {},
   "source": [
    "If you look into the data retrieved, it contains a number of location informations as follows;"
   ]
  },
  {
   "cell_type": "code",
   "execution_count": 11,
   "metadata": {
    "scrolled": true
   },
   "outputs": [
    {
     "data": {
      "text/plain": [
       "[b'{\\n',\n",
       " b'   \"results\" : [\\n',\n",
       " b'      {\\n',\n",
       " b'         \"address_components\" : [\\n',\n",
       " b'            {\\n',\n",
       " b'               \"long_name\" : \"London\",\\n',\n",
       " b'               \"short_name\" : \"London\",\\n',\n",
       " b'               \"types\" : [ \"locality\", \"political\" ]\\n',\n",
       " b'            },\\n',\n",
       " b'            {\\n',\n",
       " b'               \"long_name\" : \"London\",\\n',\n",
       " b'               \"short_name\" : \"London\",\\n',\n",
       " b'               \"types\" : [ \"postal_town\" ]\\n',\n",
       " b'            },\\n',\n",
       " b'            {\\n',\n",
       " b'               \"long_name\" : \"Greater London\",\\n',\n",
       " b'               \"short_name\" : \"Greater London\",\\n',\n",
       " b'               \"types\" : [ \"administrative_area_level_2\", \"political\" ]\\n',\n",
       " b'            },\\n',\n",
       " b'            {\\n',\n",
       " b'               \"long_name\" : \"England\",\\n',\n",
       " b'               \"short_name\" : \"England\",\\n',\n",
       " b'               \"types\" : [ \"administrative_area_level_1\", \"political\" ]\\n',\n",
       " b'            },\\n',\n",
       " b'            {\\n',\n",
       " b'               \"long_name\" : \"United Kingdom\",\\n',\n",
       " b'               \"short_name\" : \"GB\",\\n',\n",
       " b'               \"types\" : [ \"country\", \"political\" ]\\n',\n",
       " b'            }\\n',\n",
       " b'         ],\\n',\n",
       " b'         \"formatted_address\" : \"London, UK\",\\n',\n",
       " b'         \"geometry\" : {\\n',\n",
       " b'            \"bounds\" : {\\n',\n",
       " b'               \"northeast\" : {\\n',\n",
       " b'                  \"lat\" : 51.6723432,\\n',\n",
       " b'                  \"lng\" : 0.148271\\n',\n",
       " b'               },\\n',\n",
       " b'               \"southwest\" : {\\n',\n",
       " b'                  \"lat\" : 51.38494009999999,\\n',\n",
       " b'                  \"lng\" : -0.3514683\\n',\n",
       " b'               }\\n',\n",
       " b'            },\\n',\n",
       " b'            \"location\" : {\\n',\n",
       " b'               \"lat\" : 51.5073509,\\n',\n",
       " b'               \"lng\" : -0.1277583\\n',\n",
       " b'            },\\n',\n",
       " b'            \"location_type\" : \"APPROXIMATE\",\\n',\n",
       " b'            \"viewport\" : {\\n',\n",
       " b'               \"northeast\" : {\\n',\n",
       " b'                  \"lat\" : 51.6723432,\\n',\n",
       " b'                  \"lng\" : 0.148271\\n',\n",
       " b'               },\\n',\n",
       " b'               \"southwest\" : {\\n',\n",
       " b'                  \"lat\" : 51.38494009999999,\\n',\n",
       " b'                  \"lng\" : -0.3514683\\n',\n",
       " b'               }\\n',\n",
       " b'            }\\n',\n",
       " b'         },\\n',\n",
       " b'         \"place_id\" : \"ChIJdd4hrwug2EcRmSrV3Vo6llI\",\\n',\n",
       " b'         \"types\" : [ \"locality\", \"political\" ]\\n',\n",
       " b'      }\\n',\n",
       " b'   ],\\n',\n",
       " b'   \"status\" : \"OK\"\\n',\n",
       " b'}\\n']"
      ]
     },
     "execution_count": 11,
     "metadata": {},
     "output_type": "execute_result"
    }
   ],
   "source": [
    "tmp"
   ]
  },
  {
   "cell_type": "markdown",
   "metadata": {},
   "source": [
    "___"
   ]
  },
  {
   "cell_type": "markdown",
   "metadata": {},
   "source": [
    "Repeat the similar procedure for customer sets, within 15km radius of the destination, London for instance.\n",
    "Store coordinates too will be stored in the list."
   ]
  },
  {
   "cell_type": "code",
   "execution_count": 12,
   "metadata": {},
   "outputs": [],
   "source": [
    "restaurant = ['restaurant']\n",
    "pioneer = ['university', 'waterstones', 'starbucks']\n",
    "tourist = ['hotel', 'attraction']\n",
    "hang_out = ['cinema', 'club']"
   ]
  },
  {
   "cell_type": "code",
   "execution_count": 13,
   "metadata": {},
   "outputs": [],
   "source": [
    "restaurant_loc = []\n",
    "pioneer_loc = []\n",
    "tourist_loc = []\n",
    "hang_out_loc = []"
   ]
  },
  {
   "cell_type": "code",
   "execution_count": 14,
   "metadata": {},
   "outputs": [],
   "source": [
    "search_url = 'https://maps.googleapis.com/maps/api/place/radarsearch/json?location='\n",
    "search_range = '&radius=15000&name=' #radius in metre"
   ]
  },
  {
   "cell_type": "code",
   "execution_count": 15,
   "metadata": {},
   "outputs": [],
   "source": [
    "def search(target, target_loc):\n",
    "    for i in range(len(target)):\n",
    "        url = (search_url+str(city_coord)[1:-1]+search_range+target[i]+key).replace(' ','')\n",
    "        tmp = urlopen(url).readlines()\n",
    "    for k in range(len(tmp)):\n",
    "        if 'location' in str(tmp[k]):\n",
    "            coordinate = (float(re.sub('[a-z\\:\\\\\\,\\'\" ]','',str(tmp[k+1])))), (float(re.sub('[a-z\\:\\\\\\,\\'\" ]','',str(tmp[k+2]))))\n",
    "            target_loc.append(coordinate)"
   ]
  },
  {
   "cell_type": "code",
   "execution_count": 16,
   "metadata": {},
   "outputs": [],
   "source": [
    "search(restaurant,restaurant_loc)\n",
    "search(pioneer,pioneer_loc)\n",
    "search(tourist,tourist_loc)\n",
    "search(hang_out,hang_out_loc)\n"
   ]
  },
  {
   "cell_type": "markdown",
   "metadata": {},
   "source": [
    "The below sample code for gmaps returns google map with a heat map layer over it, using the location information retrieved."
   ]
  },
  {
   "cell_type": "code",
   "execution_count": 31,
   "metadata": {
    "scrolled": false
   },
   "outputs": [
    {
     "data": {
      "application/vnd.jupyter.widget-view+json": {
       "model_id": "4f3be6bee3584230a88ddc7e5a6a636c",
       "version_major": 2,
       "version_minor": 0
      },
      "text/html": [
       "<p>Failed to display Jupyter Widget of type <code>Figure</code>.</p>\n",
       "<p>\n",
       "  If you're reading this message in the Jupyter Notebook or JupyterLab Notebook, it may mean\n",
       "  that the widgets JavaScript is still loading. If this message persists, it\n",
       "  likely means that the widgets JavaScript library is either not installed or\n",
       "  not enabled. See the <a href=\"https://ipywidgets.readthedocs.io/en/stable/user_install.html\">Jupyter\n",
       "  Widgets Documentation</a> for setup instructions.\n",
       "</p>\n",
       "<p>\n",
       "  If you're reading this message in another frontend (for example, a static\n",
       "  rendering on GitHub or <a href=\"https://nbviewer.jupyter.org/\">NBViewer</a>),\n",
       "  it may mean that your frontend doesn't currently support widgets.\n",
       "</p>\n"
      ],
      "text/plain": [
       "Figure(layout=FigureLayout(height='420px'))"
      ]
     },
     "metadata": {},
     "output_type": "display_data"
    }
   ],
   "source": [
    "gmaps.configure(api_key=key)\n",
    "\n",
    "# call for resturant heatmap centered on London coordinate\n",
    "restaurant_map = gmaps.figure(center=city_coord, zoom_level = 12)\n",
    "restaurant_heatmap_layer = gmaps.heatmap_layer(restaurant_loc, point_radius = 15)\n",
    "restaurant_map.add_layer(restaurant_heatmap_layer)\n",
    "restaurant_map"
   ]
  },
  {
   "cell_type": "markdown",
   "metadata": {},
   "source": [
    "![alt text](restaurant_map.png)\n",
    "static version of gmaps output"
   ]
  },
  {
   "cell_type": "code",
   "execution_count": 30,
   "metadata": {
    "scrolled": false
   },
   "outputs": [
    {
     "data": {
      "application/vnd.jupyter.widget-view+json": {
       "model_id": "9a7a834dfd9e4b5696ad153d5496447c",
       "version_major": 2,
       "version_minor": 0
      },
      "text/html": [
       "<p>Failed to display Jupyter Widget of type <code>Figure</code>.</p>\n",
       "<p>\n",
       "  If you're reading this message in the Jupyter Notebook or JupyterLab Notebook, it may mean\n",
       "  that the widgets JavaScript is still loading. If this message persists, it\n",
       "  likely means that the widgets JavaScript library is either not installed or\n",
       "  not enabled. See the <a href=\"https://ipywidgets.readthedocs.io/en/stable/user_install.html\">Jupyter\n",
       "  Widgets Documentation</a> for setup instructions.\n",
       "</p>\n",
       "<p>\n",
       "  If you're reading this message in another frontend (for example, a static\n",
       "  rendering on GitHub or <a href=\"https://nbviewer.jupyter.org/\">NBViewer</a>),\n",
       "  it may mean that your frontend doesn't currently support widgets.\n",
       "</p>\n"
      ],
      "text/plain": [
       "Figure(layout=FigureLayout(height='420px'))"
      ]
     },
     "metadata": {},
     "output_type": "display_data"
    }
   ],
   "source": [
    "# call for pioneer heatmap centered on London coordinate\n",
    "pioneer_map = gmaps.figure(center=city_coord, zoom_level = 12)\n",
    "pioneer_heatmap_layer = gmaps.heatmap_layer(pioneer_loc, point_radius = 20)\n",
    "pioneer_map.add_layer(pioneer_heatmap_layer)\n",
    "pioneer_map"
   ]
  },
  {
   "cell_type": "markdown",
   "metadata": {},
   "source": [
    "![alt text](pioneer_map.png)\n",
    "static version of gmaps output"
   ]
  },
  {
   "cell_type": "code",
   "execution_count": 33,
   "metadata": {},
   "outputs": [
    {
     "data": {
      "application/vnd.jupyter.widget-view+json": {
       "model_id": "f293975178a844c49a7c2d8da26e5178",
       "version_major": 2,
       "version_minor": 0
      },
      "text/html": [
       "<p>Failed to display Jupyter Widget of type <code>Figure</code>.</p>\n",
       "<p>\n",
       "  If you're reading this message in the Jupyter Notebook or JupyterLab Notebook, it may mean\n",
       "  that the widgets JavaScript is still loading. If this message persists, it\n",
       "  likely means that the widgets JavaScript library is either not installed or\n",
       "  not enabled. See the <a href=\"https://ipywidgets.readthedocs.io/en/stable/user_install.html\">Jupyter\n",
       "  Widgets Documentation</a> for setup instructions.\n",
       "</p>\n",
       "<p>\n",
       "  If you're reading this message in another frontend (for example, a static\n",
       "  rendering on GitHub or <a href=\"https://nbviewer.jupyter.org/\">NBViewer</a>),\n",
       "  it may mean that your frontend doesn't currently support widgets.\n",
       "</p>\n"
      ],
      "text/plain": [
       "Figure(layout=FigureLayout(height='420px'))"
      ]
     },
     "metadata": {},
     "output_type": "display_data"
    }
   ],
   "source": [
    "# call for tourist heatmap centered on London coordinate\n",
    "tourist_map = gmaps.figure(center=city_coord, zoom_level = 12)\n",
    "tourist_heatmap_layer = gmaps.heatmap_layer(tourist_loc, point_radius = 20)\n",
    "tourist_map.add_layer(tourist_heatmap_layer)\n",
    "tourist_map"
   ]
  },
  {
   "cell_type": "markdown",
   "metadata": {},
   "source": [
    "![alt text](tourist_map.png)\n",
    "static version of gmaps output"
   ]
  },
  {
   "cell_type": "code",
   "execution_count": 36,
   "metadata": {},
   "outputs": [
    {
     "data": {
      "application/vnd.jupyter.widget-view+json": {
       "model_id": "417bfe65c60243fe9ad56a438d9b9d45",
       "version_major": 2,
       "version_minor": 0
      },
      "text/html": [
       "<p>Failed to display Jupyter Widget of type <code>Figure</code>.</p>\n",
       "<p>\n",
       "  If you're reading this message in the Jupyter Notebook or JupyterLab Notebook, it may mean\n",
       "  that the widgets JavaScript is still loading. If this message persists, it\n",
       "  likely means that the widgets JavaScript library is either not installed or\n",
       "  not enabled. See the <a href=\"https://ipywidgets.readthedocs.io/en/stable/user_install.html\">Jupyter\n",
       "  Widgets Documentation</a> for setup instructions.\n",
       "</p>\n",
       "<p>\n",
       "  If you're reading this message in another frontend (for example, a static\n",
       "  rendering on GitHub or <a href=\"https://nbviewer.jupyter.org/\">NBViewer</a>),\n",
       "  it may mean that your frontend doesn't currently support widgets.\n",
       "</p>\n"
      ],
      "text/plain": [
       "Figure(layout=FigureLayout(height='420px'))"
      ]
     },
     "metadata": {},
     "output_type": "display_data"
    }
   ],
   "source": [
    "# call for hang_out heatmap centered on London coordinate\n",
    "hang_out_map = gmaps.figure(center=city_coord, zoom_level = 12)\n",
    "hang_out_heatmap_layer = gmaps.heatmap_layer(hang_out_loc, point_radius = 20)\n",
    "hang_out_map.add_layer(hang_out_heatmap_layer)\n",
    "hang_out_map"
   ]
  },
  {
   "cell_type": "markdown",
   "metadata": {},
   "source": [
    "![alt text](hang_out_map.png)\n",
    "static version of gmaps output"
   ]
  },
  {
   "cell_type": "code",
   "execution_count": 37,
   "metadata": {
    "scrolled": false
   },
   "outputs": [
    {
     "data": {
      "application/vnd.jupyter.widget-view+json": {
       "model_id": "41e4e84f21a5409cba85869a6e49c5d3",
       "version_major": 2,
       "version_minor": 0
      },
      "text/html": [
       "<p>Failed to display Jupyter Widget of type <code>Figure</code>.</p>\n",
       "<p>\n",
       "  If you're reading this message in the Jupyter Notebook or JupyterLab Notebook, it may mean\n",
       "  that the widgets JavaScript is still loading. If this message persists, it\n",
       "  likely means that the widgets JavaScript library is either not installed or\n",
       "  not enabled. See the <a href=\"https://ipywidgets.readthedocs.io/en/stable/user_install.html\">Jupyter\n",
       "  Widgets Documentation</a> for setup instructions.\n",
       "</p>\n",
       "<p>\n",
       "  If you're reading this message in another frontend (for example, a static\n",
       "  rendering on GitHub or <a href=\"https://nbviewer.jupyter.org/\">NBViewer</a>),\n",
       "  it may mean that your frontend doesn't currently support widgets.\n",
       "</p>\n"
      ],
      "text/plain": [
       "Figure(layout=FigureLayout(height='420px'))"
      ]
     },
     "metadata": {},
     "output_type": "display_data"
    }
   ],
   "source": [
    "# call for overall heatmap centered on London coordinate\n",
    "\n",
    "overall_loc = restaurant_loc + pioneer_loc + tourist_loc + hang_out_loc\n",
    "\n",
    "overall_map = gmaps.figure(center=city_coord, zoom_level = 12)\n",
    "overall_heatmap_layer = gmaps.heatmap_layer(overall_loc, point_radius = 13)\n",
    "overall_map.add_layer(overall_heatmap_layer)\n",
    "overall_map"
   ]
  },
  {
   "cell_type": "markdown",
   "metadata": {},
   "source": [
    "![alt text](overall_map.png)\n",
    "static version of gmaps output"
   ]
  },
  {
   "cell_type": "markdown",
   "metadata": {},
   "source": [
    "In sum, I could suggest following locations for business expansion;\n",
    "1. Kensington Place\n",
    "2. XOYO\n",
    "3. Bank(City of London)\n",
    "4. South of London Bridge\n",
    "5. Marylebone - Covent Garden - Piccadilly Circus\n"
   ]
  }
 ],
 "metadata": {
  "kernelspec": {
   "display_name": "Python 3",
   "language": "python",
   "name": "python3"
  },
  "language_info": {
   "codemirror_mode": {
    "name": "ipython",
    "version": 3
   },
   "file_extension": ".py",
   "mimetype": "text/x-python",
   "name": "python",
   "nbconvert_exporter": "python",
   "pygments_lexer": "ipython3",
   "version": "3.6.4"
  }
 },
 "nbformat": 4,
 "nbformat_minor": 2
}
