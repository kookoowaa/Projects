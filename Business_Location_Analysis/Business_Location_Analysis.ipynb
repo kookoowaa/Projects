{
 "cells": [
  {
   "cell_type": "markdown",
   "metadata": {},
   "source": [
    "# Business Location Analysis\n",
    "\n"
   ]
  },
  {
   "cell_type": "markdown",
   "metadata": {},
   "source": [
    "<div style=\"text-align: right\"> first drafted on 2016-07-11 </div>\n",
    "<div style=\"text-align: right\"> last updated on 2018-05-31 </div>"
   ]
  },
  {
   "cell_type": "markdown",
   "metadata": {},
   "source": [
    "*It is a critical question to many business where to open and operate its offline spaces. Especially when a business is pursuing an expansion to places not so familiar to, researching and making a decision on where to locate can be a very difficult problem. I have had a similar concerns as a strategist, and came up with a simple alternative that helped me to make reasonable data-driven decision making.*"
   ]
  },
  {
   "cell_type": "markdown",
   "metadata": {},
   "source": [
    "The logic is simple;\n",
    " \n",
    "<br> \n",
    "<b>&nbsp;&nbsp;&nbsp;&nbsp;*'You want to do business from where your customers are.'*</b>\n",
    "\n",
    "\n",
    "<br>\n",
    "In order to find such a location, the following procedure has been taken from this analysis:\n",
    "\n",
    "1. Define customers - Define sets of customers, which the business is targeting to. The purpose of business, marketing, and strategy all come in to play. If appripriate, apply STP to each set of customer.\n",
    "2. Define sets - For each heterogeneous set of customers, allocation of brand or landmark that can represent characteristics of the set. It can be popular brand(shop), public places, or anything that can be searched on google map.\n",
    "3. Find on google - Google web api provides geocode for your search query. Geocode for each keyword location can be retrieved.\n",
    "4. Plot on map - Now that each location information is given, plot heatmap layer on google map with the help of package 'gmaps'. It can be done separately by each set of customers, or as a whole.\n",
    "\n",
    "<br>\n",
    "___\n",
    "For example, *a restaurant franchise seeking an international expansion* into London, UK may take the following procedure:\n",
    "\n",
    "1. Define customers\n",
    " - Curious customers seeking for new things to try with fellows, with mid-upper range income to spare on dinning experience.\n",
    "2. Define sets\n",
    " - Restaurant(restaurant) \n",
    " - Pioneers (university, waterstones, )\n",
    " - Thick wallet (starbucks, apple store, debenhams) \n",
    " - Hang out (cinema, club)\n",
    "3. Find on google\n",
    "4. plot on map\n",
    "___"
   ]
  },
  {
   "cell_type": "markdown",
   "metadata": {},
   "source": [
    "The libraries used for this project are as follows;\n",
    "\n",
    "- *re* for pattern & string process\n",
    "\n",
    "- *gmaps* for Google maps API\n",
    "\n",
    "- *urllib* for Google API and data crawling\n",
    "\n"
   ]
  },
  {
   "cell_type": "code",
   "execution_count": 1,
   "metadata": {},
   "outputs": [],
   "source": [
    "from urllib.request import urlopen\n",
    "import gmaps\n",
    "import re"
   ]
  },
  {
   "cell_type": "markdown",
   "metadata": {},
   "source": [
    "Define target city and retrieve geocode using google api"
   ]
  },
  {
   "cell_type": "code",
   "execution_count": 2,
   "metadata": {},
   "outputs": [],
   "source": [
    "city = 'London'\n",
    "\n",
    "city_url = 'https://maps.googleapis.com/maps/api/geocode/json?address='\n",
    "key = \"Your Key here\""
   ]
  },
  {
   "cell_type": "code",
   "execution_count": 3,
   "metadata": {},
   "outputs": [
    {
     "data": {
      "text/plain": [
       "'51.5073509, -0.1277583'"
      ]
     },
     "execution_count": 3,
     "metadata": {},
     "output_type": "execute_result"
    }
   ],
   "source": [
    "url = urlopen(city_url+city+key)\n",
    "tmp = url.readlines()\n",
    "for i in range(len(tmp)):\n",
    "    if '\"location\"' in str(tmp[i]):\n",
    "        city_coord =(float(re.sub('[a-z\\ \":\\',\\\\\\]*','',str(tmp[i+1]))), float(re.sub('[a-z\\ \":\\',\\\\\\]*','',str(tmp[i+2]))))\n",
    "str(city_coord)[1:-1]"
   ]
  },
  {
   "cell_type": "markdown",
   "metadata": {},
   "source": [
    "If you look into the data retrieved, it contains a number of location informations as follows;"
   ]
  },
  {
   "cell_type": "code",
   "execution_count": 4,
   "metadata": {
    "scrolled": true
   },
   "outputs": [
    {
     "data": {
      "text/plain": [
       "[b'{\\n',\n",
       " b'   \"results\" : [\\n',\n",
       " b'      {\\n',\n",
       " b'         \"address_components\" : [\\n',\n",
       " b'            {\\n',\n",
       " b'               \"long_name\" : \"London\",\\n',\n",
       " b'               \"short_name\" : \"London\",\\n',\n",
       " b'               \"types\" : [ \"locality\", \"political\" ]\\n',\n",
       " b'            },\\n',\n",
       " b'            {\\n',\n",
       " b'               \"long_name\" : \"London\",\\n',\n",
       " b'               \"short_name\" : \"London\",\\n',\n",
       " b'               \"types\" : [ \"postal_town\" ]\\n',\n",
       " b'            },\\n',\n",
       " b'            {\\n',\n",
       " b'               \"long_name\" : \"Greater London\",\\n',\n",
       " b'               \"short_name\" : \"Greater London\",\\n',\n",
       " b'               \"types\" : [ \"administrative_area_level_2\", \"political\" ]\\n',\n",
       " b'            },\\n',\n",
       " b'            {\\n',\n",
       " b'               \"long_name\" : \"England\",\\n',\n",
       " b'               \"short_name\" : \"England\",\\n',\n",
       " b'               \"types\" : [ \"administrative_area_level_1\", \"political\" ]\\n',\n",
       " b'            },\\n',\n",
       " b'            {\\n',\n",
       " b'               \"long_name\" : \"United Kingdom\",\\n',\n",
       " b'               \"short_name\" : \"GB\",\\n',\n",
       " b'               \"types\" : [ \"country\", \"political\" ]\\n',\n",
       " b'            }\\n',\n",
       " b'         ],\\n',\n",
       " b'         \"formatted_address\" : \"London, UK\",\\n',\n",
       " b'         \"geometry\" : {\\n',\n",
       " b'            \"bounds\" : {\\n',\n",
       " b'               \"northeast\" : {\\n',\n",
       " b'                  \"lat\" : 51.6723432,\\n',\n",
       " b'                  \"lng\" : 0.148271\\n',\n",
       " b'               },\\n',\n",
       " b'               \"southwest\" : {\\n',\n",
       " b'                  \"lat\" : 51.38494009999999,\\n',\n",
       " b'                  \"lng\" : -0.3514683\\n',\n",
       " b'               }\\n',\n",
       " b'            },\\n',\n",
       " b'            \"location\" : {\\n',\n",
       " b'               \"lat\" : 51.5073509,\\n',\n",
       " b'               \"lng\" : -0.1277583\\n',\n",
       " b'            },\\n',\n",
       " b'            \"location_type\" : \"APPROXIMATE\",\\n',\n",
       " b'            \"viewport\" : {\\n',\n",
       " b'               \"northeast\" : {\\n',\n",
       " b'                  \"lat\" : 51.6723432,\\n',\n",
       " b'                  \"lng\" : 0.148271\\n',\n",
       " b'               },\\n',\n",
       " b'               \"southwest\" : {\\n',\n",
       " b'                  \"lat\" : 51.38494009999999,\\n',\n",
       " b'                  \"lng\" : -0.3514683\\n',\n",
       " b'               }\\n',\n",
       " b'            }\\n',\n",
       " b'         },\\n',\n",
       " b'         \"place_id\" : \"ChIJdd4hrwug2EcRmSrV3Vo6llI\",\\n',\n",
       " b'         \"types\" : [ \"locality\", \"political\" ]\\n',\n",
       " b'      }\\n',\n",
       " b'   ],\\n',\n",
       " b'   \"status\" : \"OK\"\\n',\n",
       " b'}\\n']"
      ]
     },
     "execution_count": 4,
     "metadata": {},
     "output_type": "execute_result"
    }
   ],
   "source": [
    "tmp"
   ]
  },
  {
   "cell_type": "markdown",
   "metadata": {},
   "source": [
    "___"
   ]
  },
  {
   "cell_type": "markdown",
   "metadata": {},
   "source": [
    "Repeat the similar procedure for customer sets, within certain radius of the destination, London for instance.\n",
    "Store coordinates in lists."
   ]
  },
  {
   "cell_type": "code",
   "execution_count": 5,
   "metadata": {},
   "outputs": [],
   "source": [
    "restaurant = ['restaurant']\n",
    "pioneer = ['university', 'waterstones']\n",
    "thick_wallet = ['starbucks', 'apple store', 'debenhams']\n",
    "hang_out = ['cinema', 'club']"
   ]
  },
  {
   "cell_type": "code",
   "execution_count": 6,
   "metadata": {},
   "outputs": [],
   "source": [
    "restaurant_loc = []\n",
    "pioneer_loc = []\n",
    "thick_wallet_loc = []\n",
    "hang_out_loc = []"
   ]
  },
  {
   "cell_type": "code",
   "execution_count": 7,
   "metadata": {},
   "outputs": [],
   "source": [
    "search_url = 'https://maps.googleapis.com/maps/api/place/nearbysearch/json?location='\n",
    "search_range = '&radius=50000&name=' #radius in metre"
   ]
  },
  {
   "cell_type": "code",
   "execution_count": 8,
   "metadata": {},
   "outputs": [],
   "source": [
    "def search(target, target_loc):\n",
    "    for i in range(len(target)):\n",
    "        url = (search_url+str(city_coord)[1:-1]+search_range+target[i]+key).replace(' ','')\n",
    "        tmp = urlopen(url).readlines()\n",
    "    for k in range(len(tmp)):\n",
    "        if 'location' in str(tmp[k]):\n",
    "            coordinate = (float(re.sub('[a-z\\:\\\\\\,\\'\" ]','',str(tmp[k+1])))), (float(re.sub('[a-z\\:\\\\\\,\\'\" ]','',str(tmp[k+2]))))\n",
    "            target_loc.append(coordinate)"
   ]
  },
  {
   "cell_type": "code",
   "execution_count": 9,
   "metadata": {},
   "outputs": [],
   "source": [
    "search(restaurant,restaurant_loc)\n",
    "search(pioneer,pioneer_loc)\n",
    "search(thick_wallet,thick_wallet_loc)\n",
    "search(hang_out,hang_out_loc)\n"
   ]
  },
  {
   "cell_type": "code",
   "execution_count": null,
   "metadata": {},
   "outputs": [],
   "source": []
  },
  {
   "cell_type": "code",
   "execution_count": 10,
   "metadata": {},
   "outputs": [
    {
     "data": {
      "application/vnd.jupyter.widget-view+json": {
       "model_id": "819a7ebc02244add951b0a4846cff68f",
       "version_major": 2,
       "version_minor": 0
      },
      "text/html": [
       "<p>Failed to display Jupyter Widget of type <code>Figure</code>.</p>\n",
       "<p>\n",
       "  If you're reading this message in the Jupyter Notebook or JupyterLab Notebook, it may mean\n",
       "  that the widgets JavaScript is still loading. If this message persists, it\n",
       "  likely means that the widgets JavaScript library is either not installed or\n",
       "  not enabled. See the <a href=\"https://ipywidgets.readthedocs.io/en/stable/user_install.html\">Jupyter\n",
       "  Widgets Documentation</a> for setup instructions.\n",
       "</p>\n",
       "<p>\n",
       "  If you're reading this message in another frontend (for example, a static\n",
       "  rendering on GitHub or <a href=\"https://nbviewer.jupyter.org/\">NBViewer</a>),\n",
       "  it may mean that your frontend doesn't currently support widgets.\n",
       "</p>\n"
      ],
      "text/plain": [
       "Figure(layout=FigureLayout(height='420px'))"
      ]
     },
     "metadata": {},
     "output_type": "display_data"
    }
   ],
   "source": [
    "# gmap 기본 세팅 호출\n",
    "gmaps.configure(api_key=key)\n",
    "\n",
    "# 두꺼운 지갑들이 찾는 상권 분포도\n",
    "restaurant_map = gmaps.figure(center=city_coord, zoom_level = 12)\n",
    "restaurant_heatmap_layer = gmaps.heatmap_layer(restaurant_loc, point_radius = 30)\n",
    "restaurant_map.add_layer(restaurant_heatmap_layer)\n",
    "restaurant_map"
   ]
  },
  {
   "cell_type": "code",
   "execution_count": null,
   "metadata": {},
   "outputs": [],
   "source": []
  },
  {
   "cell_type": "code",
   "execution_count": null,
   "metadata": {},
   "outputs": [],
   "source": []
  },
  {
   "cell_type": "markdown",
   "metadata": {},
   "source": [
    "b. 마케팅 stp 별로 브랜드의 입지 좌표 확보"
   ]
  },
  {
   "cell_type": "code",
   "execution_count": 5,
   "metadata": {
    "collapsed": true
   },
   "outputs": [],
   "source": [
    "# 좌표 변수 생성\n",
    "TW_coordinates = []\n",
    "TS_coordinates = []\n",
    "YS_coordinates = []\n",
    "UP_coordinates = []\n",
    "SUM_coordinates = []\n",
    "\n",
    "# 구글 API에 요청하기 위한 주소 양식 생성\n",
    "search_url = 'https://maps.googleapis.com/maps/api/place/nearbysearch/json?location='\n",
    "search_mid = '&radius=50000&name='    # 넓은 범위 조사 시 radius 값 조정(단위: m)\n",
    "\n",
    "# 구글 api를 활용하여 표적 브랜드의 좌표 확보 후 좌표변수에 할당\n",
    "for i in range(len(thick_wallet)):\n",
    "    url = (search_url+str(city_coord)[1:-1]+search_mid+thick_wallet[i]+key).replace(' ','')\n",
    "    tmp = urlopen(url).readlines()\n",
    "    for k in range(len(tmp)):\n",
    "        if 'location' in str(tmp[k]):\n",
    "            coordinate = (float(re.sub('[a-z\\:\\\\\\,\\'\" ]','',str(tmp[k+1])))), (float(re.sub('[a-z\\:\\\\\\,\\'\" ]','',str(tmp[k+2]))))\n",
    "            TW_coordinates.append(coordinate)\n",
    "\n",
    "for i in range(len(trend_setter)):\n",
    "    url = (search_url+str(city_coord)[1:-1]+search_mid+trend_setter[i]+key).replace(' ','')\n",
    "    tmp = urlopen(url).readlines()\n",
    "    for k in range(len(tmp)):\n",
    "        if 'location' in str(tmp[k]):\n",
    "            coordinate = (float(re.sub('[a-z\\:\\\\\\,\\'\" ]','',str(tmp[k+1])))), (float(re.sub('[a-z\\:\\\\\\,\\'\" ]','',str(tmp[k+2]))))\n",
    "            TS_coordinates.append(coordinate)\n",
    "            \n",
    "for i in range(len(young_student)):\n",
    "    url = (search_url+str(city_coord)[1:-1]+search_mid+young_student[i]+key).replace(' ','')\n",
    "    tmp = urlopen(url).readlines()\n",
    "    for k in range(len(tmp)):\n",
    "        if 'location' in str(tmp[k]):\n",
    "            coordinate = (float(re.sub('[a-z\\:\\\\\\,\\'\" ]','',str(tmp[k+1])))), (float(re.sub('[a-z\\:\\\\\\,\\'\" ]','',str(tmp[k+2]))))\n",
    "            YS_coordinates.append(coordinate)\n",
    "            \n",
    "for i in range(len(urban_population)):\n",
    "    url = (search_url+str(city_coord)[1:-1]+search_mid+urban_population[i]+key).replace(' ','')\n",
    "    tmp = urlopen(url).readlines()\n",
    "    for k in range(len(tmp)):\n",
    "        if 'location' in str(tmp[k]):\n",
    "            coordinate = (float(re.sub('[a-z\\:\\\\\\,\\'\" ]','',str(tmp[k+1])))), (float(re.sub('[a-z\\:\\\\\\,\\'\" ]','',str(tmp[k+2]))))\n",
    "            UP_coordinates.append(coordinate)\n",
    "            \n",
    "SUM_coordinates = TW_coordinates + TS_coordinates + YS_coordinates + UP_coordinates"
   ]
  },
  {
   "cell_type": "markdown",
   "metadata": {},
   "source": [
    "c. gmap 라이브러리를 활용하여 표적 도시 내 상권 분포 표시"
   ]
  },
  {
   "cell_type": "code",
   "execution_count": 6,
   "metadata": {},
   "outputs": [
    {
     "data": {
      "text/plain": [
       "[(36.3414912, 138.6367599),\n",
       " (36.2310581, 137.9645603),\n",
       " (36.6447253, 138.1881159),\n",
       " (36.23314939999999, 137.9554178),\n",
       " (36.1898041, 137.964001),\n",
       " (36.2399189, 137.9807163),\n",
       " (36.0303633, 138.1207761),\n",
       " (36.0269926, 138.0778445),\n",
       " (36.3928, 138.2577739),\n",
       " (35.8288026, 137.9689326),\n",
       " (36.233803, 137.9781522),\n",
       " (35.828887, 137.9689647),\n",
       " (36.5085755, 138.1340375),\n",
       " (36.2199852, 137.9768205),\n",
       " (36.3419297, 138.7397249),\n",
       " (36.2757014, 138.4640172),\n",
       " (36.0656415, 138.0523401),\n",
       " (36.2704636, 137.932108),\n",
       " (36.6434372, 138.1881635),\n",
       " (36.399297, 138.2443014),\n",
       " (36.23045820000001, 137.9649242),\n",
       " (36.64393889999999, 138.1889383),\n",
       " (36.231756, 137.9782059),\n",
       " (36.222151, 137.959867),\n",
       " (36.6368397, 138.1810196),\n",
       " (36.6454387, 138.1893021),\n",
       " (36.2333662, 137.9663294),\n",
       " (36.3955518, 138.2499167),\n",
       " (36.184307, 137.8929493),\n",
       " (36.644975, 138.188608),\n",
       " (36.2298159, 137.9680119),\n",
       " (36.65307, 138.1878368),\n",
       " (35.839374, 137.9599404)]"
      ]
     },
     "execution_count": 6,
     "metadata": {},
     "output_type": "execute_result"
    }
   ],
   "source": [
    "TW_coordinates"
   ]
  },
  {
   "cell_type": "code",
   "execution_count": 7,
   "metadata": {},
   "outputs": [
    {
     "data": {
      "application/vnd.jupyter.widget-view+json": {
       "model_id": "e8b1b82963674f04abae4c1915501c40",
       "version_major": 2,
       "version_minor": 0
      },
      "text/html": [
       "<p>Failed to display Jupyter Widget of type <code>Figure</code>.</p>\n",
       "<p>\n",
       "  If you're reading this message in the Jupyter Notebook or JupyterLab Notebook, it may mean\n",
       "  that the widgets JavaScript is still loading. If this message persists, it\n",
       "  likely means that the widgets JavaScript library is either not installed or\n",
       "  not enabled. See the <a href=\"https://ipywidgets.readthedocs.io/en/stable/user_install.html\">Jupyter\n",
       "  Widgets Documentation</a> for setup instructions.\n",
       "</p>\n",
       "<p>\n",
       "  If you're reading this message in another frontend (for example, a static\n",
       "  rendering on GitHub or <a href=\"https://nbviewer.jupyter.org/\">NBViewer</a>),\n",
       "  it may mean that your frontend doesn't currently support widgets.\n",
       "</p>\n"
      ],
      "text/plain": [
       "Figure(layout=FigureLayout(height='420px'))"
      ]
     },
     "metadata": {},
     "output_type": "display_data"
    }
   ],
   "source": [
    "# gmap 기본 세팅 호출\n",
    "gmaps.configure(api_key=key)\n",
    "\n",
    "# 두꺼운 지갑들이 찾는 상권 분포도\n",
    "TW_map = gmaps.figure(center=city_coord, zoom_level = 12)\n",
    "TW_heatmap_layer = gmaps.heatmap_layer(TW_coordinates, point_radius = 30)\n",
    "TW_map.add_layer(TW_heatmap_layer)\n",
    "TW_map"
   ]
  },
  {
   "cell_type": "markdown",
   "metadata": {},
   "source": [
    "- 경제력이 있는 소비자들이 주로 찾는 상권은 상해 서남쪽에 주로 분포 (지하철 1호선, 2호선, 4호선, 7호선, 10호선 인근)"
   ]
  },
  {
   "cell_type": "code",
   "execution_count": 8,
   "metadata": {},
   "outputs": [
    {
     "data": {
      "application/vnd.jupyter.widget-view+json": {
       "model_id": "2b4492dabc114f4aa3afc85763e3c284",
       "version_major": 2,
       "version_minor": 0
      },
      "text/html": [
       "<p>Failed to display Jupyter Widget of type <code>Figure</code>.</p>\n",
       "<p>\n",
       "  If you're reading this message in Jupyter Notebook or JupyterLab, it may mean\n",
       "  that the widgets JavaScript is still loading. If this message persists, it\n",
       "  likely means that the widgets JavaScript library is either not installed or\n",
       "  not enabled. See the <a href=\"https://ipywidgets.readthedocs.io/en/stable/user_install.html\">Jupyter\n",
       "  Widgets Documentation</a> for setup instructions.\n",
       "</p>\n",
       "<p>\n",
       "  If you're reading this message in another notebook frontend (for example, a static\n",
       "  rendering on GitHub or <a href=\"https://nbviewer.jupyter.org/\">NBViewer</a>),\n",
       "  it may mean that your frontend doesn't currently support widgets.\n",
       "</p>\n"
      ],
      "text/plain": [
       "Figure()"
      ]
     },
     "metadata": {},
     "output_type": "display_data"
    }
   ],
   "source": [
    "# 트렌더 세터들이 찾는 상권 분포도\n",
    "TS_map = gmaps.figure(center=city_coord, zoom_level = 12)\n",
    "TS_heatmap_layer = gmaps.heatmap_layer(TS_coordinates, point_radius = 30)\n",
    "TS_map.add_layer(TS_heatmap_layer)\n",
    "TS_map"
   ]
  },
  {
   "cell_type": "markdown",
   "metadata": {},
   "source": [
    "- 신문물에 관심이 많은 소비자들이 주로 찾는 상권은 상해 중심부의 북서부에 주로 분포 (지하철 1호선, 2호선, 4호선, 10호선 인근)"
   ]
  },
  {
   "cell_type": "code",
   "execution_count": 13,
   "metadata": {},
   "outputs": [
    {
     "data": {
      "application/vnd.jupyter.widget-view+json": {
       "model_id": "9ba8850b4bed417abcbad5431996c104",
       "version_major": 2,
       "version_minor": 0
      },
      "text/html": [
       "<p>Failed to display Jupyter Widget of type <code>Figure</code>.</p>\n",
       "<p>\n",
       "  If you're reading this message in Jupyter Notebook or JupyterLab, it may mean\n",
       "  that the widgets JavaScript is still loading. If this message persists, it\n",
       "  likely means that the widgets JavaScript library is either not installed or\n",
       "  not enabled. See the <a href=\"https://ipywidgets.readthedocs.io/en/stable/user_install.html\">Jupyter\n",
       "  Widgets Documentation</a> for setup instructions.\n",
       "</p>\n",
       "<p>\n",
       "  If you're reading this message in another notebook frontend (for example, a static\n",
       "  rendering on GitHub or <a href=\"https://nbviewer.jupyter.org/\">NBViewer</a>),\n",
       "  it may mean that your frontend doesn't currently support widgets.\n",
       "</p>\n"
      ],
      "text/plain": [
       "Figure()"
      ]
     },
     "metadata": {},
     "output_type": "display_data"
    }
   ],
   "source": [
    "YS_map = gmaps.figure(center=city_coord, zoom_level = 12)\n",
    "YS_heatmap_layer = gmaps.heatmap_layer(YS_coordinates, point_radius = 30)\n",
    "YS_map.add_layer(YS_heatmap_layer)\n",
    "YS_map"
   ]
  },
  {
   "cell_type": "markdown",
   "metadata": {},
   "source": [
    "- 상해시 내 대학들은 상해 서쪽과 북쪽 외곽에 분포 (지하철 1호선, 8호선, 10호선 인근)"
   ]
  },
  {
   "cell_type": "code",
   "execution_count": 12,
   "metadata": {
    "scrolled": false
   },
   "outputs": [
    {
     "data": {
      "application/vnd.jupyter.widget-view+json": {
       "model_id": "d1d5bcaad1a34ac28931145abd296863",
       "version_major": 2,
       "version_minor": 0
      },
      "text/html": [
       "<p>Failed to display Jupyter Widget of type <code>Figure</code>.</p>\n",
       "<p>\n",
       "  If you're reading this message in Jupyter Notebook or JupyterLab, it may mean\n",
       "  that the widgets JavaScript is still loading. If this message persists, it\n",
       "  likely means that the widgets JavaScript library is either not installed or\n",
       "  not enabled. See the <a href=\"https://ipywidgets.readthedocs.io/en/stable/user_install.html\">Jupyter\n",
       "  Widgets Documentation</a> for setup instructions.\n",
       "</p>\n",
       "<p>\n",
       "  If you're reading this message in another notebook frontend (for example, a static\n",
       "  rendering on GitHub or <a href=\"https://nbviewer.jupyter.org/\">NBViewer</a>),\n",
       "  it may mean that your frontend doesn't currently support widgets.\n",
       "</p>\n"
      ],
      "text/plain": [
       "Figure()"
      ]
     },
     "metadata": {},
     "output_type": "display_data"
    }
   ],
   "source": [
    "UP_map = gmaps.figure(center=city_coord, zoom_level = 12)\n",
    "UP_heatmap_layer = gmaps.heatmap_layer(UP_coordinates, point_radius = 30)\n",
    "UP_map.add_layer(UP_heatmap_layer)\n",
    "UP_map"
   ]
  },
  {
   "cell_type": "markdown",
   "metadata": {},
   "source": [
    "- 중상층 주거 계층의 분포는 상당부분 고르게 되어 있으나 주로 서북쪽에 분포가 높음"
   ]
  },
  {
   "cell_type": "markdown",
   "metadata": {},
   "source": [
    "# 5. 종합"
   ]
  },
  {
   "cell_type": "markdown",
   "metadata": {},
   "source": [
    "상기 4종의 상권 분포를 종합적으로 보았을 시 아래와 같은 결과를 도출할 수 있음"
   ]
  },
  {
   "cell_type": "code",
   "execution_count": 11,
   "metadata": {},
   "outputs": [
    {
     "data": {
      "application/vnd.jupyter.widget-view+json": {
       "model_id": "1fd49190b77d4889a8c99fb21a704c84",
       "version_major": 2,
       "version_minor": 0
      },
      "text/html": [
       "<p>Failed to display Jupyter Widget of type <code>Figure</code>.</p>\n",
       "<p>\n",
       "  If you're reading this message in Jupyter Notebook or JupyterLab, it may mean\n",
       "  that the widgets JavaScript is still loading. If this message persists, it\n",
       "  likely means that the widgets JavaScript library is either not installed or\n",
       "  not enabled. See the <a href=\"https://ipywidgets.readthedocs.io/en/stable/user_install.html\">Jupyter\n",
       "  Widgets Documentation</a> for setup instructions.\n",
       "</p>\n",
       "<p>\n",
       "  If you're reading this message in another notebook frontend (for example, a static\n",
       "  rendering on GitHub or <a href=\"https://nbviewer.jupyter.org/\">NBViewer</a>),\n",
       "  it may mean that your frontend doesn't currently support widgets.\n",
       "</p>\n"
      ],
      "text/plain": [
       "Figure()"
      ]
     },
     "metadata": {},
     "output_type": "display_data"
    }
   ],
   "source": [
    "SUM_map = gmaps.figure(center=city_coord, zoom_level = 12)\n",
    "SUM_heatmap_layer = gmaps.heatmap_layer(SUM_coordinates, point_radius = 30)\n",
    "SUM_map.add_layer(SUM_heatmap_layer)\n",
    "SUM_map"
   ]
  },
  {
   "cell_type": "markdown",
   "metadata": {},
   "source": [
    "- 종합적으로 보았을 때 A급 핵심 상권은 크게 \"인민광장\", \"쉬자후이\", \"구베이\" 3군데 정도로 압축 가능    "
   ]
  },
  {
   "cell_type": "markdown",
   "metadata": {},
   "source": [
    "- 지하철 2호선, 7호선, 10호선 주변에 자원을 집중하는 것이 효율적이 될 수 있을 것으로 판단함"
   ]
  },
  {
   "cell_type": "markdown",
   "metadata": {},
   "source": [
    "- 상해 동부의 푸동 교외 지역은 현재 상권이 개발 중으로, 현재는 약하지만 임대료가 저렴하고 향후 전망이 기대되어 전략적인 검토도 고려 필요"
   ]
  }
 ],
 "metadata": {
  "kernelspec": {
   "display_name": "Python 3",
   "language": "python",
   "name": "python3"
  },
  "language_info": {
   "codemirror_mode": {
    "name": "ipython",
    "version": 3
   },
   "file_extension": ".py",
   "mimetype": "text/x-python",
   "name": "python",
   "nbconvert_exporter": "python",
   "pygments_lexer": "ipython3",
   "version": "3.6.4"
  }
 },
 "nbformat": 4,
 "nbformat_minor": 2
}
