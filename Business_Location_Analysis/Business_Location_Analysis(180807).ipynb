{
 "cells": [
  {
   "cell_type": "markdown",
   "metadata": {},
   "source": [
    "_[NOTE] **google radar search** deprecated as of July 16 2018, using **nearby search & gmplot** instead_"
   ]
  },
  {
   "cell_type": "markdown",
   "metadata": {},
   "source": [
    "# Business Location Analysis\n",
    "\n"
   ]
  },
  {
   "cell_type": "markdown",
   "metadata": {},
   "source": [
    "<div style=\"text-align: right\"> first drafted on 2016-07-11 </div>\n",
    "<div style=\"text-align: right\"> last updated on 2018-08-07 </div>"
   ]
  },
  {
   "cell_type": "markdown",
   "metadata": {},
   "source": [
    "*It is a critical question to many business where to open and operate its offline spaces. Especially when a business is pursuing an expansion to places not so familiar to, researching and making a decision on where to locate can be a very difficult problem. I have had a similar concerns as a strategist, and came up with a simple alternative that helped me to make reasonable data-driven decision making.*"
   ]
  },
  {
   "cell_type": "markdown",
   "metadata": {},
   "source": [
    "The logic is simple;\n",
    " \n",
    "<br> \n",
    "<b>&nbsp;&nbsp;&nbsp;&nbsp;*'You want to do business from where your customers are.'*</b>\n",
    "\n",
    "\n",
    "<br>\n",
    "In order to find such a location, the following procedure has been taken from this analysis:\n",
    "\n",
    "1. Define customers - Define sets of customers, which the business is targeting to. The purpose of business, marketing, and strategy all come in to play. If appripriate, apply STP to each set of customer.\n",
    "2. Define sets - For each heterogeneous set of customers, allocation of brand or landmark that can represent characteristics of the set. It can be popular brand(shop), public places, or anything that can be searched on google map. More specific, the better.\n",
    "3. Find on google - Google web API provides geocode for your search query. Geocode for each keyword location can be retrieved.\n",
    "4. Plot on map - Now that each location information is given, plot heatmap layer on google map with the help of package 'gmaps'. It can be done separately by each set of customers, or as a whole.\n",
    "\n",
    "\n",
    "- please refer to https://developers.google.com/maps/documentation/javascript/places?hl=ko#place_searches for more information on Google place API\n",
    "<br>\n",
    "___\n",
    "For example, *a restaurant franchise seeking an international expansion* into London, UK may take the following procedure:\n",
    "\n",
    "1. Define customers\n",
    " - Curious customers seeking for new things to try with fellows, with mid-upper range income to spare on dinning experience.\n",
    "2. Define sets\n",
    " - Restaurant(restaurant) \n",
    " - Pioneers (university, waterstones, starbucks)\n",
    " - Tourist (hotel, tourist attraction) \n",
    " - Hang out (cinema, club)\n",
    "3. Find on google\n",
    "4. plot on map\n",
    "___"
   ]
  },
  {
   "cell_type": "markdown",
   "metadata": {},
   "source": [
    "The libraries used for this project are as follows;\n",
    "\n",
    "- *re* for pattern & string process\n",
    "\n",
    "- *gmplot* for Google maps API\n",
    "\n",
    "- *urllib* for Google API and data crawling\n",
    "\n",
    "- ~~gmaps for Google maps API~~"
   ]
  },
  {
   "cell_type": "code",
   "execution_count": 2,
   "metadata": {},
   "outputs": [],
   "source": [
    "from urllib.request import urlopen\n",
    "import gmplot\n",
    "from IPython.display import IFrame\n",
    "import re"
   ]
  },
  {
   "cell_type": "markdown",
   "metadata": {},
   "source": [
    "Define target city and retrieve geocode using google api."
   ]
  },
  {
   "cell_type": "code",
   "execution_count": 1,
   "metadata": {
    "scrolled": true
   },
   "outputs": [],
   "source": [
    "city = 'London'\n",
    "\n",
    "city_url = 'https://maps.googleapis.com/maps/api/geocode/json?address='\n",
    "key = \"YOUR KEY HERE\""
   ]
  },
  {
   "cell_type": "code",
   "execution_count": 3,
   "metadata": {
    "scrolled": false
   },
   "outputs": [
    {
     "data": {
      "text/plain": [
       "'51.5073509, -0.1277583'"
      ]
     },
     "execution_count": 3,
     "metadata": {},
     "output_type": "execute_result"
    }
   ],
   "source": [
    "url = urlopen(city_url+city+key)\n",
    "tmp = url.readlines()\n",
    "for i in range(len(tmp)):\n",
    "    if '\"location\"' in str(tmp[i]):\n",
    "        city_coord =(float(re.sub('[a-z\\ \":\\',\\\\\\]*','',str(tmp[i+1]))), float(re.sub('[a-z\\ \":\\',\\\\\\]*','',str(tmp[i+2]))))\n",
    "str(city_coord)[1:-1]"
   ]
  },
  {
   "cell_type": "markdown",
   "metadata": {},
   "source": [
    "If you look into the data retrieved, it contains a number of location informations as follows;"
   ]
  },
  {
   "cell_type": "code",
   "execution_count": 16,
   "metadata": {
    "scrolled": true
   },
   "outputs": [
    {
     "data": {
      "text/plain": [
       "[b'{\\n',\n",
       " b'   \"results\" : [\\n',\n",
       " b'      {\\n',\n",
       " b'         \"address_components\" : [\\n',\n",
       " b'            {\\n',\n",
       " b'               \"long_name\" : \"London\",\\n',\n",
       " b'               \"short_name\" : \"London\",\\n',\n",
       " b'               \"types\" : [ \"locality\", \"political\" ]\\n',\n",
       " b'            },\\n',\n",
       " b'            {\\n',\n",
       " b'               \"long_name\" : \"London\",\\n',\n",
       " b'               \"short_name\" : \"London\",\\n',\n",
       " b'               \"types\" : [ \"postal_town\" ]\\n',\n",
       " b'            },\\n',\n",
       " b'            {\\n',\n",
       " b'               \"long_name\" : \"Greater London\",\\n',\n",
       " b'               \"short_name\" : \"Greater London\",\\n',\n",
       " b'               \"types\" : [ \"administrative_area_level_2\", \"political\" ]\\n',\n",
       " b'            },\\n',\n",
       " b'            {\\n',\n",
       " b'               \"long_name\" : \"England\",\\n',\n",
       " b'               \"short_name\" : \"England\",\\n',\n",
       " b'               \"types\" : [ \"administrative_area_level_1\", \"political\" ]\\n',\n",
       " b'            },\\n',\n",
       " b'            {\\n',\n",
       " b'               \"long_name\" : \"United Kingdom\",\\n',\n",
       " b'               \"short_name\" : \"GB\",\\n',\n",
       " b'               \"types\" : [ \"country\", \"political\" ]\\n',\n",
       " b'            }\\n',\n",
       " b'         ],\\n',\n",
       " b'         \"formatted_address\" : \"London, UK\",\\n',\n",
       " b'         \"geometry\" : {\\n',\n",
       " b'            \"bounds\" : {\\n',\n",
       " b'               \"northeast\" : {\\n',\n",
       " b'                  \"lat\" : 51.6723432,\\n',\n",
       " b'                  \"lng\" : 0.148271\\n',\n",
       " b'               },\\n',\n",
       " b'               \"southwest\" : {\\n',\n",
       " b'                  \"lat\" : 51.38494009999999,\\n',\n",
       " b'                  \"lng\" : -0.3514683\\n',\n",
       " b'               }\\n',\n",
       " b'            },\\n',\n",
       " b'            \"location\" : {\\n',\n",
       " b'               \"lat\" : 51.5073509,\\n',\n",
       " b'               \"lng\" : -0.1277583\\n',\n",
       " b'            },\\n',\n",
       " b'            \"location_type\" : \"APPROXIMATE\",\\n',\n",
       " b'            \"viewport\" : {\\n',\n",
       " b'               \"northeast\" : {\\n',\n",
       " b'                  \"lat\" : 51.6723432,\\n',\n",
       " b'                  \"lng\" : 0.148271\\n',\n",
       " b'               },\\n',\n",
       " b'               \"southwest\" : {\\n',\n",
       " b'                  \"lat\" : 51.38494009999999,\\n',\n",
       " b'                  \"lng\" : -0.3514683\\n',\n",
       " b'               }\\n',\n",
       " b'            }\\n',\n",
       " b'         },\\n',\n",
       " b'         \"place_id\" : \"ChIJdd4hrwug2EcRmSrV3Vo6llI\",\\n',\n",
       " b'         \"types\" : [ \"locality\", \"political\" ]\\n',\n",
       " b'      }\\n',\n",
       " b'   ],\\n',\n",
       " b'   \"status\" : \"OK\"\\n',\n",
       " b'}\\n']"
      ]
     },
     "execution_count": 16,
     "metadata": {},
     "output_type": "execute_result"
    }
   ],
   "source": [
    "tmp"
   ]
  },
  {
   "cell_type": "markdown",
   "metadata": {},
   "source": [
    "___"
   ]
  },
  {
   "cell_type": "markdown",
   "metadata": {},
   "source": [
    "Repeat the similar procedure for customer sets, within 15km radius of the target, London for instance.\n",
    "\n",
    "The coordinates will be stored in a list in a dictionary under the 'Keyword'.\n",
    "___\n",
    "- keywords for London market"
   ]
  },
  {
   "cell_type": "code",
   "execution_count": 4,
   "metadata": {},
   "outputs": [],
   "source": [
    "restaurant = {'id': 'restaurant'}\n",
    "restaurant['key'] = ['restaurant']\n",
    "\n",
    "pioneer = {'id': 'pioneer'}\n",
    "pioneer['key'] = ['university', 'waterstones', 'starbucks']\n",
    "\n",
    "tourist = {'id': 'tourist'}\n",
    "tourist['key'] = ['hotel', 'attraction']\n",
    "\n",
    "hang_out = {'id': 'hang_out'}\n",
    "hang_out['key'] = ['cinema', 'club']"
   ]
  },
  {
   "cell_type": "markdown",
   "metadata": {},
   "source": [
    "- user defined function to search lat/lng information"
   ]
  },
  {
   "cell_type": "code",
   "execution_count": 5,
   "metadata": {},
   "outputs": [],
   "source": [
    "def search(target):\n",
    "    lat = []\n",
    "    lng = []\n",
    "    for i in range(len(target['key'])):\n",
    "        for rep in range(0, 25):\n",
    "            if rep == 0:\n",
    "                url = (search_url+str(city_coord)[1:-1]+search_range+target['key'][i]+key).replace(' ','')\n",
    "                tmp = urlopen(url).readlines()\n",
    "            else:\n",
    "                url = (search_url+str(city_coord)[1:-1]+search_range+target['key'][i]+page+key).replace(' ','')\n",
    "                tmp = urlopen(url).readlines()\n",
    "            \n",
    "            page = '&pagetoken='+str(tmp[2])[26:-5]\n",
    "            \n",
    "            for k in range(len(tmp)):\n",
    "                if 'location' in str(tmp[k]):\n",
    "                    lat_tmp = float(re.sub('[a-z\\:\\\\\\,\\'\" ]','',str(tmp[k+1])))\n",
    "                    lng_tmp = float(re.sub('[a-z\\:\\\\\\,\\'\" ]','',str(tmp[k+2])))\n",
    "                    lat.append(lat_tmp)\n",
    "                    lng.append(lng_tmp)\n",
    "    \n",
    "    target['lat'] = lat\n",
    "    target['lng'] = lng\n",
    "\n",
    "    \n",
    "search_url = 'https://maps.googleapis.com/maps/api/place/nearbysearch/json?location='\n",
    "search_range = '&radius=20000&name=' #radius in metre up to 50,000m"
   ]
  },
  {
   "cell_type": "code",
   "execution_count": 15,
   "metadata": {},
   "outputs": [],
   "source": [
    "def vmap(target, type = 'heatmap', radius = 40, size = 70):\n",
    "        gmap = gmplot.GoogleMapPlotter(center_lat = city_coord[0], center_lng = city_coord[1], zoom = 12, apikey=key)\n",
    "        if type == 'heatmap':\n",
    "            gmap.heatmap(target['lat'], target['lng'], radius = radius)\n",
    "        elif type == 'scatter':\n",
    "            gmap.scatter(target['lat'], target['lng'], size = size, c = 'cornflowerblue', marker = False)\n",
    "        gmap.draw(target['id']+'_map.html')\n",
    "        return IFrame(src=target['id']+'_map.html', width = 1000, height = 600)"
   ]
  },
  {
   "cell_type": "code",
   "execution_count": 11,
   "metadata": {},
   "outputs": [
    {
     "data": {
      "text/html": [
       "\n",
       "        <iframe\n",
       "            width=\"1000\"\n",
       "            height=\"600\"\n",
       "            src=\"restaurant_map.html\"\n",
       "            frameborder=\"0\"\n",
       "            allowfullscreen\n",
       "        ></iframe>\n",
       "        "
      ],
      "text/plain": [
       "<IPython.lib.display.IFrame at 0x1b9397ebfd0>"
      ]
     },
     "execution_count": 11,
     "metadata": {},
     "output_type": "execute_result"
    }
   ],
   "source": [
    "search(restaurant)\n",
    "vmap(restaurant)"
   ]
  },
  {
   "cell_type": "code",
   "execution_count": 12,
   "metadata": {},
   "outputs": [
    {
     "data": {
      "text/html": [
       "\n",
       "        <iframe\n",
       "            width=\"1000\"\n",
       "            height=\"600\"\n",
       "            src=\"pioneer_map.html\"\n",
       "            frameborder=\"0\"\n",
       "            allowfullscreen\n",
       "        ></iframe>\n",
       "        "
      ],
      "text/plain": [
       "<IPython.lib.display.IFrame at 0x1b9397eb160>"
      ]
     },
     "execution_count": 12,
     "metadata": {},
     "output_type": "execute_result"
    }
   ],
   "source": [
    "search(pioneer)\n",
    "vmap(pioneer)"
   ]
  },
  {
   "cell_type": "code",
   "execution_count": 17,
   "metadata": {},
   "outputs": [
    {
     "data": {
      "text/html": [
       "\n",
       "        <iframe\n",
       "            width=\"1000\"\n",
       "            height=\"600\"\n",
       "            src=\"tourist_map.html\"\n",
       "            frameborder=\"0\"\n",
       "            allowfullscreen\n",
       "        ></iframe>\n",
       "        "
      ],
      "text/plain": [
       "<IPython.lib.display.IFrame at 0x1b938713da0>"
      ]
     },
     "execution_count": 17,
     "metadata": {},
     "output_type": "execute_result"
    }
   ],
   "source": [
    "search(tourist)\n",
    "vmap(tourist, type = 'scatter', size =100)"
   ]
  },
  {
   "cell_type": "code",
   "execution_count": 18,
   "metadata": {},
   "outputs": [
    {
     "data": {
      "text/html": [
       "\n",
       "        <iframe\n",
       "            width=\"1000\"\n",
       "            height=\"600\"\n",
       "            src=\"hang_out_map.html\"\n",
       "            frameborder=\"0\"\n",
       "            allowfullscreen\n",
       "        ></iframe>\n",
       "        "
      ],
      "text/plain": [
       "<IPython.lib.display.IFrame at 0x1b939230358>"
      ]
     },
     "execution_count": 18,
     "metadata": {},
     "output_type": "execute_result"
    }
   ],
   "source": [
    "search(hang_out)\n",
    "vmap(hang_out)"
   ]
  },
  {
   "cell_type": "code",
   "execution_count": 20,
   "metadata": {},
   "outputs": [
    {
     "data": {
      "text/html": [
       "\n",
       "        <iframe\n",
       "            width=\"1000\"\n",
       "            height=\"600\"\n",
       "            src=\"overall_map.html\"\n",
       "            frameborder=\"0\"\n",
       "            allowfullscreen\n",
       "        ></iframe>\n",
       "        "
      ],
      "text/plain": [
       "<IPython.lib.display.IFrame at 0x1b9397d86a0>"
      ]
     },
     "execution_count": 20,
     "metadata": {},
     "output_type": "execute_result"
    }
   ],
   "source": [
    "overall = {'id': 'overall'}\n",
    "overall['lat'] = restaurant['lat'] + pioneer['lat'] + tourist['lat'] + hang_out['lat']\n",
    "overall['lng'] = restaurant['lng'] + pioneer['lng'] + tourist['lng'] + hang_out['lng']\n",
    "\n",
    "vmap(overall)"
   ]
  }
 ],
 "metadata": {
  "kernelspec": {
   "display_name": "Python 3",
   "language": "python",
   "name": "python3"
  },
  "language_info": {
   "codemirror_mode": {
    "name": "ipython",
    "version": 3
   },
   "file_extension": ".py",
   "mimetype": "text/x-python",
   "name": "python",
   "nbconvert_exporter": "python",
   "pygments_lexer": "ipython3",
   "version": "3.6.4"
  }
 },
 "nbformat": 4,
 "nbformat_minor": 2
}
