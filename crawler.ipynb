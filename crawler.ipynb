{
 "cells": [
  {
   "cell_type": "code",
   "execution_count": 112,
   "metadata": {},
   "outputs": [],
   "source": [
    "# requests 라이브러리 불러 오기\n",
    "import requests\n",
    "from bs4 import BeautifulSoup as bs\n",
    "import pandas as pd\n",
    "import re"
   ]
  },
  {
   "cell_type": "code",
   "execution_count": 179,
   "metadata": {},
   "outputs": [],
   "source": [
    "import time"
   ]
  },
  {
   "cell_type": "code",
   "execution_count": 183,
   "metadata": {},
   "outputs": [],
   "source": [
    "def parse_date(txt):\n",
    "    date_begin = re.compile('categories: \\[')\n",
    "    date_begin = date_begin.search(txt).span()[1]\n",
    "    date_end = re.compile('\\]},yAxis:')\n",
    "    date_end = date_end.search(txt).span()[0]\n",
    "    \n",
    "    return txt[date_begin:date_end].replace('\"','').split(',')\n",
    "    \n",
    "    \n",
    "def parse_data(txt):\n",
    "    data_begin = re.compile('data: \\[')\n",
    "    data_begin = data_begin.search(txt).span()[1]\n",
    "    data_end = re.compile('\\]}\\],responsive')\n",
    "    data_end = data_end.search(txt).span()[0]\n",
    "    \n",
    "    return txt[data_begin:data_end].split(',')\n",
    "    "
   ]
  },
  {
   "cell_type": "code",
   "execution_count": 215,
   "metadata": {},
   "outputs": [],
   "source": [
    "def txt_to_html(txt):\n",
    "    case_compile = re.compile('Total Coronavirus Cases')\n",
    "    death_compile = re.compile('Total Coronavirus Deaths')\n",
    "    \n",
    "    for script in txt.find_all(attrs={'type':\"text/javascript\"}):\n",
    "        try:\n",
    "            if bool(case_compile.search(script.contents[0])):\n",
    "                total_case = script.contents[0]\n",
    "            elif bool(death_compile.search(script.contents[0])):\n",
    "                total_death = script.contents[0]\n",
    "        except:\n",
    "            pass\n",
    "        \n",
    "#    total_case = txt.find_all(attrs={'type':\"text/javascript\"})[6].contents[0]\n",
    "    total_case  = total_case.replace('\\n','').replace('\\'', '\"').replace('    ','')\n",
    " #   total_death = txt.find_all(attrs={'type':\"text/javascript\"})[8].contents[0]\n",
    "    total_death  = total_death.replace('\\n','').replace('\\'', '\"').replace('    ','')\n",
    "    \n",
    "    case_date = parse_date(total_case)\n",
    "    case_data = parse_data(total_case)\n",
    "    death_date = parse_date(total_death)\n",
    "    death_data = parse_data(total_death)\n",
    "   \n",
    "    return {\"case_date\":case_date, 'case_data':case_data,\n",
    "            'death_date': death_date, 'death_data':death_data}"
   ]
  },
  {
   "cell_type": "code",
   "execution_count": 227,
   "metadata": {},
   "outputs": [],
   "source": [
    "def crawl_country(cnts):\n",
    "    address = 'https://www.worldometers.info/coronavirus/country/'\n",
    "    outcome = pd.DataFrame()\n",
    "    \n",
    "    for cnt in cnts:\n",
    "        web_add = address+'{}'.format(cnt)\n",
    "        html = requests.get(web_add)\n",
    "        soup = bs(html.text, 'html.parser')\n",
    "        html.close()\n",
    "\n",
    "        tmp = txt_to_html(soup)\n",
    "        tmp = pd.DataFrame(tmp)\n",
    "        tmp.loc[:,'country'] = cnt\n",
    "    \n",
    "        outcome = pd.concat([outcome, tmp])\n",
    "    \n",
    "    outcome.case_data = outcome.case_data.astype(int)\n",
    "    outcome.death_data = outcome.death_data.astype(int)\n",
    "    return outcome"
   ]
  },
  {
   "cell_type": "code",
   "execution_count": 228,
   "metadata": {},
   "outputs": [],
   "source": [
    "cnt_list = ['UK', 'France', 'Germany', 'Spain', 'Australia']"
   ]
  },
  {
   "cell_type": "code",
   "execution_count": 229,
   "metadata": {},
   "outputs": [],
   "source": [
    "outcome = crawl_country(cnt_list)"
   ]
  },
  {
   "cell_type": "code",
   "execution_count": 230,
   "metadata": {},
   "outputs": [],
   "source": [
    "outcome.to_excel('tmp.xlsx', index=False)"
   ]
  }
 ],
 "metadata": {
  "kernelspec": {
   "display_name": "Python 3",
   "language": "python",
   "name": "python3"
  },
  "language_info": {
   "codemirror_mode": {
    "name": "ipython",
    "version": 3
   },
   "file_extension": ".py",
   "mimetype": "text/x-python",
   "name": "python",
   "nbconvert_exporter": "python",
   "pygments_lexer": "ipython3",
   "version": "3.8.2"
  }
 },
 "nbformat": 4,
 "nbformat_minor": 4
}
