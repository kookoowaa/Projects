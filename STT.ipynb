{
 "cells": [
  {
   "cell_type": "code",
   "execution_count": 6,
   "metadata": {},
   "outputs": [],
   "source": [
    "import io\n",
    "import os\n",
    "\n",
    "# Imports the Google Cloud client library\n",
    "from google.cloud import speech\n",
    "from google.cloud.speech import enums\n",
    "from google.cloud.speech import types\n"
   ]
  },
  {
   "cell_type": "code",
   "execution_count": 8,
   "metadata": {},
   "outputs": [],
   "source": [
    "import os\n",
    "os.environ[\"GOOGLE_APPLICATION_CREDENTIALS\"]=r\"C:\\Users\\chpar10\\Downloads\\My First Project-00960a42268f.json\""
   ]
  },
  {
   "cell_type": "code",
   "execution_count": 9,
   "metadata": {},
   "outputs": [],
   "source": [
    "# Instantiates a client\n",
    "client = speech.SpeechClient()"
   ]
  },
  {
   "cell_type": "code",
   "execution_count": 19,
   "metadata": {},
   "outputs": [],
   "source": [
    "\n",
    "\n",
    "# The name of the audio file to transcribe\n",
    "file_name = r'C:\\Users\\chpar10\\Downloads\\Google_Gnome.wav'\n",
    "\n",
    "# Loads the audio into memory\n",
    "with io.open(file_name, 'rb') as audio_file:\n",
    "    content = audio_file.read()\n",
    "    audio = types.RecognitionAudio(content=content)\n"
   ]
  },
  {
   "cell_type": "code",
   "execution_count": 26,
   "metadata": {
    "scrolled": true
   },
   "outputs": [],
   "source": [
    "\n",
    "config = types.RecognitionConfig(\n",
    "    encoding=enums.RecognitionConfig.AudioEncoding.LINEAR16,\n",
    "    sample_rate_hertz=16000,\n",
    "    language_code='en-US')\n",
    "\n",
    "# Detects speech in the audio file\n",
    "response = client.recognize(config, audio)\n"
   ]
  },
  {
   "cell_type": "code",
   "execution_count": 27,
   "metadata": {},
   "outputs": [
    {
     "name": "stdout",
     "output_type": "stream",
     "text": [
      "Transcript: OK Google stream stranger things from Netflix to my TV okay stranger things from Netflix from the people that brought you Google home comes the next evolution of a smart home and it's just outside your window me Google Now by how can I help okay he's right okay no turn on the hose I'm holding sure\n",
      "Transcript:  okay now I'm can I eat this lemon tree leaf yes what are the daisy yes but I wouldn't recommend it but I could eat it to my shopping list I'm sorry that sounds like an indoor request I keep doing that sorry you do keep doing that\n",
      "Transcript:  okay now is this compost really we're all compost if you think about it pretty much everything is made up of organic matter and will return\n"
     ]
    }
   ],
   "source": [
    "\n",
    "for result in response.results:\n",
    "    print('Transcript: {}'.format(result.alternatives[0].transcript))"
   ]
  },
  {
   "cell_type": "code",
   "execution_count": 64,
   "metadata": {},
   "outputs": [],
   "source": [
    "\n",
    "'''\n",
    "# The name of the audio file to transcribe\n",
    "file_name = 'sample.flac'\n",
    "\n",
    "# Loads the audio into memory\n",
    "with io.open(file_name, 'rb') as audio_file:\n",
    "    content = audio_file.read()\n",
    "    audio = types.RecognitionAudio(content=content)\n",
    "'''\n",
    "\n",
    "    \n",
    "audio = types.RecognitionAudio(uri = 'gs://ikea_csc/sample2.flac')\n",
    "\n",
    "config = types.RecognitionConfig(\n",
    "    encoding=enums.RecognitionConfig.AudioEncoding.FLAC,\n",
    "    sample_rate_hertz=16000,\n",
    "    language_code='ko-KR',\n",
    "    enable_word_time_offsets=True)\n",
    "\n",
    "# Detects speech in the audio file\n",
    "response = client.long_running_recognize(config, audio)\n",
    "\n"
   ]
  },
  {
   "cell_type": "code",
   "execution_count": 65,
   "metadata": {},
   "outputs": [],
   "source": [
    "responses = response.result(timeout = 600)"
   ]
  },
  {
   "cell_type": "code",
   "execution_count": 66,
   "metadata": {},
   "outputs": [
    {
     "name": "stdout",
     "output_type": "stream",
     "text": [
      "Transcript: 올라 있는 물건을 주문을 했거든 물건을 조금 더 주무세요\n",
      "Transcript: 혹시 홍시 많이 드시나요\n",
      "Transcript: 규격이 안 맞는 것도 있고\n",
      "Transcript: 제가 19\n",
      "Transcript:  지역이 대전녀 가지고 주님께서 하세요 안녕하세요 그런데 가셨습니까 박스를 버렸거든요 없어 가지고 사무실 주문했는데\n",
      "Transcript:  포장상태는 취소해서 저희가 우선은 그 그 물품이 어느 정도 주님께 그거 환불이 안 되는 경우도 있어요 어느 정도 가져와도 문제가 있을 수 있니\n",
      "Transcript:  선불카드 새롭고 발행을 해 주는 건데\n",
      "Transcript:  이게 작동이 안 되는 돈은 부정하다고 이런 경우에는\n",
      "Transcript:  그런 제가 카드로 나갈 수도 있습니다 직접 가서 그걸 해 가지고 그렇게 서비스 비용을\n",
      "Transcript:  제가 다른 제품을 구매하게 되면 지금 계속 계속\n",
      "Transcript:  일본 축제\n",
      "Transcript:  시끄럽다 배송만 받아오는 거기 때문에\n",
      "Transcript:  만약에 하게 되면 바로 그 카드로 합니다 형님 안 되시는 않습니다 취소가 바로 되지는 않고 삼성카드로 드릴 수도 있잖아요 거기 때문에\n",
      "Transcript:  다시 계속 그걸로 했어 그렇게 되면\n",
      "Transcript:  만약에 새로운\n",
      "Transcript:  그냥 한 번만 다시 근데 아무도 49,000원 지불하고 이상이 없다라고 아 그렇지 그 그거\n",
      "Transcript:  해 보시겠어요 알겠습니다\n"
     ]
    }
   ],
   "source": [
    "\n",
    "for result in responses.results:\n",
    "    print('Transcript: {}'.format(result.alternatives[0].transcript))"
   ]
  },
  {
   "cell_type": "code",
   "execution_count": null,
   "metadata": {},
   "outputs": [],
   "source": []
  }
 ],
 "metadata": {
  "kernelspec": {
   "display_name": "Python 3",
   "language": "python",
   "name": "python3"
  },
  "language_info": {
   "codemirror_mode": {
    "name": "ipython",
    "version": 3
   },
   "file_extension": ".py",
   "mimetype": "text/x-python",
   "name": "python",
   "nbconvert_exporter": "python",
   "pygments_lexer": "ipython3",
   "version": "3.7.4"
  }
 },
 "nbformat": 4,
 "nbformat_minor": 2
}
