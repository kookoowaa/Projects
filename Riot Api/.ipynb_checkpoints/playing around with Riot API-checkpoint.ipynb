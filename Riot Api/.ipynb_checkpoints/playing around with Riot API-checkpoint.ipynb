{
 "cells": [
  {
   "cell_type": "code",
   "execution_count": 1,
   "metadata": {},
   "outputs": [],
   "source": [
    "import requests\n",
    "#from bs4 import BeautifulSoup as bs\n",
    "import json"
   ]
  },
  {
   "cell_type": "code",
   "execution_count": 2,
   "metadata": {},
   "outputs": [],
   "source": [
    "base_url = 'https://kr.api.riotgames.com/lol/match/v3/matches/'\n",
    "match_start = 3369539800\n",
    "match_num = 3369539800\n",
    "match = []"
   ]
  },
  {
   "cell_type": "code",
   "execution_count": 3,
   "metadata": {},
   "outputs": [],
   "source": [
    "key "
   ]
  },
  {
   "cell_type": "code",
   "execution_count": null,
   "metadata": {},
   "outputs": [],
   "source": [
    "for i in range(1,6):\n",
    "    fout = open('match_data{}.json'.format(i), 'w') \n",
    "    if i ==1:\n",
    "        fout.write('{\"matches\": [')\n",
    "\n",
    "    for k in (np.arange(1,1001)+1000*(i-1)):\n",
    "        response = requests.get(base_url+str(match_num)+key)\n",
    "        text = json.loads(response.text)\n",
    "        match_num -= 1\n",
    "        if ((k>0) & (k % 10 ==0)):\n",
    "            time.sleep(1)\n",
    "        if ((k>0) & (k % 80 ==0)):\n",
    "            time.sleep(120)\n",
    "        if k% 500==0:\n",
    "            print(str(k+i*1000)+'th done at ' +str(match_num+1))\n",
    "        try:\n",
    "            text['status']\n",
    "        except:\n",
    "            fout.write(json.dumps(text, ensure_ascii=False))\n",
    "            if k!=5000:\n",
    "                fout.write(', ')\n",
    "            else:\n",
    "                fout.write(']}')\n",
    "    fout.close()"
   ]
  },
  {
   "cell_type": "code",
   "execution_count": null,
   "metadata": {},
   "outputs": [],
   "source": []
  },
  {
   "cell_type": "code",
   "execution_count": null,
   "metadata": {},
   "outputs": [],
   "source": []
  },
  {
   "cell_type": "code",
   "execution_count": null,
   "metadata": {},
   "outputs": [],
   "source": []
  },
  {
   "cell_type": "code",
   "execution_count": null,
   "metadata": {},
   "outputs": [],
   "source": [
    "match = requests.get('https://s3-us-west-1.amazonaws.com/riot-developer-portal/seed-data/matches10.json')"
   ]
  },
  {
   "cell_type": "code",
   "execution_count": null,
   "metadata": {},
   "outputs": [],
   "source": [
    "match = json.loads(match.text)"
   ]
  },
  {
   "cell_type": "code",
   "execution_count": null,
   "metadata": {},
   "outputs": [],
   "source": [
    "match.text"
   ]
  },
  {
   "cell_type": "code",
   "execution_count": null,
   "metadata": {
    "scrolled": false
   },
   "outputs": [],
   "source": [
    "match['matches'][0]"
   ]
  },
  {
   "cell_type": "code",
   "execution_count": null,
   "metadata": {},
   "outputs": [],
   "source": [
    "len(match['matches'])"
   ]
  },
  {
   "cell_type": "code",
   "execution_count": null,
   "metadata": {
    "scrolled": true
   },
   "outputs": [],
   "source": [
    "[i['seasonId'] for i in match['matches']]"
   ]
  },
  {
   "cell_type": "code",
   "execution_count": null,
   "metadata": {},
   "outputs": [],
   "source": []
  }
 ],
 "metadata": {
  "kernelspec": {
   "display_name": "Python 3",
   "language": "python",
   "name": "python3"
  },
  "language_info": {
   "codemirror_mode": {
    "name": "ipython",
    "version": 3
   },
   "file_extension": ".py",
   "mimetype": "text/x-python",
   "name": "python",
   "nbconvert_exporter": "python",
   "pygments_lexer": "ipython3",
   "version": "3.6.4"
  }
 },
 "nbformat": 4,
 "nbformat_minor": 2
}
