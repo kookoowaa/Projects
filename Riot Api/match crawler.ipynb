{
 "cells": [
  {
   "cell_type": "code",
   "execution_count": 1,
   "metadata": {},
   "outputs": [],
   "source": [
    "import requests\n",
    "#from bs4 import BeautifulSoup as bs\n",
    "import json\n",
    "import time"
   ]
  },
  {
   "cell_type": "code",
   "execution_count": 2,
   "metadata": {},
   "outputs": [],
   "source": [
    "base_url = 'https://kr.api.riotgames.com/lol/match/v4/matches/'\n",
    "match_start = 3369539900 # 3455284457\n",
    "match_num = 3455284500\n",
    "match = []"
   ]
  },
  {
   "cell_type": "code",
   "execution_count": 3,
   "metadata": {},
   "outputs": [],
   "source": [
    "key = '?api_key=RGAPI-e4d143e5-4b78-429a-857f-20d08eb374a4'"
   ]
  },
  {
   "cell_type": "code",
   "execution_count": null,
   "metadata": {},
   "outputs": [
    {
     "name": "stdout",
     "output_type": "stream",
     "text": [
      "100th done at 3455284401 took 121 seconds\n",
      "200th done at 3455284301 took 121 seconds\n",
      "300th done at 3455284201 took 121 seconds\n",
      "400th done at 3455284101 took 121 seconds\n",
      "500th done at 3455284001 took 121 seconds\n",
      "600th done at 3455283901 took 121 seconds\n",
      "700th done at 3455283801 took 121 seconds\n",
      "800th done at 3455283701 took 121 seconds\n",
      "900th done at 3455283601 took 121 seconds\n",
      "1000th done at 3455283501 took 121 seconds\n",
      "1100th done at 3455283401 took 121 seconds\n",
      "1200th done at 3455283301 took 121 seconds\n",
      "1300th done at 3455283201 took 121 seconds\n",
      "1400th done at 3455283101 took 121 seconds\n",
      "1500th done at 3455283001 took 121 seconds\n",
      "1600th done at 3455282901 took 121 seconds\n",
      "1700th done at 3455282801 took 121 seconds\n",
      "1800th done at 3455282701 took 121 seconds\n",
      "1900th done at 3455282601 took 121 seconds\n",
      "2000th done at 3455282501 took 121 seconds\n",
      "2100th done at 3455282401 took 121 seconds\n",
      "2200th done at 3455282301 took 121 seconds\n",
      "2300th done at 3455282201 took 121 seconds\n",
      "2400th done at 3455282101 took 121 seconds\n",
      "2500th done at 3455282001 took 121 seconds\n",
      "2600th done at 3455281901 took 121 seconds\n",
      "2700th done at 3455281801 took 121 seconds\n",
      "2800th done at 3455281701 took 121 seconds\n",
      "2900th done at 3455281601 took 121 seconds\n",
      "3000th done at 3455281501 took 121 seconds\n",
      "3100th done at 3455281401 took 121 seconds\n",
      "3200th done at 3455281301 took 121 seconds\n",
      "3300th done at 3455281201 took 121 seconds\n",
      "3400th done at 3455281101 took 121 seconds\n",
      "3500th done at 3455281001 took 121 seconds\n",
      "3600th done at 3455280901 took 121 seconds\n",
      "3700th done at 3455280801 took 121 seconds\n",
      "3800th done at 3455280701 took 121 seconds\n",
      "3900th done at 3455280601 took 754 seconds\n",
      "4000th done at 3455280501 took 121 seconds\n",
      "4100th done at 3455280401 took 121 seconds\n",
      "4200th done at 3455280301 took 121 seconds\n",
      "4300th done at 3455280201 took 121 seconds\n",
      "4400th done at 3455280101 took 121 seconds\n",
      "4500th done at 3455280001 took 121 seconds\n",
      "4600th done at 3455279901 took 121 seconds\n",
      "4700th done at 3455279801 took 121 seconds\n",
      "4800th done at 3455279701 took 121 seconds\n",
      "4900th done at 3455279601 took 121 seconds\n",
      "5000th done at 3455279501 took 121 seconds\n",
      "5100th done at 3455279401 took 121 seconds\n",
      "5200th done at 3455279301 took 121 seconds\n",
      "5300th done at 3455279201 took 121 seconds\n",
      "5400th done at 3455279101 took 121 seconds\n",
      "5500th done at 3455279001 took 121 seconds\n",
      "5600th done at 3455278901 took 121 seconds\n",
      "5700th done at 3455278801 took 121 seconds\n",
      "5800th done at 3455278701 took 121 seconds\n",
      "5900th done at 3455278601 took 121 seconds\n",
      "6000th done at 3455278501 took 121 seconds\n",
      "6100th done at 3455278401 took 121 seconds\n",
      "6200th done at 3455278301 took 121 seconds\n",
      "6300th done at 3455278201 took 121 seconds\n",
      "6400th done at 3455278101 took 121 seconds\n",
      "6500th done at 3455278001 took 121 seconds\n",
      "6600th done at 3455277901 took 121 seconds\n",
      "6700th done at 3455277801 took 121 seconds\n",
      "6800th done at 3455277701 took 121 seconds\n",
      "6900th done at 3455277601 took 121 seconds\n",
      "7000th done at 3455277501 took 121 seconds\n",
      "7100th done at 3455277401 took 121 seconds\n",
      "7200th done at 3455277301 took 121 seconds\n",
      "7300th done at 3455277201 took 121 seconds\n",
      "7400th done at 3455277101 took 1720 seconds\n",
      "7500th done at 3455277001 took 121 seconds\n",
      "7600th done at 3455276901 took 121 seconds\n",
      "7700th done at 3455276801 took 121 seconds\n",
      "7800th done at 3455276701 took 121 seconds\n"
     ]
    }
   ],
   "source": [
    "for i in range(1,101):\n",
    "    fout = open('match{}.json'.format(i), 'w') \n",
    "    fout.write('{\"matches\": [')\n",
    "\n",
    "    for k in (np.arange(1,101)+100*(i-1)):\n",
    "        startTime = time.time()\n",
    "        response = requests.get(base_url+str(match_num)+key)\n",
    "        text = json.loads(response.text)\n",
    "        match_num -= 1\n",
    "        if ((k>0) & (k % 10 ==0)):\n",
    "            time.sleep(1)\n",
    "        if ((k>0) & (k % 100 ==0)):\n",
    "            time.sleep(120)\n",
    "            print(str(k)+'th done at ' + str(match_num+1) + ' took {} seconds'.format(int(time.time()-startTime)))\n",
    "        try:\n",
    "            text['status']\n",
    "        except:\n",
    "            fout.write(json.dumps(text, ensure_ascii=False))\n",
    "            if k%100!=0:\n",
    "                fout.write(', ')\n",
    "            else:\n",
    "                fout.write(']}')\n",
    "    fout.close()"
   ]
  },
  {
   "cell_type": "code",
   "execution_count": null,
   "metadata": {},
   "outputs": [],
   "source": [
    "matches = []\n",
    "for i in range(1,101):\n",
    "    if i ==1:\n",
    "        tmp = json.loads(open('match{}.json'.format(i), 'r').read())['matches']\n",
    "    else:\n",
    "        try:\n",
    "            tmp = json.loads(open('match{}.json'.format(i), 'r').read())['matches']\n",
    "        except:\n",
    "            tmp = json.loads(open('match{}.json'.format(i), 'r').read()[:-2]+']}')['matches']\n",
    "    \n",
    "    if i%10==0:\n",
    "        print(i)\n",
    "    \n",
    "    matches.extend(tmp)"
   ]
  },
  {
   "cell_type": "code",
   "execution_count": null,
   "metadata": {},
   "outputs": [],
   "source": [
    "fout = open('match.json', 'w') \n",
    "fout.write(json.dumps({'match': matches}, ensure_ascii=False))\n",
    "fout.close()"
   ]
  },
  {
   "cell_type": "code",
   "execution_count": null,
   "metadata": {},
   "outputs": [],
   "source": []
  },
  {
   "cell_type": "code",
   "execution_count": null,
   "metadata": {},
   "outputs": [],
   "source": []
  },
  {
   "cell_type": "code",
   "execution_count": 7,
   "metadata": {},
   "outputs": [],
   "source": [
    "match = requests.get(base_url+str(match_num) +key)"
   ]
  },
  {
   "cell_type": "code",
   "execution_count": 18,
   "metadata": {},
   "outputs": [],
   "source": [
    "match = json.loads(match.text)"
   ]
  },
  {
   "cell_type": "code",
   "execution_count": 8,
   "metadata": {
    "scrolled": false
   },
   "outputs": [
    {
     "data": {
      "text/plain": [
       "'{\"gameId\":3369539900,\"platformId\":\"KR\",\"gameCreation\":1538664039137,\"gameDuration\":2061,\"queueId\":440,\"mapId\":11,\"seasonId\":11,\"gameVersion\":\"8.19.246.5109\",\"gameMode\":\"CLASSIC\",\"gameType\":\"MATCHED_GAME\",\"teams\":[{\"teamId\":100,\"win\":\"Win\",\"firstBlood\":false,\"firstTower\":false,\"firstInhibitor\":true,\"firstBaron\":true,\"firstDragon\":false,\"firstRiftHerald\":false,\"towerKills\":8,\"inhibitorKills\":1,\"baronKills\":1,\"dragonKills\":0,\"vilemawKills\":0,\"riftHeraldKills\":0,\"dominionVictoryScore\":0,\"bans\":[{\"championId\":7,\"pickTurn\":1},{\"championId\":38,\"pickTurn\":2},{\"championId\":497,\"pickTurn\":3},{\"championId\":39,\"pickTurn\":4},{\"championId\":555,\"pickTurn\":5}]},{\"teamId\":200,\"win\":\"Fail\",\"firstBlood\":true,\"firstTower\":true,\"firstInhibitor\":false,\"firstBaron\":false,\"firstDragon\":true,\"firstRiftHerald\":false,\"towerKills\":2,\"inhibitorKills\":0,\"baronKills\":1,\"dragonKills\":2,\"vilemawKills\":0,\"riftHeraldKills\":0,\"dominionVictoryScore\":0,\"bans\":[{\"championId\":84,\"pickTurn\":6},{\"championId\":28,\"pickTurn\":7},{\"championId\":122,\"pickTurn\":8},{\"championId\":203,\"pickTurn\":9},{\"championId\":555,\"pickTurn\":10}]}],\"participants\":[{\"participantId\":1,\"teamId\":100,\"championId\":9,\"spell1Id\":14,\"spell2Id\":4,\"highestAchievedSeasonTier\":\"UNRANKED\",\"stats\":{\"participantId\":1,\"win\":true,\"item0\":3152,\"item1\":3165,\"item2\":3157,\"item3\":1052,\"item4\":1056,\"item5\":3020,\"item6\":3364,\"kills\":3,\"deaths\":5,\"assists\":11,\"largestKillingSpree\":0,\"largestMultiKill\":1,\"killingSprees\":0,\"longestTimeSpentLiving\":1064,\"doubleKills\":0,\"tripleKills\":0,\"quadraKills\":0,\"pentaKills\":0,\"unrealKills\":0,\"totalDamageDealt\":133323,\"magicDamageDealt\":114433,\"physicalDamageDealt\":11673,\"trueDamageDealt\":7216,\"largestCriticalStrike\":0,\"totalDamageDealtToChampions\":29738,\"magicDamageDealtToChampions\":27354,\"physicalDamageDealtToChampions\":982,\"trueDamageDealtToChampions\":1401,\"totalHeal\":4902,\"totalUnitsHealed\":1,\"damageSelfMitigated\":11377,\"damageDealtToObjectives\":5570,\"damageDealtToTurrets\":5570,\"visionScore\":25,\"timeCCingOthers\":88,\"totalDamageTaken\":22986,\"magicalDamageTaken\":7089,\"physicalDamageTaken\":11552,\"trueDamageTaken\":4345,\"goldEarned\":11647,\"goldSpent\":10435,\"turretKills\":3,\"inhibitorKills\":1,\"totalMinionsKilled\":200,\"neutralMinionsKilled\":0,\"neutralMinionsKilledTeamJungle\":0,\"neutralMinionsKilledEnemyJungle\":0,\"totalTimeCrowdControlDealt\":458,\"champLevel\":16,\"visionWardsBoughtInGame\":0,\"sightWardsBoughtInGame\":0,\"wardsPlaced\":11,\"wardsKilled\":0,\"firstBloodKill\":false,\"firstBloodAssist\":false,\"firstTowerKill\":false,\"firstTowerAssist\":false,\"firstInhibitorKill\":true,\"firstInhibitorAssist\":false,\"combatPlayerScore\":0,\"objectivePlayerScore\":0,\"totalPlayerScore\":0,\"totalScoreRank\":0,\"playerScore0\":0,\"playerScore1\":0,\"playerScore2\":0,\"playerScore3\":0,\"playerScore4\":0,\"playerScore5\":0,\"playerScore6\":0,\"playerScore7\":0,\"playerScore8\":0,\"playerScore9\":0,\"perk0\":8214,\"perk0Var1\":1924,\"perk0Var2\":0,\"perk0Var3\":0,\"perk1\":8275,\"perk1Var1\":11,\"perk1Var2\":0,\"perk1Var3\":0,\"perk2\":8234,\"perk2Var1\":22,\"perk2Var2\":0,\"perk2Var3\":0,\"perk3\":8237,\"perk3Var1\":486,\"perk3Var2\":0,\"perk3Var3\":0,\"perk4\":8143,\"perk4Var1\":771,\"perk4Var2\":0,\"perk4Var3\":0,\"perk5\":8134,\"perk5Var1\":46,\"perk5Var2\":5,\"perk5Var3\":0,\"perkPrimaryStyle\":8200,\"perkSubStyle\":8100},\"timeline\":{\"participantId\":1,\"creepsPerMinDeltas\":{\"10-20\":8.2,\"0-10\":6.8999999999999995,\"20-30\":4.5},\"xpPerMinDeltas\":{\"10-20\":476.7,\"0-10\":428.7,\"20-30\":477.5},\"goldPerMinDeltas\":{\"10-20\":297.7,\"0-10\":251.6,\"20-30\":437},\"csDiffPerMinDeltas\":{\"10-20\":0.7000000000000006,\"0-10\":1.5999999999999992,\"20-30\":-0.6000000000000003},\"xpDiffPerMinDeltas\":{\"10-20\":-40.900000000000006,\"0-10\":31.599999999999994,\"20-30\":32.80000000000001},\"damageTakenPerMinDeltas\":{\"10-20\":509.40000000000003,\"0-10\":356.9,\"20-30\":896.3},\"damageTakenDiffPerMinDeltas\":{\"10-20\":-461.2,\"0-10\":-235,\"20-30\":-572.3},\"role\":\"SOLO\",\"lane\":\"TOP\"}},{\"participantId\":2,\"teamId\":100,\"championId\":43,\"spell1Id\":14,\"spell2Id\":4,\"highestAchievedSeasonTier\":\"PLATINUM\",\"stats\":{\"participantId\":2,\"win\":true,\"item0\":3107,\"item1\":3504,\"item2\":3916,\"item3\":3098,\"item4\":3174,\"item5\":3020,\"item6\":3364,\"kills\":8,\"deaths\":11,\"assists\":22,\"largestKillingSpree\":4,\"largestMultiKill\":2,\"killingSprees\":2,\"longestTimeSpentLiving\":411,\"doubleKills\":2,\"tripleKills\":0,\"quadraKills\":0,\"pentaKills\":0,\"unrealKills\":0,\"totalDamageDealt\":40580,\"magicDamageDealt\":34337,\"physicalDamageDealt\":3635,\"trueDamageDealt\":2607,\"largestCriticalStrike\":0,\"totalDamageDealtToChampions\":18526,\"magicDamageDealtToChampions\":15463,\"physicalDamageDealtToChampions\":1455,\"trueDamageDealtToChampions\":1607,\"totalHeal\":5928,\"totalUnitsHealed\":5,\"damageSelfMitigated\":10170,\"damageDealtToObjectives\":4823,\"damageDealtToTurrets\":1873,\"visionScore\":76,\"timeCCingOthers\":21,\"totalDamageTaken\":20460,\"magicalDamageTaken\":3485,\"physicalDamageTaken\":14635,\"trueDamageTaken\":2339,\"goldEarned\":12418,\"goldSpent\":10800,\"turretKills\":0,\"inhibitorKills\":0,\"totalMinionsKilled\":25,\"neutralMinionsKilled\":0,\"neutralMinionsKilledTeamJungle\":0,\"neutralMinionsKilledEnemyJungle\":0,\"totalTimeCrowdControlDealt\":224,\"champLevel\":15,\"visionWardsBoughtInGame\":12,\"sightWardsBoughtInGame\":0,\"wardsPlaced\":36,\"wardsKilled\":12,\"firstBloodKill\":false,\"firstBloodAssist\":false,\"firstTowerKill\":false,\"firstTowerAssist\":false,\"firstInhibitorKill\":false,\"firstInhibitorAssist\":true,\"combatPlayerScore\":0,\"objectivePlayerScore\":0,\"totalPlayerScore\":0,\"totalScoreRank\":0,\"playerScore0\":0,\"playerScore1\":0,\"playerScore2\":0,\"playerScore3\":0,\"playerScore4\":0,\"playerScore5\":0,\"playerScore6\":0,\"playerScore7\":0,\"playerScore8\":0,\"playerScore9\":0,\"perk0\":8214,\"perk0Var1\":1196,\"perk0Var2\":172,\"perk0Var3\":0,\"perk1\":8226,\"perk1Var1\":250,\"perk1Var2\":581,\"perk1Var3\":0,\"perk2\":8234,\"perk2Var1\":25,\"perk2Var2\":0,\"perk2Var3\":0,\"perk3\":8237,\"perk3Var1\":334,\"perk3Var2\":0,\"perk3Var3\":0,\"perk4\":8304,\"perk4Var1\":7,\"perk4Var2\":3,\"perk4Var3\":0,\"perk5\":8347,\"perk5Var1\":0,\"perk5Var2\":0,\"perk5Var3\":0,\"perkPrimaryStyle\":8200,\"perkSubStyle\":8300},\"timeline\":{\"participantId\":2,\"creepsPerMinDeltas\":{\"10-20\":1.1,\"0-10\":0.2,\"20-30\":1},\"xpPerMinDeltas\":{\"10-20\":332.3,\"0-10\":290,\"20-30\":517},\"goldPerMinDeltas\":{\"10-20\":372.5,\"0-10\":326.20000000000005,\"20-30\":326.1},\"csDiffPerMinDeltas\":{\"10-20\":0.25000000000000044,\"0-10\":0.44999999999999996,\"20-30\":-1.3499999999999999},\"xpDiffPerMinDeltas\":{\"10-20\":31.75,\"0-10\":103.25000000000003,\"20-30\":-56.05000000000001},\"damageTakenPerMinDeltas\":{\"10-20\":477.4,\"0-10\":472.20000000000005,\"20-30\":708.5},\"damageTakenDiffPerMinDeltas\":{\"10-20\":-214.95000000000002,\"0-10\":6.449999999999989,\"20-30\":-103.89999999999992},\"role\":\"DUO_SUPPORT\",\"lane\":\"BOTTOM\"}},{\"participantId\":3,\"teamId\":100,\"championId\":81,\"spell1Id\":7,\"spell2Id\":4,\"highestAchievedSeasonTier\":\"DIAMOND\",\"stats\":{\"participantId\":3,\"win\":true,\"item0\":3153,\"item1\":3040,\"item2\":3042,\"item3\":3123,\"item4\":3047,\"item5\":3078,\"item6\":3363,\"kills\":18,\"deaths\":8,\"assists\":14,\"largestKillingSpree\":5,\"largestMultiKill\":4,\"killingSprees\":5,\"longestTimeSpentLiving\":550,\"doubleKills\":5,\"tripleKills\":1,\"quadraKills\":1,\"pentaKills\":0,\"unrealKills\":0,\"totalDamageDealt\":198104,\"magicDamageDealt\":45099,\"physicalDamageDealt\":141875,\"trueDamageDealt\":11128,\"largestCriticalStrike\":0,\"totalDamageDealtToChampions\":52269,\"magicDamageDealtToChampions\":12149,\"physicalDamageDealtToChampions\":38783,\"trueDamageDealtToChampions\":1336,\"totalHeal\":4186,\"totalUnitsHealed\":5,\"damageSelfMitigated\":10755,\"damageDealtToObjectives\":7227,\"damageDealtToTurrets\":1762,\"visionScore\":25,\"timeCCingOthers\":7,\"totalDamageTaken\":25780,\"magicalDamageTaken\":5737,\"physicalDamageTaken\":16367,\"trueDamageTaken\":3676,\"goldEarned\":18258,\"goldSpent\":14858,\"turretKills\":0,\"inhibitorKills\":0,\"totalMinionsKilled\":220,\"neutralMinionsKilled\":6,\"neutralMinionsKilledTeamJungle\":4,\"neutralMinionsKilledEnemyJungle\":2,\"totalTimeCrowdControlDealt\":146,\"champLevel\":17,\"visionWardsBoughtInGame\":1,\"sightWardsBoughtInGame\":0,\"wardsPlaced\":13,\"wardsKilled\":4,\"firstBloodKill\":false,\"firstBloodAssist\":false,\"firstTowerKill\":false,\"firstTowerAssist\":false,\"firstInhibitorKill\":false,\"firstInhibitorAssist\":false,\"combatPlayerScore\":0,\"objectivePlayerScore\":0,\"totalPlayerScore\":0,\"totalScoreRank\":0,\"playerScore0\":0,\"playerScore1\":0,\"playerScore2\":0,\"playerScore3\":0,\"playerScore4\":0,\"playerScore5\":0,\"playerScore6\":0,\"playerScore7\":0,\"playerScore8\":0,\"playerScore9\":0,\"perk0\":8359,\"perk0Var1\":775,\"perk0Var2\":36,\"perk0Var3\":0,\"perk1\":8304,\"perk1Var1\":8,\"perk1Var2\":0,\"perk1Var3\":0,\"perk2\":8345,\"perk2Var1\":4,\"perk2Var2\":0,\"perk2Var3\":0,\"perk3\":8347,\"perk3Var1\":0,\"perk3Var2\":0,\"perk3Var3\":0,\"perk4\":8226,\"perk4Var1\":250,\"perk4Var2\":3030,\"perk4Var3\":0,\"perk5\":8210,\"perk5Var1\":12,\"perk5Var2\":0,\"perk5Var3\":0,\"perkPrimaryStyle\":8300,\"perkSubStyle\":8200},\"timeline\":{\"participantId\":3,\"creepsPerMinDeltas\":{\"10-20\":7.800000000000001,\"0-10\":6.199999999999999,\"20-30\":6.5},\"xpPerMinDeltas\":{\"10-20\":521.2,\"0-10\":371.1,\"20-30\":565.8},\"goldPerMinDeltas\":{\"10-20\":479,\"0-10\":361.2,\"20-30\":619.2},\"csDiffPerMinDeltas\":{\"10-20\":0.25000000000000044,\"0-10\":0.44999999999999996,\"20-30\":-1.3499999999999999},\"xpDiffPerMinDeltas\":{\"10-20\":31.75,\"0-10\":103.25000000000003,\"20-30\":-56.05000000000001},\"damageTakenPerMinDeltas\":{\"10-20\":426.2,\"0-10\":455.9,\"20-30\":928},\"damageTakenDiffPerMinDeltas\":{\"10-20\":-214.95000000000002,\"0-10\":6.449999999999989,\"20-30\":-103.89999999999992},\"role\":\"DUO_CARRY\",\"lane\":\"BOTTOM\"}},{\"participantId\":4,\"teamId\":100,\"championId\":20,\"spell1Id\":4,\"spell2Id\":11,\"highestAchievedSeasonTier\":\"PLATINUM\",\"stats\":{\"participantId\":4,\"win\":true,\"item0\":3800,\"item1\":3047,\"item2\":3143,\"item3\":3075,\"item4\":1401,\"item5\":0,\"item6\":3340,\"kills\":8,\"deaths\":6,\"assists\":22,\"largestKillingSpree\":2,\"largestMultiKill\":2,\"killingSprees\":3,\"longestTimeSpentLiving\":554,\"doubleKills\":1,\"tripleKills\":0,\"quadraKills\":0,\"pentaKills\":0,\"unrealKills\":0,\"totalDamageDealt\":144724,\"magicDamageDealt\":85075,\"physicalDamageDealt\":25367,\"trueDamageDealt\":34280,\"largestCriticalStrike\":26,\"totalDamageDealtToChampions\":18753,\"magicDamageDealtToChampions\":12532,\"physicalDamageDealtToChampions\":2658,\"trueDamageDealtToChampions\":3563,\"totalHeal\":16546,\"totalUnitsHealed\":1,\"damageSelfMitigated\":46269,\"damageDealtToObjectives\":6603,\"damageDealtToTurrets\":0,\"visionScore\":11,\"timeCCingOthers\":47,\"totalDamageTaken\":43343,\"magicalDamageTaken\":11464,\"physicalDamageTaken\":27227,\"trueDamageTaken\":4651,\"goldEarned\":13347,\"goldSpent\":12200,\"turretKills\":0,\"inhibitorKills\":0,\"totalMinionsKilled\":63,\"neutralMinionsKilled\":80,\"neutralMinionsKilledTeamJungle\":65,\"neutralMinionsKilledEnemyJungle\":4,\"totalTimeCrowdControlDealt\":1279,\"champLevel\":17,\"visionWardsBoughtInGame\":0,\"sightWardsBoughtInGame\":0,\"wardsPlaced\":7,\"wardsKilled\":1,\"firstBloodKill\":false,\"firstBloodAssist\":false,\"firstTowerKill\":false,\"firstTowerAssist\":false,\"firstInhibitorKill\":false,\"firstInhibitorAssist\":true,\"combatPlayerScore\":0,\"objectivePlayerScore\":0,\"totalPlayerScore\":0,\"totalScoreRank\":0,\"playerScore0\":0,\"playerScore1\":0,\"playerScore2\":0,\"playerScore3\":0,\"playerScore4\":0,\"playerScore5\":0,\"playerScore6\":0,\"playerScore7\":0,\"playerScore8\":0,\"playerScore9\":0,\"perk0\":8124,\"perk0Var1\":96,\"perk0Var2\":0,\"perk0Var3\":0,\"perk1\":8126,\"perk1Var1\":1095,\"perk1Var2\":0,\"perk1Var3\":0,\"perk2\":8138,\"perk2Var1\":30,\"perk2Var2\":0,\"perk2Var3\":0,\"perk3\":8106,\"perk3Var1\":5,\"perk3Var2\":0,\"perk3Var3\":0,\"perk4\":8473,\"perk4Var1\":849,\"perk4Var2\":0,\"perk4Var3\":0,\"perk5\":8472,\"perk5Var1\":0,\"perk5Var2\":0,\"perk5Var3\":0,\"perkPrimaryStyle\":8100,\"perkSubStyle\":8400},\"timeline\":{\"participantId\":4,\"creepsPerMinDeltas\":{\"10-20\":1.5,\"0-10\":1.9,\"20-30\":2},\"xpPerMinDeltas\":{\"10-20\":503.40000000000003,\"0-10\":354,\"20-30\":579.1},\"goldPerMinDeltas\":{\"10-20\":447.6,\"0-10\":283.4,\"20-30\":415.5},\"csDiffPerMinDeltas\":{\"10-20\":0.6000000000000001,\"0-10\":1.1,\"20-30\":1.9},\"xpDiffPerMinDeltas\":{\"10-20\":34.30000000000004,\"0-10\":33.79999999999998,\"20-30\":26.5},\"damageTakenPerMinDeltas\":{\"10-20\":1164.1,\"0-10\":784,\"20-30\":1480.6},\"damageTakenDiffPerMinDeltas\":{\"10-20\":91.70000000000005,\"0-10\":179.39999999999998,\"20-30\":-281.1},\"role\":\"NONE\",\"lane\":\"JUNGLE\"}},{\"participantId\":5,\"teamId\":100,\"championId\":34,\"spell1Id\":14,\"spell2Id\":4,\"highestAchievedSeasonTier\":\"UNRANKED\",\"stats\":{\"participantId\":5,\"win\":true,\"item0\":3157,\"item1\":3040,\"item2\":1052,\"item3\":3027,\"item4\":0,\"item5\":3047,\"item6\":3363,\"kills\":5,\"deaths\":10,\"assists\":13,\"largestKillingSpree\":3,\"largestMultiKill\":1,\"killingSprees\":1,\"longestTimeSpentLiving\":478,\"doubleKills\":0,\"tripleKills\":0,\"quadraKills\":0,\"pentaKills\":0,\"unrealKills\":0,\"totalDamageDealt\":130155,\"magicDamageDealt\":117415,\"physicalDamageDealt\":8274,\"trueDamageDealt\":4466,\"largestCriticalStrike\":0,\"totalDamageDealtToChampions\":17212,\"magicDamageDealtToChampions\":13957,\"physicalDamageDealtToChampions\":1428,\"trueDamageDealtToChampions\":1826,\"totalHeal\":13254,\"totalUnitsHealed\":1,\"damageSelfMitigated\":18269,\"damageDealtToObjectives\":4303,\"damageDealtToTurrets\":1753,\"visionScore\":42,\"timeCCingOthers\":37,\"totalDamageTaken\":33214,\"magicalDamageTaken\":7891,\"physicalDamageTaken\":24260,\"trueDamageTaken\":1062,\"goldEarned\":12510,\"goldSpent\":11135,\"turretKills\":1,\"inhibitorKills\":0,\"totalMinionsKilled\":170,\"neutralMinionsKilled\":29,\"neutralMinionsKilledTeamJungle\":18,\"neutralMinionsKilledEnemyJungle\":4,\"totalTimeCrowdControlDealt\":2689,\"champLevel\":16,\"visionWardsBoughtInGame\":2,\"sightWardsBoughtInGame\":0,\"wardsPlaced\":16,\"wardsKilled\":3,\"firstBloodKill\":false,\"firstBloodAssist\":false,\"firstTowerKill\":false,\"firstTowerAssist\":false,\"firstInhibitorKill\":false,\"firstInhibitorAssist\":true,\"combatPlayerScore\":0,\"objectivePlayerScore\":0,\"totalPlayerScore\":0,\"totalScoreRank\":0,\"playerScore0\":0,\"playerScore1\":0,\"playerScore2\":0,\"playerScore3\":0,\"playerScore4\":0,\"playerScore5\":0,\"playerScore6\":0,\"playerScore7\":0,\"playerScore8\":0,\"playerScore9\":0,\"perk0\":8112,\"perk0Var1\":1167,\"perk0Var2\":0,\"perk0Var3\":0,\"perk1\":8126,\"perk1Var1\":1057,\"perk1Var2\":0,\"perk1Var3\":0,\"perk2\":8136,\"perk2Var1\":3,\"perk2Var2\":68,\"perk2Var3\":0,\"perk3\":8135,\"perk3Var1\":3071,\"perk3Var2\":5,\"perk3Var3\":0,\"perk4\":8226,\"perk4Var1\":250,\"perk4Var2\":2006,\"perk4Var3\":0,\"perk5\":8237,\"perk5Var1\":359,\"perk5Var2\":0,\"perk5Var3\":0,\"perkPrimaryStyle\":8100,\"perkSubStyle\":8200},\"timeline\":{\"participantId\":5,\"creepsPerMinDeltas\":{\"10-20\":7.300000000000001,\"0-10\":4.7,\"20-30\":3.9},\"xpPerMinDeltas\":{\"10-20\":501.4,\"0-10\":384.5,\"20-30\":539.4},\"goldPerMinDeltas\":{\"10-20\":376.1,\"0-10\":277.2,\"20-30\":399.8},\"csDiffPerMinDeltas\":{\"10-20\":-1.8999999999999995,\"0-10\":-0.6999999999999997,\"20-30\":-1.3},\"xpDiffPerMinDeltas\":{\"10-20\":-136.20000000000002,\"0-10\":-36.999999999999986,\"20-30\":99.49999999999997},\"damageTakenPerMinDeltas\":{\"10-20\":769.5,\"0-10\":561.5,\"20-30\":1277.5},\"damageTakenDiffPerMinDeltas\":{\"10-20\":2.0000000000000284,\"0-10\":165.10000000000002,\"20-30\":113},\"role\":\"SOLO\",\"lane\":\"MIDDLE\"}},{\"participantId\":6,\"teamId\":200,\"championId\":24,\"spell1Id\":11,\"spell2Id\":4,\"highestAchievedSeasonTier\":\"UNRANKED\",\"stats\":{\"participantId\":6,\"win\":false,\"item0\":1413,\"item1\":3194,\"item2\":3078,\"item3\":3111,\"item4\":3052,\"item5\":1037,\"item6\":3340,\"kills\":6,\"deaths\":10,\"assists\":15,\"largestKillingSpree\":2,\"largestMultiKill\":2,\"killingSprees\":2,\"longestTimeSpentLiving\":375,\"doubleKills\":1,\"tripleKills\":0,\"quadraKills\":0,\"pentaKills\":0,\"unrealKills\":0,\"totalDamageDealt\":157363,\"magicDamageDealt\":62505,\"physicalDamageDealt\":86987,\"trueDamageDealt\":7870,\"largestCriticalStrike\":0,\"totalDamageDealtToChampions\":14693,\"magicDamageDealtToChampions\":4578,\"physicalDamageDealtToChampions\":9487,\"trueDamageDealtToChampions\":628,\"totalHeal\":8492,\"totalUnitsHealed\":1,\"damageSelfMitigated\":31053,\"damageDealtToObjectives\":18357,\"damageDealtToTurrets\":0,\"visionScore\":35,\"timeCCingOthers\":27,\"totalDamageTaken\":40279,\"magicalDamageTaken\":13299,\"physicalDamageTaken\":24167,\"trueDamageTaken\":2812,\"goldEarned\":12887,\"goldSpent\":12583,\"turretKills\":0,\"inhibitorKills\":0,\"totalMinionsKilled\":33,\"neutralMinionsKilled\":129,\"neutralMinionsKilledTeamJungle\":82,\"neutralMinionsKilledEnemyJungle\":7,\"totalTimeCrowdControlDealt\":420,\"champLevel\":16,\"visionWardsBoughtInGame\":4,\"sightWardsBoughtInGame\":0,\"wardsPlaced\":11,\"wardsKilled\":5,\"firstBloodKill\":false,\"firstBloodAssist\":false,\"firstTowerKill\":false,\"firstTowerAssist\":false,\"firstInhibitorKill\":false,\"firstInhibitorAssist\":false,\"combatPlayerScore\":0,\"objectivePlayerScore\":0,\"totalPlayerScore\":0,\"totalScoreRank\":0,\"playerScore0\":0,\"playerScore1\":0,\"playerScore2\":0,\"playerScore3\":0,\"playerScore4\":0,\"playerScore5\":0,\"playerScore6\":0,\"playerScore7\":0,\"playerScore8\":0,\"playerScore9\":0,\"perk0\":8005,\"perk0Var1\":1215,\"perk0Var2\":983,\"perk0Var3\":232,\"perk1\":9111,\"perk1Var1\":1678,\"perk1Var2\":420,\"perk1Var3\":0,\"perk2\":9104,\"perk2Var1\":10,\"perk2Var2\":20,\"perk2Var3\":0,\"perk3\":8014,\"perk3Var1\":392,\"perk3Var2\":0,\"perk3Var3\":0,\"perk4\":8234,\"perk4Var1\":15,\"perk4Var2\":0,\"perk4Var3\":0,\"perk5\":8232,\"perk5Var1\":5,\"perk5Var2\":40,\"perk5Var3\":0,\"perkPrimaryStyle\":8000,\"perkSubStyle\":8200},\"timeline\":{\"participantId\":6,\"creepsPerMinDeltas\":{\"10-20\":0.8999999999999999,\"0-10\":0.8,\"20-30\":0.1},\"xpPerMinDeltas\":{\"10-20\":469.1,\"0-10\":320.20000000000005,\"20-30\":552.6},\"goldPerMinDeltas\":{\"10-20\":309.4,\"0-10\":320.70000000000005,\"20-30\":407.3},\"csDiffPerMinDeltas\":{\"10-20\":-0.6000000000000001,\"0-10\":-1.1,\"20-30\":-1.9},\"xpDiffPerMinDeltas\":{\"10-20\":-34.30000000000004,\"0-10\":-33.79999999999998,\"20-30\":-26.5},\"damageTakenPerMinDeltas\":{\"10-20\":1072.4,\"0-10\":604.6,\"20-30\":1761.7},\"damageTakenDiffPerMinDeltas\":{\"10-20\":-91.70000000000005,\"0-10\":-179.39999999999998,\"20-30\":281.1},\"role\":\"NONE\",\"lane\":\"JUNGLE\"}},{\"participantId\":7,\"teamId\":200,\"championId\":16,\"spell1Id\":21,\"spell2Id\":4,\"highestAchievedSeasonTier\":\"PLATINUM\",\"stats\":{\"participantId\":7,\"win\":false,\"item0\":3092,\"item1\":3107,\"item2\":3111,\"item3\":3211,\"item4\":3504,\"item5\":1028,\"item6\":3364,\"kills\":4,\"deaths\":7,\"assists\":19,\"largestKillingSpree\":2,\"largestMultiKill\":2,\"killingSprees\":1,\"longestTimeSpentLiving\":497,\"doubleKills\":1,\"tripleKills\":0,\"quadraKills\":0,\"pentaKills\":0,\"unrealKills\":0,\"totalDamageDealt\":34259,\"magicDamageDealt\":31204,\"physicalDamageDealt\":1512,\"trueDamageDealt\":1542,\"largestCriticalStrike\":0,\"totalDamageDealtToChampions\":12527,\"magicDamageDealtToChampions\":10269,\"physicalDamageDealtToChampions\":742,\"trueDamageDealtToChampions\":1515,\"totalHeal\":24657,\"totalUnitsHealed\":5,\"damageSelfMitigated\":11226,\"damageDealtToObjectives\":356,\"damageDealtToTurrets\":0,\"visionScore\":59,\"timeCCingOthers\":47,\"totalDamageTaken\":24439,\"magicalDamageTaken\":14920,\"physicalDamageTaken\":8503,\"trueDamageTaken\":1016,\"goldEarned\":10414,\"goldSpent\":9325,\"turretKills\":0,\"inhibitorKills\":0,\"totalMinionsKilled\":21,\"neutralMinionsKilled\":0,\"neutralMinionsKilledTeamJungle\":0,\"neutralMinionsKilledEnemyJungle\":0,\"totalTimeCrowdControlDealt\":364,\"champLevel\":17,\"visionWardsBoughtInGame\":3,\"sightWardsBoughtInGame\":0,\"wardsPlaced\":25,\"wardsKilled\":6,\"firstBloodKill\":false,\"firstBloodAssist\":false,\"firstTowerKill\":false,\"firstTowerAssist\":false,\"firstInhibitorKill\":false,\"firstInhibitorAssist\":false,\"combatPlayerScore\":0,\"objectivePlayerScore\":0,\"totalPlayerScore\":0,\"totalScoreRank\":0,\"playerScore0\":0,\"playerScore1\":0,\"playerScore2\":0,\"playerScore3\":0,\"playerScore4\":0,\"playerScore5\":0,\"playerScore6\":0,\"playerScore7\":0,\"playerScore8\":0,\"playerScore9\":0,\"perk0\":8214,\"perk0Var1\":1103,\"perk0Var2\":2033,\"perk0Var3\":0,\"perk1\":8226,\"perk1Var1\":250,\"perk1Var2\":358,\"perk1Var3\":0,\"perk2\":8210,\"perk2Var1\":0,\"perk2Var2\":0,\"perk2Var3\":0,\"perk3\":8237,\"perk3Var1\":526,\"perk3Var2\":0,\"perk3Var3\":0,\"perk4\":9111,\"perk4Var1\":1675,\"perk4Var2\":460,\"perk4Var3\":0,\"perk5\":8014,\"perk5Var1\":208,\"perk5Var2\":0,\"perk5Var3\":0,\"perkPrimaryStyle\":8200,\"perkSubStyle\":8000},\"timeline\":{\"participantId\":7,\"creepsPerMinDeltas\":{\"10-20\":0.6,\"0-10\":0,\"20-30\":0.7},\"xpPerMinDeltas\":{\"10-20\":361.6,\"0-10\":186.60000000000002,\"20-30\":511.3},\"goldPerMinDeltas\":{\"10-20\":229.6,\"0-10\":208.60000000000002,\"20-30\":318.4},\"csDiffPerMinDeltas\":{\"10-20\":-0.25000000000000044,\"0-10\":-0.44999999999999996,\"20-30\":1.3499999999999999},\"xpDiffPerMinDeltas\":{\"10-20\":-31.75,\"0-10\":-103.25000000000003,\"20-30\":56.05000000000001},\"damageTakenPerMinDeltas\":{\"10-20\":532.7,\"0-10\":433.7,\"20-30\":799.6},\"damageTakenDiffPerMinDeltas\":{\"10-20\":214.95000000000002,\"0-10\":-6.449999999999989,\"20-30\":103.89999999999992},\"role\":\"DUO_SUPPORT\",\"lane\":\"BOTTOM\"}},{\"participantId\":8,\"teamId\":200,\"championId\":114,\"spell1Id\":12,\"spell2Id\":4,\"highestAchievedSeasonTier\":\"SILVER\",\"stats\":{\"participantId\":8,\"win\":false,\"item0\":3748,\"item1\":3078,\"item2\":1055,\"item3\":3211,\"item4\":3067,\"item5\":3111,\"item6\":3364,\"kills\":5,\"deaths\":6,\"assists\":2,\"largestKillingSpree\":3,\"largestMultiKill\":1,\"killingSprees\":1,\"longestTimeSpentLiving\":652,\"doubleKills\":0,\"tripleKills\":0,\"quadraKills\":0,\"pentaKills\":0,\"unrealKills\":0,\"totalDamageDealt\":145668,\"magicDamageDealt\":2623,\"physicalDamageDealt\":117776,\"trueDamageDealt\":25268,\"largestCriticalStrike\":469,\"totalDamageDealtToChampions\":13525,\"magicDamageDealtToChampions\":2113,\"physicalDamageDealtToChampions\":8162,\"trueDamageDealtToChampions\":3249,\"totalHeal\":6479,\"totalUnitsHealed\":3,\"damageSelfMitigated\":27551,\"damageDealtToObjectives\":5241,\"damageDealtToTurrets\":365,\"visionScore\":17,\"timeCCingOthers\":9,\"totalDamageTaken\":38964,\"magicalDamageTaken\":25823,\"physicalDamageTaken\":11397,\"trueDamageTaken\":1743,\"goldEarned\":11263,\"goldSpent\":11433,\"turretKills\":0,\"inhibitorKills\":0,\"totalMinionsKilled\":199,\"neutralMinionsKilled\":8,\"neutralMinionsKilledTeamJungle\":3,\"neutralMinionsKilledEnemyJungle\":0,\"totalTimeCrowdControlDealt\":197,\"champLevel\":16,\"visionWardsBoughtInGame\":0,\"sightWardsBoughtInGame\":0,\"wardsPlaced\":7,\"wardsKilled\":0,\"firstBloodKill\":false,\"firstBloodAssist\":false,\"firstTowerKill\":false,\"firstTowerAssist\":false,\"firstInhibitorKill\":false,\"firstInhibitorAssist\":false,\"combatPlayerScore\":0,\"objectivePlayerScore\":0,\"totalPlayerScore\":0,\"totalScoreRank\":0,\"playerScore0\":0,\"playerScore1\":0,\"playerScore2\":0,\"playerScore3\":0,\"playerScore4\":0,\"playerScore5\":0,\"playerScore6\":0,\"playerScore7\":0,\"playerScore8\":0,\"playerScore9\":0,\"perk0\":8437,\"perk0Var1\":1034,\"perk0Var2\":704,\"perk0Var3\":0,\"perk1\":8473,\"perk1Var1\":1126,\"perk1Var2\":0,\"perk1Var3\":0,\"perk2\":8472,\"perk2Var1\":0,\"perk2Var2\":0,\"perk2Var3\":0,\"perk3\":8453,\"perk3Var1\":1189,\"perk3Var2\":75,\"perk3Var3\":0,\"perk4\":8017,\"perk4Var1\":131,\"perk4Var2\":0,\"perk4Var3\":0,\"perk5\":9104,\"perk5Var1\":21,\"perk5Var2\":10,\"perk5Var3\":0,\"perkPrimaryStyle\":8400,\"perkSubStyle\":8000},\"timeline\":{\"participantId\":8,\"creepsPerMinDeltas\":{\"10-20\":7.5,\"0-10\":5.300000000000001,\"20-30\":5.1},\"xpPerMinDeltas\":{\"10-20\":517.6,\"0-10\":397.1,\"20-30\":444.7},\"goldPerMinDeltas\":{\"10-20\":321.5,\"0-10\":247.2,\"20-30\":307.3},\"csDiffPerMinDeltas\":{\"10-20\":-0.7000000000000006,\"0-10\":-1.5999999999999992,\"20-30\":0.6000000000000003},\"xpDiffPerMinDeltas\":{\"10-20\":40.900000000000006,\"0-10\":-31.599999999999994,\"20-30\":-32.80000000000001},\"damageTakenPerMinDeltas\":{\"10-20\":970.6,\"0-10\":591.9,\"20-30\":1468.6},\"damageTakenDiffPerMinDeltas\":{\"10-20\":461.2,\"0-10\":235,\"20-30\":572.3},\"role\":\"SOLO\",\"lane\":\"TOP\"}},{\"participantId\":9,\"teamId\":200,\"championId\":145,\"spell1Id\":7,\"spell2Id\":4,\"highestAchievedSeasonTier\":\"PLATINUM\",\"stats\":{\"participantId\":9,\"win\":false,\"item0\":2420,\"item1\":3111,\"item2\":3124,\"item3\":3102,\"item4\":3115,\"item5\":3095,\"item6\":3363,\"kills\":8,\"deaths\":10,\"assists\":8,\"largestKillingSpree\":2,\"largestMultiKill\":3,\"killingSprees\":4,\"longestTimeSpentLiving\":351,\"doubleKills\":1,\"tripleKills\":1,\"quadraKills\":0,\"pentaKills\":0,\"unrealKills\":0,\"totalDamageDealt\":187877,\"magicDamageDealt\":40456,\"physicalDamageDealt\":143205,\"trueDamageDealt\":4216,\"largestCriticalStrike\":316,\"totalDamageDealtToChampions\":35426,\"magicDamageDealtToChampions\":16380,\"physicalDamageDealtToChampions\":18476,\"trueDamageDealtToChampions\":570,\"totalHeal\":8162,\"totalUnitsHealed\":3,\"damageSelfMitigated\":18739,\"damageDealtToObjectives\":11565,\"damageDealtToTurrets\":1857,\"visionScore\":29,\"timeCCingOthers\":4,\"totalDamageTaken\":30026,\"magicalDamageTaken\":15645,\"physicalDamageTaken\":12611,\"trueDamageTaken\":1769,\"goldEarned\":15128,\"goldSpent\":15000,\"turretKills\":1,\"inhibitorKills\":0,\"totalMinionsKilled\":234,\"neutralMinionsKilled\":28,\"neutralMinionsKilledTeamJungle\":24,\"neutralMinionsKilledEnemyJungle\":0,\"totalTimeCrowdControlDealt\":69,\"champLevel\":16,\"visionWardsBoughtInGame\":0,\"sightWardsBoughtInGame\":0,\"wardsPlaced\":8,\"wardsKilled\":8,\"firstBloodKill\":true,\"firstBloodAssist\":false,\"firstTowerKill\":false,\"firstTowerAssist\":false,\"firstInhibitorKill\":false,\"firstInhibitorAssist\":false,\"combatPlayerScore\":0,\"objectivePlayerScore\":0,\"totalPlayerScore\":0,\"totalScoreRank\":0,\"playerScore0\":0,\"playerScore1\":0,\"playerScore2\":0,\"playerScore3\":0,\"playerScore4\":0,\"playerScore5\":0,\"playerScore6\":0,\"playerScore7\":0,\"playerScore8\":0,\"playerScore9\":0,\"perk0\":8021,\"perk0Var1\":4490,\"perk0Var2\":0,\"perk0Var3\":0,\"perk1\":9111,\"perk1Var1\":807,\"perk1Var2\":320,\"perk1Var3\":0,\"perk2\":9104,\"perk2Var1\":15,\"perk2Var2\":0,\"perk2Var3\":0,\"perk3\":8014,\"perk3Var1\":690,\"perk3Var2\":0,\"perk3Var3\":0,\"perk4\":8234,\"perk4Var1\":42,\"perk4Var2\":0,\"perk4Var3\":0,\"perk5\":8236,\"perk5Var1\":48,\"perk5Var2\":0,\"perk5Var3\":0,\"perkPrimaryStyle\":8000,\"perkSubStyle\":8200},\"timeline\":{\"participantId\":9,\"creepsPerMinDeltas\":{\"10-20\":7.8,\"0-10\":5.5,\"20-30\":9.5},\"xpPerMinDeltas\":{\"10-20\":428.4,\"0-10\":268,\"20-30\":683.6},\"goldPerMinDeltas\":{\"10-20\":400,\"0-10\":309.7,\"20-30\":594.2},\"csDiffPerMinDeltas\":{\"10-20\":-0.25000000000000044,\"0-10\":-0.44999999999999996,\"20-30\":1.3499999999999999},\"xpDiffPerMinDeltas\":{\"10-20\":-31.75,\"0-10\":-103.25000000000003,\"20-30\":56.05000000000001},\"damageTakenPerMinDeltas\":{\"10-20\":800.8,\"0-10\":481.5,\"20-30\":1044.7},\"damageTakenDiffPerMinDeltas\":{\"10-20\":214.95000000000002,\"0-10\":-6.449999999999989,\"20-30\":103.89999999999992},\"role\":\"DUO_CARRY\",\"lane\":\"BOTTOM\"}},{\"participantId\":10,\"teamId\":200,\"championId\":238,\"spell1Id\":4,\"spell2Id\":14,\"highestAchievedSeasonTier\":\"UNRANKED\",\"stats\":{\"participantId\":10,\"win\":false,\"item0\":3142,\"item1\":3156,\"item2\":3071,\"item3\":3147,\"item4\":3026,\"item5\":3111,\"item6\":3364,\"kills\":16,\"deaths\":9,\"assists\":6,\"largestKillingSpree\":6,\"largestMultiKill\":2,\"killingSprees\":3,\"longestTimeSpentLiving\":514,\"doubleKills\":1,\"tripleKills\":0,\"quadraKills\":0,\"pentaKills\":0,\"unrealKills\":0,\"totalDamageDealt\":177425,\"magicDamageDealt\":6093,\"physicalDamageDealt\":167159,\"trueDamageDealt\":4173,\"largestCriticalStrike\":0,\"totalDamageDealtToChampions\":37990,\"magicDamageDealtToChampions\":983,\"physicalDamageDealtToChampions\":35896,\"trueDamageDealtToChampions\":1111,\"totalHeal\":3166,\"totalUnitsHealed\":1,\"damageSelfMitigated\":29466,\"damageDealtToObjectives\":2298,\"damageDealtToTurrets\":2298,\"visionScore\":52,\"timeCCingOthers\":9,\"totalDamageTaken\":31803,\"magicalDamageTaken\":13790,\"physicalDamageTaken\":15618,\"trueDamageTaken\":2394,\"goldEarned\":17378,\"goldSpent\":16900,\"turretKills\":1,\"inhibitorKills\":0,\"totalMinionsKilled\":243,\"neutralMinionsKilled\":12,\"neutralMinionsKilledTeamJungle\":12,\"neutralMinionsKilledEnemyJungle\":0,\"totalTimeCrowdControlDealt\":232,\"champLevel\":17,\"visionWardsBoughtInGame\":5,\"sightWardsBoughtInGame\":0,\"wardsPlaced\":7,\"wardsKilled\":19,\"firstBloodKill\":false,\"firstBloodAssist\":false,\"firstTowerKill\":true,\"firstTowerAssist\":false,\"firstInhibitorKill\":false,\"firstInhibitorAssist\":false,\"combatPlayerScore\":0,\"objectivePlayerScore\":0,\"totalPlayerScore\":0,\"totalScoreRank\":0,\"playerScore0\":0,\"playerScore1\":0,\"playerScore2\":0,\"playerScore3\":0,\"playerScore4\":0,\"playerScore5\":0,\"playerScore6\":0,\"playerScore7\":0,\"playerScore8\":0,\"playerScore9\":0,\"perk0\":8112,\"perk0Var1\":2229,\"perk0Var2\":0,\"perk0Var3\":0,\"perk1\":8139,\"perk1Var1\":2212,\"perk1Var2\":0,\"perk1Var3\":0,\"perk2\":8138,\"perk2Var1\":18,\"perk2Var2\":0,\"perk2Var3\":0,\"perk3\":8106,\"perk3Var1\":5,\"perk3Var2\":0,\"perk3Var3\":0,\"perk4\":8236,\"perk4Var1\":28,\"perk4Var2\":0,\"perk4Var3\":0,\"perk5\":8234,\"perk5Var1\":42,\"perk5Var2\":0,\"perk5Var3\":0,\"perkPrimaryStyle\":8100,\"perkSubStyle\":8200},\"timeline\":{\"participantId\":10,\"creepsPerMinDeltas\":{\"10-20\":9.2,\"0-10\":5.4,\"20-30\":5.2},\"xpPerMinDeltas\":{\"10-20\":637.6,\"0-10\":421.5,\"20-30\":439.9},\"goldPerMinDeltas\":{\"10-20\":648.6,\"0-10\":386.5,\"20-30\":466.4},\"csDiffPerMinDeltas\":{\"10-20\":1.8999999999999995,\"0-10\":0.6999999999999997,\"20-30\":1.3},\"xpDiffPerMinDeltas\":{\"10-20\":136.20000000000002,\"0-10\":36.999999999999986,\"20-30\":-99.49999999999997},\"damageTakenPerMinDeltas\":{\"10-20\":767.5,\"0-10\":396.4,\"20-30\":1164.5},\"damageTakenDiffPerMinDeltas\":{\"10-20\":-2.0000000000000284,\"0-10\":-165.10000000000002,\"20-30\":-113},\"role\":\"SOLO\",\"lane\":\"MIDDLE\"}}],\"participantIdentities\":[{\"participantId\":1,\"player\":{\"platformId\":\"KR\",\"accountId\":1956614301208160,\"summonerName\":\"쥰      스\",\"summonerId\":71790777,\"currentPlatformId\":\"KR\",\"currentAccountId\":1956614301208160,\"matchHistoryUri\":\"/v1/stats/player_history/KR/1956614301208160\",\"profileIcon\":3587}},{\"participantId\":2,\"player\":{\"platformId\":\"KR\",\"accountId\":1383678,\"summonerName\":\"욱 뿌\",\"summonerId\":1872113,\"currentPlatformId\":\"KR\",\"currentAccountId\":1383678,\"matchHistoryUri\":\"/v1/stats/player_history/KR/1383678\",\"profileIcon\":1114}},{\"participantId\":3,\"player\":{\"platformId\":\"KR\",\"accountId\":1265209,\"summonerName\":\"쮸 누\",\"summonerId\":1702545,\"currentPlatformId\":\"KR\",\"currentAccountId\":1265209,\"matchHistoryUri\":\"/v1/stats/player_history/KR/1265209\",\"profileIcon\":982}},{\"participantId\":4,\"player\":{\"platformId\":\"KR\",\"accountId\":5608416,\"summonerName\":\"MingKey\",\"summonerId\":8161422,\"currentPlatformId\":\"KR\",\"currentAccountId\":5608416,\"matchHistoryUri\":\"/v1/stats/player_history/KR/5608416\",\"profileIcon\":3102}},{\"participantId\":5,\"player\":{\"platformId\":\"KR\",\"accountId\":209812639,\"summonerName\":\"큐 미\",\"summonerId\":64111763,\"currentPlatformId\":\"KR\",\"currentAccountId\":209812639,\"matchHistoryUri\":\"/v1/stats/player_history/KR/209812639\",\"profileIcon\":3780}},{\"participantId\":6,\"player\":{\"platformId\":\"kr\",\"accountId\":210541128,\"summonerName\":\"Show of Force\",\"summonerId\":70550143,\"currentPlatformId\":\"KR\",\"currentAccountId\":210541128,\"matchHistoryUri\":\"/v1/stats/player_history/kr/210541128\",\"profileIcon\":1637}},{\"participantId\":7,\"player\":{\"platformId\":\"KR\",\"accountId\":201023943,\"summonerName\":\"냄B뚜껑\",\"summonerId\":13986105,\"currentPlatformId\":\"KR\",\"currentAccountId\":201023943,\"matchHistoryUri\":\"/v1/stats/player_history/KR/201023943\",\"profileIcon\":1387}},{\"participantId\":8,\"player\":{\"platformId\":\"KR\",\"accountId\":200624538,\"summonerName\":\"OurTeamDisorder\",\"summonerId\":12950496,\"currentPlatformId\":\"KR\",\"currentAccountId\":200624538,\"matchHistoryUri\":\"/v1/stats/player_history/KR/200624538\",\"profileIcon\":913}},{\"participantId\":9,\"player\":{\"platformId\":\"KR\",\"accountId\":6702691,\"summonerName\":\"빵 집\",\"summonerId\":9612075,\"currentPlatformId\":\"KR\",\"currentAccountId\":6702691,\"matchHistoryUri\":\"/v1/stats/player_history/KR/6702691\",\"profileIcon\":3018}},{\"participantId\":10,\"player\":{\"platformId\":\"KR\",\"accountId\":203394113,\"summonerName\":\"난 이제 성인\",\"summonerId\":23671981,\"currentPlatformId\":\"KR\",\"currentAccountId\":203394113,\"matchHistoryUri\":\"/v1/stats/player_history/KR/203394113\",\"profileIcon\":3784}}]}'"
      ]
     },
     "execution_count": 8,
     "metadata": {},
     "output_type": "execute_result"
    }
   ],
   "source": [
    "match.text"
   ]
  },
  {
   "cell_type": "code",
   "execution_count": null,
   "metadata": {},
   "outputs": [],
   "source": [
    "len(match['matches'])"
   ]
  },
  {
   "cell_type": "code",
   "execution_count": null,
   "metadata": {
    "scrolled": true
   },
   "outputs": [],
   "source": [
    "[i['seasonId'] for i in match['matches']]"
   ]
  },
  {
   "cell_type": "code",
   "execution_count": null,
   "metadata": {},
   "outputs": [],
   "source": []
  }
 ],
 "metadata": {
  "kernelspec": {
   "display_name": "Python 3",
   "language": "python",
   "name": "python3"
  },
  "language_info": {
   "codemirror_mode": {
    "name": "ipython",
    "version": 3
   },
   "file_extension": ".py",
   "mimetype": "text/x-python",
   "name": "python",
   "nbconvert_exporter": "python",
   "pygments_lexer": "ipython3",
   "version": "3.7.0"
  }
 },
 "nbformat": 4,
 "nbformat_minor": 2
}
